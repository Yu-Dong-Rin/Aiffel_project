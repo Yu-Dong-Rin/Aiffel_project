{
 "cells": [
  {
   "cell_type": "markdown",
   "id": "c804fd03",
   "metadata": {},
   "source": [
    "# 프로젝트 : Iris의 세 가지 품종, 분류해볼 수 있겠어요?\n",
    "## (1) 손글씨를 분류해보기"
   ]
  },
  {
   "cell_type": "markdown",
   "id": "23f07b77",
   "metadata": {},
   "source": [
    "### 1. 필요한 모듈 import하기"
   ]
  },
  {
   "cell_type": "code",
   "execution_count": 1,
   "id": "c7772d18",
   "metadata": {},
   "outputs": [],
   "source": [
    "from sklearn.datasets import load_digits\n",
    "from sklearn.model_selection import train_test_split\n",
    "from sklearn.metrics import classification_report"
   ]
  },
  {
   "cell_type": "markdown",
   "id": "bf132023",
   "metadata": {},
   "source": [
    "### 2. 데이터 준비 & 확인"
   ]
  },
  {
   "cell_type": "code",
   "execution_count": 2,
   "id": "592a62a6",
   "metadata": {},
   "outputs": [
    {
     "data": {
      "text/plain": [
       "dict_keys(['data', 'target', 'frame', 'feature_names', 'target_names', 'images', 'DESCR'])"
      ]
     },
     "execution_count": 2,
     "metadata": {},
     "output_type": "execute_result"
    }
   ],
   "source": [
    "digits = load_digits()\n",
    "digits.keys()"
   ]
  },
  {
   "cell_type": "markdown",
   "id": "94320c7d",
   "metadata": {},
   "source": [
    "### 3. 데이터 이해하기\n",
    "#### Feature Data 지정하기"
   ]
  },
  {
   "cell_type": "code",
   "execution_count": 3,
   "id": "9be9f0b5",
   "metadata": {},
   "outputs": [
    {
     "data": {
      "text/plain": [
       "array([[ 0.,  0.,  5., ...,  0.,  0.,  0.],\n",
       "       [ 0.,  0.,  0., ..., 10.,  0.,  0.],\n",
       "       [ 0.,  0.,  0., ..., 16.,  9.,  0.],\n",
       "       ...,\n",
       "       [ 0.,  0.,  1., ...,  6.,  0.,  0.],\n",
       "       [ 0.,  0.,  2., ..., 12.,  0.,  0.],\n",
       "       [ 0.,  0., 10., ..., 12.,  1.,  0.]])"
      ]
     },
     "execution_count": 3,
     "metadata": {},
     "output_type": "execute_result"
    }
   ],
   "source": [
    "digits_data = digits.data\n",
    "digits_data"
   ]
  },
  {
   "cell_type": "markdown",
   "id": "96e4397b",
   "metadata": {},
   "source": [
    "#### Label Data 지정하기"
   ]
  },
  {
   "cell_type": "code",
   "execution_count": 4,
   "id": "678e5226",
   "metadata": {},
   "outputs": [
    {
     "data": {
      "text/plain": [
       "array([0, 1, 2, ..., 8, 9, 8])"
      ]
     },
     "execution_count": 4,
     "metadata": {},
     "output_type": "execute_result"
    }
   ],
   "source": [
    "digits_label = digits.target\n",
    "digits_label"
   ]
  },
  {
   "cell_type": "markdown",
   "id": "c045c1e6",
   "metadata": {},
   "source": [
    "#### Target Names 출력해보기"
   ]
  },
  {
   "cell_type": "code",
   "execution_count": 5,
   "id": "3ce104c5",
   "metadata": {},
   "outputs": [
    {
     "data": {
      "text/plain": [
       "array([0, 1, 2, 3, 4, 5, 6, 7, 8, 9])"
      ]
     },
     "execution_count": 5,
     "metadata": {},
     "output_type": "execute_result"
    }
   ],
   "source": [
    "digits.target_names"
   ]
  },
  {
   "cell_type": "markdown",
   "id": "eb724db9",
   "metadata": {},
   "source": [
    "#### 데이터 Describe 해보기"
   ]
  },
  {
   "cell_type": "code",
   "execution_count": 6,
   "id": "a9f584d2",
   "metadata": {},
   "outputs": [
    {
     "data": {
      "text/plain": [
       "\".. _digits_dataset:\\n\\nOptical recognition of handwritten digits dataset\\n--------------------------------------------------\\n\\n**Data Set Characteristics:**\\n\\n    :Number of Instances: 1797\\n    :Number of Attributes: 64\\n    :Attribute Information: 8x8 image of integer pixels in the range 0..16.\\n    :Missing Attribute Values: None\\n    :Creator: E. Alpaydin (alpaydin '@' boun.edu.tr)\\n    :Date: July; 1998\\n\\nThis is a copy of the test set of the UCI ML hand-written digits datasets\\nhttps://archive.ics.uci.edu/ml/datasets/Optical+Recognition+of+Handwritten+Digits\\n\\nThe data set contains images of hand-written digits: 10 classes where\\neach class refers to a digit.\\n\\nPreprocessing programs made available by NIST were used to extract\\nnormalized bitmaps of handwritten digits from a preprinted form. From a\\ntotal of 43 people, 30 contributed to the training set and different 13\\nto the test set. 32x32 bitmaps are divided into nonoverlapping blocks of\\n4x4 and the number of on pixels are counted in each block. This generates\\nan input matrix of 8x8 where each element is an integer in the range\\n0..16. This reduces dimensionality and gives invariance to small\\ndistortions.\\n\\nFor info on NIST preprocessing routines, see M. D. Garris, J. L. Blue, G.\\nT. Candela, D. L. Dimmick, J. Geist, P. J. Grother, S. A. Janet, and C.\\nL. Wilson, NIST Form-Based Handprint Recognition System, NISTIR 5469,\\n1994.\\n\\n.. topic:: References\\n\\n  - C. Kaynak (1995) Methods of Combining Multiple Classifiers and Their\\n    Applications to Handwritten Digit Recognition, MSc Thesis, Institute of\\n    Graduate Studies in Science and Engineering, Bogazici University.\\n  - E. Alpaydin, C. Kaynak (1998) Cascading Classifiers, Kybernetika.\\n  - Ken Tang and Ponnuthurai N. Suganthan and Xi Yao and A. Kai Qin.\\n    Linear dimensionalityreduction using relevance weighted LDA. School of\\n    Electrical and Electronic Engineering Nanyang Technological University.\\n    2005.\\n  - Claudio Gentile. A New Approximate Maximal Margin Classification\\n    Algorithm. NIPS. 2000.\\n\""
      ]
     },
     "execution_count": 6,
     "metadata": {},
     "output_type": "execute_result"
    }
   ],
   "source": [
    "digits.DESCR #데이터 간단요약정리!!"
   ]
  },
  {
   "cell_type": "markdown",
   "id": "87dc8f03",
   "metadata": {},
   "source": [
    "### 4. train, test 데이터 분리"
   ]
  },
  {
   "cell_type": "code",
   "execution_count": 7,
   "id": "7e4e07f1",
   "metadata": {},
   "outputs": [],
   "source": [
    "# X_train, X_test, y_train, y_test를 생성\n",
    "X_train, X_test, y_train, y_test = train_test_split(digits_data, \n",
    "                                                    digits_label, \n",
    "                                                    test_size=0.2, \n",
    "                                                    random_state=1)"
   ]
  },
  {
   "cell_type": "markdown",
   "id": "c4fe70ec",
   "metadata": {},
   "source": [
    "### 5. 다양한 모델로 학습시켜보기\n",
    "#### Decision tree"
   ]
  },
  {
   "cell_type": "code",
   "execution_count": 8,
   "id": "3583c621",
   "metadata": {},
   "outputs": [
    {
     "data": {
      "text/plain": [
       "0.8388888888888889"
      ]
     },
     "execution_count": 8,
     "metadata": {},
     "output_type": "execute_result"
    }
   ],
   "source": [
    "from sklearn.tree import DecisionTreeClassifier\n",
    "from sklearn.metrics import accuracy_score\n",
    "\n",
    "#의사결정트리 정의 & 학습\n",
    "decision_tree = DecisionTreeClassifier(random_state=1)\n",
    "decision_tree.fit(X_train, y_train)\n",
    "\n",
    "#의사결정트리 예측\n",
    "y_pred_dt = decision_tree.predict(X_test)\n",
    "\n",
    "#정확도\n",
    "acc = accuracy_score(y_test, y_pred_dt)\n",
    "acc"
   ]
  },
  {
   "cell_type": "markdown",
   "id": "297a04c8",
   "metadata": {},
   "source": [
    "#### Random Forest"
   ]
  },
  {
   "cell_type": "code",
   "execution_count": 9,
   "id": "82c79cb4",
   "metadata": {},
   "outputs": [
    {
     "data": {
      "text/plain": [
       "0.9833333333333333"
      ]
     },
     "execution_count": 9,
     "metadata": {},
     "output_type": "execute_result"
    }
   ],
   "source": [
    "from sklearn.ensemble import RandomForestClassifier\n",
    "from sklearn.metrics import accuracy_score\n",
    "\n",
    "random_forest = RandomForestClassifier(random_state=1)\n",
    "random_forest.fit(X_train, y_train)\n",
    "\n",
    "y_pred_rf = random_forest.predict(X_test)\n",
    "\n",
    "acc = accuracy_score(y_test, y_pred_rf)\n",
    "acc"
   ]
  },
  {
   "cell_type": "markdown",
   "id": "1c202f10",
   "metadata": {},
   "source": [
    "#### SVM"
   ]
  },
  {
   "cell_type": "code",
   "execution_count": 10,
   "id": "c92a3338",
   "metadata": {},
   "outputs": [
    {
     "data": {
      "text/plain": [
       "0.9916666666666667"
      ]
     },
     "execution_count": 10,
     "metadata": {},
     "output_type": "execute_result"
    }
   ],
   "source": [
    "from sklearn import svm\n",
    "from sklearn.metrics import accuracy_score\n",
    "\n",
    "svm_model = svm.SVC(random_state=1)\n",
    "svm_model.fit(X_train, y_train)\n",
    "\n",
    "y_pred_svm = svm_model.predict(X_test)\n",
    "\n",
    "acc = accuracy_score(y_test, y_pred_svm)\n",
    "acc"
   ]
  },
  {
   "cell_type": "markdown",
   "id": "0d15a144",
   "metadata": {},
   "source": [
    "#### SGD Classifier"
   ]
  },
  {
   "cell_type": "code",
   "execution_count": 11,
   "id": "4d1384e6",
   "metadata": {},
   "outputs": [
    {
     "data": {
      "text/plain": [
       "0.9472222222222222"
      ]
     },
     "execution_count": 11,
     "metadata": {},
     "output_type": "execute_result"
    }
   ],
   "source": [
    "from sklearn.linear_model import SGDClassifier\n",
    "from sklearn.metrics import accuracy_score\n",
    "\n",
    "sgd_model = SGDClassifier(random_state=1)\n",
    "sgd_model.fit(X_train, y_train)\n",
    "\n",
    "y_pred_sgd = sgd_model.predict(X_test)\n",
    "\n",
    "acc = accuracy_score(y_test, y_pred_sgd)\n",
    "acc"
   ]
  },
  {
   "cell_type": "markdown",
   "id": "21c2fc23",
   "metadata": {},
   "source": [
    "#### Logistic Regression"
   ]
  },
  {
   "cell_type": "code",
   "execution_count": 12,
   "id": "8d365ae5",
   "metadata": {},
   "outputs": [
    {
     "data": {
      "text/plain": [
       "0.9722222222222222"
      ]
     },
     "execution_count": 12,
     "metadata": {},
     "output_type": "execute_result"
    }
   ],
   "source": [
    "from sklearn.linear_model import LogisticRegression\n",
    "from sklearn.metrics import accuracy_score\n",
    "\n",
    "logistic_model = LogisticRegression(max_iter = 3000, random_state=1)\n",
    "logistic_model.fit(X_train, y_train)\n",
    "\n",
    "y_pred_log = logistic_model.predict(X_test)\n",
    "\n",
    "acc = accuracy_score(y_test, y_pred_log)\n",
    "acc"
   ]
  },
  {
   "cell_type": "markdown",
   "id": "44da67ae",
   "metadata": {},
   "source": [
    "### 6. 모델을 평가해 보기"
   ]
  },
  {
   "cell_type": "code",
   "execution_count": 13,
   "id": "05c84a97",
   "metadata": {},
   "outputs": [
    {
     "name": "stdout",
     "output_type": "stream",
     "text": [
      "Decision Tree\n",
      "              precision    recall  f1-score   support\n",
      "\n",
      "           0       1.00      0.93      0.96        43\n",
      "           1       0.91      0.83      0.87        35\n",
      "           2       0.83      0.83      0.83        36\n",
      "           3       0.78      0.71      0.74        41\n",
      "           4       0.82      0.84      0.83        38\n",
      "           5       0.78      0.97      0.87        30\n",
      "           6       0.88      0.97      0.92        37\n",
      "           7       0.78      0.76      0.77        37\n",
      "           8       0.83      0.86      0.85        29\n",
      "           9       0.75      0.71      0.73        34\n",
      "\n",
      "    accuracy                           0.84       360\n",
      "   macro avg       0.84      0.84      0.84       360\n",
      "weighted avg       0.84      0.84      0.84       360\n",
      "\n",
      "------------------------------------------------------\n",
      "\n",
      "Random Forest\n",
      "              precision    recall  f1-score   support\n",
      "\n",
      "           0       0.98      0.95      0.96        43\n",
      "           1       1.00      1.00      1.00        35\n",
      "           2       1.00      1.00      1.00        36\n",
      "           3       1.00      0.98      0.99        41\n",
      "           4       0.95      1.00      0.97        38\n",
      "           5       0.97      1.00      0.98        30\n",
      "           6       1.00      1.00      1.00        37\n",
      "           7       1.00      0.97      0.99        37\n",
      "           8       1.00      0.97      0.98        29\n",
      "           9       0.94      0.97      0.96        34\n",
      "\n",
      "    accuracy                           0.98       360\n",
      "   macro avg       0.98      0.98      0.98       360\n",
      "weighted avg       0.98      0.98      0.98       360\n",
      "\n",
      "------------------------------------------------------\n",
      "\n",
      "SVM\n",
      "              precision    recall  f1-score   support\n",
      "\n",
      "           0       1.00      1.00      1.00        43\n",
      "           1       1.00      1.00      1.00        35\n",
      "           2       1.00      1.00      1.00        36\n",
      "           3       1.00      1.00      1.00        41\n",
      "           4       1.00      1.00      1.00        38\n",
      "           5       0.97      1.00      0.98        30\n",
      "           6       1.00      1.00      1.00        37\n",
      "           7       1.00      0.97      0.99        37\n",
      "           8       1.00      0.97      0.98        29\n",
      "           9       0.94      0.97      0.96        34\n",
      "\n",
      "    accuracy                           0.99       360\n",
      "   macro avg       0.99      0.99      0.99       360\n",
      "weighted avg       0.99      0.99      0.99       360\n",
      "\n",
      "------------------------------------------------------\n",
      "\n",
      "SGD Classifier\n",
      "              precision    recall  f1-score   support\n",
      "\n",
      "           0       1.00      0.95      0.98        43\n",
      "           1       1.00      0.80      0.89        35\n",
      "           2       1.00      1.00      1.00        36\n",
      "           3       1.00      0.90      0.95        41\n",
      "           4       0.97      1.00      0.99        38\n",
      "           5       0.94      1.00      0.97        30\n",
      "           6       0.97      1.00      0.99        37\n",
      "           7       1.00      0.95      0.97        37\n",
      "           8       0.68      0.97      0.80        29\n",
      "           9       0.94      0.91      0.93        34\n",
      "\n",
      "    accuracy                           0.95       360\n",
      "   macro avg       0.95      0.95      0.95       360\n",
      "weighted avg       0.96      0.95      0.95       360\n",
      "\n",
      "------------------------------------------------------\n",
      "\n",
      "Logistic Regression\n",
      "              precision    recall  f1-score   support\n",
      "\n",
      "           0       1.00      0.98      0.99        43\n",
      "           1       0.97      1.00      0.99        35\n",
      "           2       1.00      1.00      1.00        36\n",
      "           3       0.98      0.98      0.98        41\n",
      "           4       0.95      1.00      0.97        38\n",
      "           5       0.88      0.93      0.90        30\n",
      "           6       1.00      1.00      1.00        37\n",
      "           7       1.00      0.95      0.97        37\n",
      "           8       0.93      0.93      0.93        29\n",
      "           9       1.00      0.94      0.97        34\n",
      "\n",
      "    accuracy                           0.97       360\n",
      "   macro avg       0.97      0.97      0.97       360\n",
      "weighted avg       0.97      0.97      0.97       360\n",
      "\n"
     ]
    }
   ],
   "source": [
    "from sklearn.metrics import classification_report\n",
    "\n",
    "print(\"Decision Tree\")\n",
    "print(classification_report(y_test, y_pred_dt))\n",
    "print(\"------------------------------------------------------\")\n",
    "print()\n",
    "\n",
    "print(\"Random Forest\")\n",
    "print(classification_report(y_test, y_pred_rf))\n",
    "print(\"------------------------------------------------------\")\n",
    "print()\n",
    "\n",
    "print(\"SVM\")\n",
    "print(classification_report(y_test, y_pred_svm))\n",
    "print(\"------------------------------------------------------\")\n",
    "print()\n",
    "\n",
    "print(\"SGD Classifier\")\n",
    "print(classification_report(y_test, y_pred_sgd))\n",
    "print(\"------------------------------------------------------\")\n",
    "print()\n",
    "\n",
    "print(\"Logistic Regression\")\n",
    "print(classification_report(y_test, y_pred_log))"
   ]
  },
  {
   "cell_type": "markdown",
   "id": "a4658de0",
   "metadata": {},
   "source": [
    "- Decision Tree를 제외한 나머지 4개의 모델은 90% 이상의 정확도를 보여주었다.\n",
    "- confusion_matrix를 확인해 본 결과 다른 모델에 비해서 대체적으로 오답률이 높다는 것을 알 수 있다.\n",
    "\n",
    "### 손글씨 이미지 데이터는 SVM 모델을 사용했을 때 정확도 약 99.16%로 모델의 성능이 가장 높게 나온다."
   ]
  },
  {
   "cell_type": "markdown",
   "id": "3dee9ad3",
   "metadata": {},
   "source": [
    "###  "
   ]
  },
  {
   "cell_type": "markdown",
   "id": "f38d499e",
   "metadata": {},
   "source": [
    "## (2) 와인 분류하기"
   ]
  },
  {
   "cell_type": "markdown",
   "id": "1af8a295",
   "metadata": {},
   "source": [
    "### 1. 필요한 모듈 import하기"
   ]
  },
  {
   "cell_type": "code",
   "execution_count": 14,
   "id": "92a8e0b2",
   "metadata": {},
   "outputs": [],
   "source": [
    "from sklearn.datasets import load_wine\n",
    "from sklearn.model_selection import train_test_split\n",
    "from sklearn.metrics import classification_report"
   ]
  },
  {
   "cell_type": "markdown",
   "id": "4009cfee",
   "metadata": {},
   "source": [
    "### 2. 데이터 준비"
   ]
  },
  {
   "cell_type": "code",
   "execution_count": 15,
   "id": "27437910",
   "metadata": {},
   "outputs": [
    {
     "data": {
      "text/plain": [
       "dict_keys(['data', 'target', 'frame', 'target_names', 'DESCR', 'feature_names'])"
      ]
     },
     "execution_count": 15,
     "metadata": {},
     "output_type": "execute_result"
    }
   ],
   "source": [
    "wine = load_wine()\n",
    "wine.keys()"
   ]
  },
  {
   "cell_type": "markdown",
   "id": "83a373a3",
   "metadata": {},
   "source": [
    "### 3. 데이터 이해하기\n",
    "#### Feature Data 지정하기"
   ]
  },
  {
   "cell_type": "code",
   "execution_count": 16,
   "id": "03b79654",
   "metadata": {},
   "outputs": [
    {
     "data": {
      "text/plain": [
       "array([[1.423e+01, 1.710e+00, 2.430e+00, ..., 1.040e+00, 3.920e+00,\n",
       "        1.065e+03],\n",
       "       [1.320e+01, 1.780e+00, 2.140e+00, ..., 1.050e+00, 3.400e+00,\n",
       "        1.050e+03],\n",
       "       [1.316e+01, 2.360e+00, 2.670e+00, ..., 1.030e+00, 3.170e+00,\n",
       "        1.185e+03],\n",
       "       ...,\n",
       "       [1.327e+01, 4.280e+00, 2.260e+00, ..., 5.900e-01, 1.560e+00,\n",
       "        8.350e+02],\n",
       "       [1.317e+01, 2.590e+00, 2.370e+00, ..., 6.000e-01, 1.620e+00,\n",
       "        8.400e+02],\n",
       "       [1.413e+01, 4.100e+00, 2.740e+00, ..., 6.100e-01, 1.600e+00,\n",
       "        5.600e+02]])"
      ]
     },
     "execution_count": 16,
     "metadata": {},
     "output_type": "execute_result"
    }
   ],
   "source": [
    "wine_data = wine.data\n",
    "wine_data"
   ]
  },
  {
   "cell_type": "markdown",
   "id": "1a48849d",
   "metadata": {},
   "source": [
    "#### Label Data 지정하기"
   ]
  },
  {
   "cell_type": "code",
   "execution_count": 17,
   "id": "0ad5421b",
   "metadata": {},
   "outputs": [
    {
     "data": {
      "text/plain": [
       "array([0, 0, 0, 0, 0, 0, 0, 0, 0, 0, 0, 0, 0, 0, 0, 0, 0, 0, 0, 0, 0, 0,\n",
       "       0, 0, 0, 0, 0, 0, 0, 0, 0, 0, 0, 0, 0, 0, 0, 0, 0, 0, 0, 0, 0, 0,\n",
       "       0, 0, 0, 0, 0, 0, 0, 0, 0, 0, 0, 0, 0, 0, 0, 1, 1, 1, 1, 1, 1, 1,\n",
       "       1, 1, 1, 1, 1, 1, 1, 1, 1, 1, 1, 1, 1, 1, 1, 1, 1, 1, 1, 1, 1, 1,\n",
       "       1, 1, 1, 1, 1, 1, 1, 1, 1, 1, 1, 1, 1, 1, 1, 1, 1, 1, 1, 1, 1, 1,\n",
       "       1, 1, 1, 1, 1, 1, 1, 1, 1, 1, 1, 1, 1, 1, 1, 1, 1, 1, 1, 1, 2, 2,\n",
       "       2, 2, 2, 2, 2, 2, 2, 2, 2, 2, 2, 2, 2, 2, 2, 2, 2, 2, 2, 2, 2, 2,\n",
       "       2, 2, 2, 2, 2, 2, 2, 2, 2, 2, 2, 2, 2, 2, 2, 2, 2, 2, 2, 2, 2, 2,\n",
       "       2, 2])"
      ]
     },
     "execution_count": 17,
     "metadata": {},
     "output_type": "execute_result"
    }
   ],
   "source": [
    "wine_label = wine.target\n",
    "wine_label"
   ]
  },
  {
   "cell_type": "markdown",
   "id": "3674f223",
   "metadata": {},
   "source": [
    "#### Target Names 출력해보기"
   ]
  },
  {
   "cell_type": "code",
   "execution_count": 18,
   "id": "b9d421c0",
   "metadata": {},
   "outputs": [
    {
     "data": {
      "text/plain": [
       "array(['class_0', 'class_1', 'class_2'], dtype='<U7')"
      ]
     },
     "execution_count": 18,
     "metadata": {},
     "output_type": "execute_result"
    }
   ],
   "source": [
    "wine.target_names"
   ]
  },
  {
   "cell_type": "markdown",
   "id": "3da53705",
   "metadata": {},
   "source": [
    "#### 데이터 Describe 해보기"
   ]
  },
  {
   "cell_type": "code",
   "execution_count": 19,
   "id": "567fb050",
   "metadata": {},
   "outputs": [
    {
     "data": {
      "text/plain": [
       "'.. _wine_dataset:\\n\\nWine recognition dataset\\n------------------------\\n\\n**Data Set Characteristics:**\\n\\n    :Number of Instances: 178 (50 in each of three classes)\\n    :Number of Attributes: 13 numeric, predictive attributes and the class\\n    :Attribute Information:\\n \\t\\t- Alcohol\\n \\t\\t- Malic acid\\n \\t\\t- Ash\\n\\t\\t- Alcalinity of ash  \\n \\t\\t- Magnesium\\n\\t\\t- Total phenols\\n \\t\\t- Flavanoids\\n \\t\\t- Nonflavanoid phenols\\n \\t\\t- Proanthocyanins\\n\\t\\t- Color intensity\\n \\t\\t- Hue\\n \\t\\t- OD280/OD315 of diluted wines\\n \\t\\t- Proline\\n\\n    - class:\\n            - class_0\\n            - class_1\\n            - class_2\\n\\t\\t\\n    :Summary Statistics:\\n    \\n    ============================= ==== ===== ======= =====\\n                                   Min   Max   Mean     SD\\n    ============================= ==== ===== ======= =====\\n    Alcohol:                      11.0  14.8    13.0   0.8\\n    Malic Acid:                   0.74  5.80    2.34  1.12\\n    Ash:                          1.36  3.23    2.36  0.27\\n    Alcalinity of Ash:            10.6  30.0    19.5   3.3\\n    Magnesium:                    70.0 162.0    99.7  14.3\\n    Total Phenols:                0.98  3.88    2.29  0.63\\n    Flavanoids:                   0.34  5.08    2.03  1.00\\n    Nonflavanoid Phenols:         0.13  0.66    0.36  0.12\\n    Proanthocyanins:              0.41  3.58    1.59  0.57\\n    Colour Intensity:              1.3  13.0     5.1   2.3\\n    Hue:                          0.48  1.71    0.96  0.23\\n    OD280/OD315 of diluted wines: 1.27  4.00    2.61  0.71\\n    Proline:                       278  1680     746   315\\n    ============================= ==== ===== ======= =====\\n\\n    :Missing Attribute Values: None\\n    :Class Distribution: class_0 (59), class_1 (71), class_2 (48)\\n    :Creator: R.A. Fisher\\n    :Donor: Michael Marshall (MARSHALL%PLU@io.arc.nasa.gov)\\n    :Date: July, 1988\\n\\nThis is a copy of UCI ML Wine recognition datasets.\\nhttps://archive.ics.uci.edu/ml/machine-learning-databases/wine/wine.data\\n\\nThe data is the results of a chemical analysis of wines grown in the same\\nregion in Italy by three different cultivators. There are thirteen different\\nmeasurements taken for different constituents found in the three types of\\nwine.\\n\\nOriginal Owners: \\n\\nForina, M. et al, PARVUS - \\nAn Extendible Package for Data Exploration, Classification and Correlation. \\nInstitute of Pharmaceutical and Food Analysis and Technologies,\\nVia Brigata Salerno, 16147 Genoa, Italy.\\n\\nCitation:\\n\\nLichman, M. (2013). UCI Machine Learning Repository\\n[https://archive.ics.uci.edu/ml]. Irvine, CA: University of California,\\nSchool of Information and Computer Science. \\n\\n.. topic:: References\\n\\n  (1) S. Aeberhard, D. Coomans and O. de Vel, \\n  Comparison of Classifiers in High Dimensional Settings, \\n  Tech. Rep. no. 92-02, (1992), Dept. of Computer Science and Dept. of  \\n  Mathematics and Statistics, James Cook University of North Queensland. \\n  (Also submitted to Technometrics). \\n\\n  The data was used with many others for comparing various \\n  classifiers. The classes are separable, though only RDA \\n  has achieved 100% correct classification. \\n  (RDA : 100%, QDA 99.4%, LDA 98.9%, 1NN 96.1% (z-transformed data)) \\n  (All results using the leave-one-out technique) \\n\\n  (2) S. Aeberhard, D. Coomans and O. de Vel, \\n  \"THE CLASSIFICATION PERFORMANCE OF RDA\" \\n  Tech. Rep. no. 92-01, (1992), Dept. of Computer Science and Dept. of \\n  Mathematics and Statistics, James Cook University of North Queensland. \\n  (Also submitted to Journal of Chemometrics).\\n'"
      ]
     },
     "execution_count": 19,
     "metadata": {},
     "output_type": "execute_result"
    }
   ],
   "source": [
    "wine.DESCR"
   ]
  },
  {
   "cell_type": "markdown",
   "id": "881a05ca",
   "metadata": {},
   "source": [
    "### 4. train, test 데이터 분리"
   ]
  },
  {
   "cell_type": "code",
   "execution_count": 20,
   "id": "8708b552",
   "metadata": {},
   "outputs": [],
   "source": [
    "X_train, X_test, y_train, y_test = train_test_split(wine_data, \n",
    "                                                    wine_label, \n",
    "                                                    test_size=0.2, \n",
    "                                                    random_state=2)"
   ]
  },
  {
   "cell_type": "markdown",
   "id": "15d7f590",
   "metadata": {},
   "source": [
    "### 5. 다양한 모델로 학습시켜보기\n",
    "#### Decision tree"
   ]
  },
  {
   "cell_type": "code",
   "execution_count": 21,
   "id": "8e4087be",
   "metadata": {},
   "outputs": [
    {
     "data": {
      "text/plain": [
       "0.9444444444444444"
      ]
     },
     "execution_count": 21,
     "metadata": {},
     "output_type": "execute_result"
    }
   ],
   "source": [
    "from sklearn.tree import DecisionTreeClassifier\n",
    "from sklearn.metrics import accuracy_score\n",
    "\n",
    "decision_tree = DecisionTreeClassifier(random_state=2)\n",
    "decision_tree.fit(X_train, y_train)\n",
    "\n",
    "y_pred_dt = decision_tree.predict(X_test)\n",
    "\n",
    "acc = accuracy_score(y_test, y_pred_dt)\n",
    "acc"
   ]
  },
  {
   "cell_type": "markdown",
   "id": "6d9f67f5",
   "metadata": {},
   "source": [
    "#### Random Forest"
   ]
  },
  {
   "cell_type": "code",
   "execution_count": 22,
   "id": "9266dc3a",
   "metadata": {},
   "outputs": [
    {
     "data": {
      "text/plain": [
       "1.0"
      ]
     },
     "execution_count": 22,
     "metadata": {},
     "output_type": "execute_result"
    }
   ],
   "source": [
    "from sklearn.ensemble import RandomForestClassifier\n",
    "from sklearn.metrics import accuracy_score\n",
    "\n",
    "random_forest = RandomForestClassifier(random_state=2)\n",
    "random_forest.fit(X_train, y_train)\n",
    "\n",
    "y_pred_rf = random_forest.predict(X_test)\n",
    "\n",
    "acc = accuracy_score(y_test, y_pred_rf)\n",
    "acc"
   ]
  },
  {
   "cell_type": "markdown",
   "id": "063b6320",
   "metadata": {},
   "source": [
    "#### SVM"
   ]
  },
  {
   "cell_type": "code",
   "execution_count": 23,
   "id": "b69464c3",
   "metadata": {},
   "outputs": [
    {
     "data": {
      "text/plain": [
       "0.6944444444444444"
      ]
     },
     "execution_count": 23,
     "metadata": {},
     "output_type": "execute_result"
    }
   ],
   "source": [
    "from sklearn import svm\n",
    "from sklearn.metrics import accuracy_score\n",
    "\n",
    "svm_model = svm.SVC(random_state=2)\n",
    "svm_model.fit(X_train, y_train)\n",
    "\n",
    "y_pred_svm = svm_model.predict(X_test)\n",
    "\n",
    "acc = accuracy_score(y_test, y_pred_svm)\n",
    "acc"
   ]
  },
  {
   "cell_type": "markdown",
   "id": "c4f1a577",
   "metadata": {},
   "source": [
    "#### SGD Classifier"
   ]
  },
  {
   "cell_type": "code",
   "execution_count": 24,
   "id": "b98b6c12",
   "metadata": {},
   "outputs": [
    {
     "data": {
      "text/plain": [
       "0.75"
      ]
     },
     "execution_count": 24,
     "metadata": {},
     "output_type": "execute_result"
    }
   ],
   "source": [
    "from sklearn.linear_model import SGDClassifier\n",
    "from sklearn.metrics import accuracy_score\n",
    "\n",
    "sgd_model = SGDClassifier(random_state=2)\n",
    "sgd_model.fit(X_train, y_train)\n",
    "\n",
    "y_pred_sgd = sgd_model.predict(X_test)\n",
    "\n",
    "acc = accuracy_score(y_test, y_pred_sgd)\n",
    "acc"
   ]
  },
  {
   "cell_type": "markdown",
   "id": "8bc50b9e",
   "metadata": {},
   "source": [
    "#### Logistic Regression"
   ]
  },
  {
   "cell_type": "code",
   "execution_count": 25,
   "id": "3b908965",
   "metadata": {},
   "outputs": [
    {
     "data": {
      "text/plain": [
       "0.9444444444444444"
      ]
     },
     "execution_count": 25,
     "metadata": {},
     "output_type": "execute_result"
    }
   ],
   "source": [
    "from sklearn.linear_model import LogisticRegression\n",
    "from sklearn.metrics import accuracy_score\n",
    "\n",
    "logistic_model = LogisticRegression(max_iter = 3000, random_state=2)\n",
    "logistic_model.fit(X_train, y_train)\n",
    "\n",
    "y_pred_log = logistic_model.predict(X_test)\n",
    "\n",
    "acc = accuracy_score(y_test, y_pred_log)\n",
    "acc"
   ]
  },
  {
   "cell_type": "markdown",
   "id": "b396cbcc",
   "metadata": {},
   "source": [
    "### 6. 모델을 평가해 보기"
   ]
  },
  {
   "cell_type": "code",
   "execution_count": 26,
   "id": "fd7386cd",
   "metadata": {},
   "outputs": [
    {
     "name": "stdout",
     "output_type": "stream",
     "text": [
      "Decision Tree\n",
      "              precision    recall  f1-score   support\n",
      "\n",
      "           0       1.00      0.89      0.94        18\n",
      "           1       0.82      1.00      0.90         9\n",
      "           2       1.00      1.00      1.00         9\n",
      "\n",
      "    accuracy                           0.94        36\n",
      "   macro avg       0.94      0.96      0.95        36\n",
      "weighted avg       0.95      0.94      0.95        36\n",
      "\n",
      "------------------------------------------------------\n",
      "\n",
      "Random Forest\n",
      "              precision    recall  f1-score   support\n",
      "\n",
      "           0       1.00      1.00      1.00        18\n",
      "           1       1.00      1.00      1.00         9\n",
      "           2       1.00      1.00      1.00         9\n",
      "\n",
      "    accuracy                           1.00        36\n",
      "   macro avg       1.00      1.00      1.00        36\n",
      "weighted avg       1.00      1.00      1.00        36\n",
      "\n",
      "------------------------------------------------------\n",
      "\n",
      "SVM\n",
      "              precision    recall  f1-score   support\n",
      "\n",
      "           0       0.94      0.89      0.91        18\n",
      "           1       0.53      1.00      0.69         9\n",
      "           2       0.00      0.00      0.00         9\n",
      "\n",
      "    accuracy                           0.69        36\n",
      "   macro avg       0.49      0.63      0.54        36\n",
      "weighted avg       0.60      0.69      0.63        36\n",
      "\n",
      "------------------------------------------------------\n",
      "\n",
      "SGD Classifier\n",
      "              precision    recall  f1-score   support\n",
      "\n",
      "           0       1.00      0.83      0.91        18\n",
      "           1       0.62      0.89      0.73         9\n",
      "           2       0.50      0.44      0.47         9\n",
      "\n",
      "    accuracy                           0.75        36\n",
      "   macro avg       0.71      0.72      0.70        36\n",
      "weighted avg       0.78      0.75      0.75        36\n",
      "\n",
      "------------------------------------------------------\n",
      "\n",
      "Logistic Regression\n",
      "              precision    recall  f1-score   support\n",
      "\n",
      "           0       1.00      0.94      0.97        18\n",
      "           1       0.82      1.00      0.90         9\n",
      "           2       1.00      0.89      0.94         9\n",
      "\n",
      "    accuracy                           0.94        36\n",
      "   macro avg       0.94      0.94      0.94        36\n",
      "weighted avg       0.95      0.94      0.95        36\n",
      "\n"
     ]
    }
   ],
   "source": [
    "from sklearn.metrics import classification_report\n",
    "\n",
    "print(\"Decision Tree\")\n",
    "print(classification_report(y_test, y_pred_dt))\n",
    "print(\"------------------------------------------------------\")\n",
    "print()\n",
    "\n",
    "print(\"Random Forest\")\n",
    "print(classification_report(y_test, y_pred_rf))\n",
    "print(\"------------------------------------------------------\")\n",
    "print()\n",
    "\n",
    "print(\"SVM\")\n",
    "print(classification_report(y_test, y_pred_svm))\n",
    "print(\"------------------------------------------------------\")\n",
    "print()\n",
    "\n",
    "print(\"SGD Classifier\")\n",
    "print(classification_report(y_test, y_pred_sgd))\n",
    "print(\"------------------------------------------------------\")\n",
    "print()\n",
    "\n",
    "print(\"Logistic Regression\")\n",
    "print(classification_report(y_test, y_pred_log))"
   ]
  },
  {
   "cell_type": "markdown",
   "id": "6d115906",
   "metadata": {},
   "source": [
    "- SVM, SGD Classifier를 제외하고 나머지 3개의 모델은 90% 이상의 정확도를 보여주었다.\n",
    "- confusion_matrix를 확인해 본 결과 SVM, SGD Classifier는 오답률이 높은것을 알 수 있다.\n",
    "- 따라서! SVM과 SGD Classifier 모델은 wine 데이터를 분류하기에는 적합한 모델이 아니라고 판단되었다. \n",
    "\n",
    "### 와인 데이터는 Random Forest 모델을 사용했을 때 정확도 100%로 모델의 성능이 가장 높게 나온다."
   ]
  },
  {
   "cell_type": "markdown",
   "id": "426969d7",
   "metadata": {},
   "source": [
    "##### "
   ]
  },
  {
   "cell_type": "markdown",
   "id": "a1000f08",
   "metadata": {},
   "source": [
    "## (3) 유방암 여부를 진단해보기"
   ]
  },
  {
   "cell_type": "markdown",
   "id": "63ceebc4",
   "metadata": {},
   "source": [
    "### 1. 필요한 모듈 import하기"
   ]
  },
  {
   "cell_type": "code",
   "execution_count": 2,
   "id": "575001af",
   "metadata": {},
   "outputs": [],
   "source": [
    "from sklearn.datasets import load_breast_cancer\n",
    "from sklearn.model_selection import train_test_split\n",
    "from sklearn.metrics import classification_report"
   ]
  },
  {
   "cell_type": "markdown",
   "id": "dfd2dc5a",
   "metadata": {},
   "source": [
    "### 2. 데이터 준비"
   ]
  },
  {
   "cell_type": "code",
   "execution_count": 3,
   "id": "7c81dce6",
   "metadata": {},
   "outputs": [
    {
     "data": {
      "text/plain": [
       "dict_keys(['data', 'target', 'frame', 'target_names', 'DESCR', 'feature_names', 'filename', 'data_module'])"
      ]
     },
     "execution_count": 3,
     "metadata": {},
     "output_type": "execute_result"
    }
   ],
   "source": [
    "breast_cancer = load_breast_cancer()\n",
    "breast_cancer.keys()"
   ]
  },
  {
   "cell_type": "markdown",
   "id": "51ca7b28",
   "metadata": {},
   "source": [
    "### 3. 데이터 이해하기\n",
    "#### Feature Data 지정하기"
   ]
  },
  {
   "cell_type": "code",
   "execution_count": 4,
   "id": "11f6077a",
   "metadata": {},
   "outputs": [
    {
     "data": {
      "text/plain": [
       "array([[1.799e+01, 1.038e+01, 1.228e+02, ..., 2.654e-01, 4.601e-01,\n",
       "        1.189e-01],\n",
       "       [2.057e+01, 1.777e+01, 1.329e+02, ..., 1.860e-01, 2.750e-01,\n",
       "        8.902e-02],\n",
       "       [1.969e+01, 2.125e+01, 1.300e+02, ..., 2.430e-01, 3.613e-01,\n",
       "        8.758e-02],\n",
       "       ...,\n",
       "       [1.660e+01, 2.808e+01, 1.083e+02, ..., 1.418e-01, 2.218e-01,\n",
       "        7.820e-02],\n",
       "       [2.060e+01, 2.933e+01, 1.401e+02, ..., 2.650e-01, 4.087e-01,\n",
       "        1.240e-01],\n",
       "       [7.760e+00, 2.454e+01, 4.792e+01, ..., 0.000e+00, 2.871e-01,\n",
       "        7.039e-02]])"
      ]
     },
     "execution_count": 4,
     "metadata": {},
     "output_type": "execute_result"
    }
   ],
   "source": [
    "breast_cancer_data = breast_cancer.data\n",
    "breast_cancer_data"
   ]
  },
  {
   "cell_type": "markdown",
   "id": "745f6a81",
   "metadata": {},
   "source": [
    "#### Label Data 지정하기"
   ]
  },
  {
   "cell_type": "code",
   "execution_count": 5,
   "id": "a08c3eb5",
   "metadata": {},
   "outputs": [
    {
     "data": {
      "text/plain": [
       "array([0, 0, 0, 0, 0, 0, 0, 0, 0, 0, 0, 0, 0, 0, 0, 0, 0, 0, 0, 1, 1, 1,\n",
       "       0, 0, 0, 0, 0, 0, 0, 0, 0, 0, 0, 0, 0, 0, 0, 1, 0, 0, 0, 0, 0, 0,\n",
       "       0, 0, 1, 0, 1, 1, 1, 1, 1, 0, 0, 1, 0, 0, 1, 1, 1, 1, 0, 1, 0, 0,\n",
       "       1, 1, 1, 1, 0, 1, 0, 0, 1, 0, 1, 0, 0, 1, 1, 1, 0, 0, 1, 0, 0, 0,\n",
       "       1, 1, 1, 0, 1, 1, 0, 0, 1, 1, 1, 0, 0, 1, 1, 1, 1, 0, 1, 1, 0, 1,\n",
       "       1, 1, 1, 1, 1, 1, 1, 0, 0, 0, 1, 0, 0, 1, 1, 1, 0, 0, 1, 0, 1, 0,\n",
       "       0, 1, 0, 0, 1, 1, 0, 1, 1, 0, 1, 1, 1, 1, 0, 1, 1, 1, 1, 1, 1, 1,\n",
       "       1, 1, 0, 1, 1, 1, 1, 0, 0, 1, 0, 1, 1, 0, 0, 1, 1, 0, 0, 1, 1, 1,\n",
       "       1, 0, 1, 1, 0, 0, 0, 1, 0, 1, 0, 1, 1, 1, 0, 1, 1, 0, 0, 1, 0, 0,\n",
       "       0, 0, 1, 0, 0, 0, 1, 0, 1, 0, 1, 1, 0, 1, 0, 0, 0, 0, 1, 1, 0, 0,\n",
       "       1, 1, 1, 0, 1, 1, 1, 1, 1, 0, 0, 1, 1, 0, 1, 1, 0, 0, 1, 0, 1, 1,\n",
       "       1, 1, 0, 1, 1, 1, 1, 1, 0, 1, 0, 0, 0, 0, 0, 0, 0, 0, 0, 0, 0, 0,\n",
       "       0, 0, 1, 1, 1, 1, 1, 1, 0, 1, 0, 1, 1, 0, 1, 1, 0, 1, 0, 0, 1, 1,\n",
       "       1, 1, 1, 1, 1, 1, 1, 1, 1, 1, 1, 0, 1, 1, 0, 1, 0, 1, 1, 1, 1, 1,\n",
       "       1, 1, 1, 1, 1, 1, 1, 1, 1, 0, 1, 1, 1, 0, 1, 0, 1, 1, 1, 1, 0, 0,\n",
       "       0, 1, 1, 1, 1, 0, 1, 0, 1, 0, 1, 1, 1, 0, 1, 1, 1, 1, 1, 1, 1, 0,\n",
       "       0, 0, 1, 1, 1, 1, 1, 1, 1, 1, 1, 1, 1, 0, 0, 1, 0, 0, 0, 1, 0, 0,\n",
       "       1, 1, 1, 1, 1, 0, 1, 1, 1, 1, 1, 0, 1, 1, 1, 0, 1, 1, 0, 0, 1, 1,\n",
       "       1, 1, 1, 1, 0, 1, 1, 1, 1, 1, 1, 1, 0, 1, 1, 1, 1, 1, 0, 1, 1, 0,\n",
       "       1, 1, 1, 1, 1, 1, 1, 1, 1, 1, 1, 1, 0, 1, 0, 0, 1, 0, 1, 1, 1, 1,\n",
       "       1, 0, 1, 1, 0, 1, 0, 1, 1, 0, 1, 0, 1, 1, 1, 1, 1, 1, 1, 1, 0, 0,\n",
       "       1, 1, 1, 1, 1, 1, 0, 1, 1, 1, 1, 1, 1, 1, 1, 1, 1, 0, 1, 1, 1, 1,\n",
       "       1, 1, 1, 0, 1, 0, 1, 1, 0, 1, 1, 1, 1, 1, 0, 0, 1, 0, 1, 0, 1, 1,\n",
       "       1, 1, 1, 0, 1, 1, 0, 1, 0, 1, 0, 0, 1, 1, 1, 0, 1, 1, 1, 1, 1, 1,\n",
       "       1, 1, 1, 1, 1, 0, 1, 0, 0, 1, 1, 1, 1, 1, 1, 1, 1, 1, 1, 1, 1, 1,\n",
       "       1, 1, 1, 1, 1, 1, 1, 1, 1, 1, 1, 1, 0, 0, 0, 0, 0, 0, 1])"
      ]
     },
     "execution_count": 5,
     "metadata": {},
     "output_type": "execute_result"
    }
   ],
   "source": [
    "breast_cancer_label = breast_cancer.target\n",
    "breast_cancer_label"
   ]
  },
  {
   "cell_type": "markdown",
   "id": "e18a4a23",
   "metadata": {},
   "source": [
    "#### Target Names 출력해보기"
   ]
  },
  {
   "cell_type": "code",
   "execution_count": 6,
   "id": "5bf2c732",
   "metadata": {},
   "outputs": [
    {
     "data": {
      "text/plain": [
       "array(['malignant', 'benign'], dtype='<U9')"
      ]
     },
     "execution_count": 6,
     "metadata": {},
     "output_type": "execute_result"
    }
   ],
   "source": [
    "breast_cancer.target_names"
   ]
  },
  {
   "cell_type": "markdown",
   "id": "01665a4e",
   "metadata": {},
   "source": [
    "#### 데이터 Describe 해보기"
   ]
  },
  {
   "cell_type": "code",
   "execution_count": 7,
   "id": "70b9c463",
   "metadata": {},
   "outputs": [
    {
     "data": {
      "text/plain": [
       "'.. _breast_cancer_dataset:\\n\\nBreast cancer wisconsin (diagnostic) dataset\\n--------------------------------------------\\n\\n**Data Set Characteristics:**\\n\\n    :Number of Instances: 569\\n\\n    :Number of Attributes: 30 numeric, predictive attributes and the class\\n\\n    :Attribute Information:\\n        - radius (mean of distances from center to points on the perimeter)\\n        - texture (standard deviation of gray-scale values)\\n        - perimeter\\n        - area\\n        - smoothness (local variation in radius lengths)\\n        - compactness (perimeter^2 / area - 1.0)\\n        - concavity (severity of concave portions of the contour)\\n        - concave points (number of concave portions of the contour)\\n        - symmetry\\n        - fractal dimension (\"coastline approximation\" - 1)\\n\\n        The mean, standard error, and \"worst\" or largest (mean of the three\\n        worst/largest values) of these features were computed for each image,\\n        resulting in 30 features.  For instance, field 0 is Mean Radius, field\\n        10 is Radius SE, field 20 is Worst Radius.\\n\\n        - class:\\n                - WDBC-Malignant\\n                - WDBC-Benign\\n\\n    :Summary Statistics:\\n\\n    ===================================== ====== ======\\n                                           Min    Max\\n    ===================================== ====== ======\\n    radius (mean):                        6.981  28.11\\n    texture (mean):                       9.71   39.28\\n    perimeter (mean):                     43.79  188.5\\n    area (mean):                          143.5  2501.0\\n    smoothness (mean):                    0.053  0.163\\n    compactness (mean):                   0.019  0.345\\n    concavity (mean):                     0.0    0.427\\n    concave points (mean):                0.0    0.201\\n    symmetry (mean):                      0.106  0.304\\n    fractal dimension (mean):             0.05   0.097\\n    radius (standard error):              0.112  2.873\\n    texture (standard error):             0.36   4.885\\n    perimeter (standard error):           0.757  21.98\\n    area (standard error):                6.802  542.2\\n    smoothness (standard error):          0.002  0.031\\n    compactness (standard error):         0.002  0.135\\n    concavity (standard error):           0.0    0.396\\n    concave points (standard error):      0.0    0.053\\n    symmetry (standard error):            0.008  0.079\\n    fractal dimension (standard error):   0.001  0.03\\n    radius (worst):                       7.93   36.04\\n    texture (worst):                      12.02  49.54\\n    perimeter (worst):                    50.41  251.2\\n    area (worst):                         185.2  4254.0\\n    smoothness (worst):                   0.071  0.223\\n    compactness (worst):                  0.027  1.058\\n    concavity (worst):                    0.0    1.252\\n    concave points (worst):               0.0    0.291\\n    symmetry (worst):                     0.156  0.664\\n    fractal dimension (worst):            0.055  0.208\\n    ===================================== ====== ======\\n\\n    :Missing Attribute Values: None\\n\\n    :Class Distribution: 212 - Malignant, 357 - Benign\\n\\n    :Creator:  Dr. William H. Wolberg, W. Nick Street, Olvi L. Mangasarian\\n\\n    :Donor: Nick Street\\n\\n    :Date: November, 1995\\n\\nThis is a copy of UCI ML Breast Cancer Wisconsin (Diagnostic) datasets.\\nhttps://goo.gl/U2Uwz2\\n\\nFeatures are computed from a digitized image of a fine needle\\naspirate (FNA) of a breast mass.  They describe\\ncharacteristics of the cell nuclei present in the image.\\n\\nSeparating plane described above was obtained using\\nMultisurface Method-Tree (MSM-T) [K. P. Bennett, \"Decision Tree\\nConstruction Via Linear Programming.\" Proceedings of the 4th\\nMidwest Artificial Intelligence and Cognitive Science Society,\\npp. 97-101, 1992], a classification method which uses linear\\nprogramming to construct a decision tree.  Relevant features\\nwere selected using an exhaustive search in the space of 1-4\\nfeatures and 1-3 separating planes.\\n\\nThe actual linear program used to obtain the separating plane\\nin the 3-dimensional space is that described in:\\n[K. P. Bennett and O. L. Mangasarian: \"Robust Linear\\nProgramming Discrimination of Two Linearly Inseparable Sets\",\\nOptimization Methods and Software 1, 1992, 23-34].\\n\\nThis database is also available through the UW CS ftp server:\\n\\nftp ftp.cs.wisc.edu\\ncd math-prog/cpo-dataset/machine-learn/WDBC/\\n\\n.. topic:: References\\n\\n   - W.N. Street, W.H. Wolberg and O.L. Mangasarian. Nuclear feature extraction \\n     for breast tumor diagnosis. IS&T/SPIE 1993 International Symposium on \\n     Electronic Imaging: Science and Technology, volume 1905, pages 861-870,\\n     San Jose, CA, 1993.\\n   - O.L. Mangasarian, W.N. Street and W.H. Wolberg. Breast cancer diagnosis and \\n     prognosis via linear programming. Operations Research, 43(4), pages 570-577, \\n     July-August 1995.\\n   - W.H. Wolberg, W.N. Street, and O.L. Mangasarian. Machine learning techniques\\n     to diagnose breast cancer from fine-needle aspirates. Cancer Letters 77 (1994) \\n     163-171.'"
      ]
     },
     "execution_count": 7,
     "metadata": {},
     "output_type": "execute_result"
    }
   ],
   "source": [
    "breast_cancer.DESCR"
   ]
  },
  {
   "cell_type": "markdown",
   "id": "d7ba7664",
   "metadata": {},
   "source": [
    "### 4. train, test 데이터 분리"
   ]
  },
  {
   "cell_type": "code",
   "execution_count": 8,
   "id": "0e66644e",
   "metadata": {},
   "outputs": [],
   "source": [
    "X_train, X_test, y_train, y_test = train_test_split(breast_cancer_data, \n",
    "                                                    breast_cancer_label, \n",
    "                                                    test_size=0.2, \n",
    "                                                    random_state=3)"
   ]
  },
  {
   "cell_type": "markdown",
   "id": "c15eb62a",
   "metadata": {},
   "source": [
    "### 5. 다양한 모델로 학습시켜보기\n",
    "#### Decision tree"
   ]
  },
  {
   "cell_type": "code",
   "execution_count": 9,
   "id": "fa5e102e",
   "metadata": {},
   "outputs": [
    {
     "data": {
      "text/plain": [
       "0.8947368421052632"
      ]
     },
     "execution_count": 9,
     "metadata": {},
     "output_type": "execute_result"
    }
   ],
   "source": [
    "from sklearn.tree import DecisionTreeClassifier\n",
    "from sklearn.metrics import accuracy_score\n",
    "\n",
    "decision_tree = DecisionTreeClassifier(random_state=3)\n",
    "decision_tree.fit(X_train, y_train)\n",
    "\n",
    "y_pred_dt = decision_tree.predict(X_test)\n",
    "\n",
    "acc = accuracy_score(y_test, y_pred_dt)\n",
    "acc"
   ]
  },
  {
   "cell_type": "markdown",
   "id": "78b6c5d4",
   "metadata": {},
   "source": [
    "#### Random Forest"
   ]
  },
  {
   "cell_type": "code",
   "execution_count": 10,
   "id": "2b4834d7",
   "metadata": {},
   "outputs": [
    {
     "data": {
      "text/plain": [
       "0.9385964912280702"
      ]
     },
     "execution_count": 10,
     "metadata": {},
     "output_type": "execute_result"
    }
   ],
   "source": [
    "from sklearn.ensemble import RandomForestClassifier\n",
    "from sklearn.metrics import accuracy_score\n",
    "\n",
    "random_forest = RandomForestClassifier(random_state=3)\n",
    "random_forest.fit(X_train, y_train)\n",
    "\n",
    "y_pred_rf = random_forest.predict(X_test)\n",
    "\n",
    "acc = accuracy_score(y_test, y_pred_rf)\n",
    "acc"
   ]
  },
  {
   "cell_type": "markdown",
   "id": "2fb7393a",
   "metadata": {},
   "source": [
    "#### SVM"
   ]
  },
  {
   "cell_type": "code",
   "execution_count": 11,
   "id": "1437c6e6",
   "metadata": {},
   "outputs": [
    {
     "data": {
      "text/plain": [
       "0.9122807017543859"
      ]
     },
     "execution_count": 11,
     "metadata": {},
     "output_type": "execute_result"
    }
   ],
   "source": [
    "from sklearn import svm\n",
    "from sklearn.metrics import accuracy_score\n",
    "\n",
    "svm_model = svm.SVC(random_state=3)\n",
    "svm_model.fit(X_train, y_train)\n",
    "\n",
    "y_pred_svm = svm_model.predict(X_test)\n",
    "\n",
    "acc = accuracy_score(y_test, y_pred_svm)\n",
    "acc"
   ]
  },
  {
   "cell_type": "markdown",
   "id": "bfb26f2d",
   "metadata": {},
   "source": [
    "#### SGD Classifier"
   ]
  },
  {
   "cell_type": "code",
   "execution_count": 12,
   "id": "6c5f55af",
   "metadata": {},
   "outputs": [
    {
     "data": {
      "text/plain": [
       "0.9122807017543859"
      ]
     },
     "execution_count": 12,
     "metadata": {},
     "output_type": "execute_result"
    }
   ],
   "source": [
    "from sklearn.linear_model import SGDClassifier\n",
    "from sklearn.metrics import accuracy_score\n",
    "\n",
    "sgd_model = SGDClassifier(random_state=3)\n",
    "sgd_model.fit(X_train, y_train)\n",
    "\n",
    "y_pred_sgd = sgd_model.predict(X_test)\n",
    "\n",
    "acc = accuracy_score(y_test, y_pred_sgd)\n",
    "acc"
   ]
  },
  {
   "cell_type": "markdown",
   "id": "f99d23ca",
   "metadata": {},
   "source": [
    "#### Logistic Regression"
   ]
  },
  {
   "cell_type": "code",
   "execution_count": 13,
   "id": "83342bc6",
   "metadata": {},
   "outputs": [
    {
     "data": {
      "text/plain": [
       "0.9385964912280702"
      ]
     },
     "execution_count": 13,
     "metadata": {},
     "output_type": "execute_result"
    }
   ],
   "source": [
    "from sklearn.linear_model import LogisticRegression\n",
    "from sklearn.metrics import accuracy_score\n",
    "\n",
    "logistic_model = LogisticRegression(max_iter = 3000, random_state=3)\n",
    "logistic_model.fit(X_train, y_train)\n",
    "\n",
    "y_pred_log = logistic_model.predict(X_test)\n",
    "\n",
    "acc = accuracy_score(y_test, y_pred_log)\n",
    "acc"
   ]
  },
  {
   "cell_type": "markdown",
   "id": "c625e682",
   "metadata": {},
   "source": [
    "### 6. 모델을 평가해 보기"
   ]
  },
  {
   "cell_type": "code",
   "execution_count": 15,
   "id": "d7eaa63a",
   "metadata": {},
   "outputs": [
    {
     "name": "stdout",
     "output_type": "stream",
     "text": [
      "Decision Tree\n",
      "              precision    recall  f1-score   support\n",
      "\n",
      "           0       0.83      0.88      0.85        40\n",
      "           1       0.93      0.91      0.92        74\n",
      "\n",
      "    accuracy                           0.89       114\n",
      "   macro avg       0.88      0.89      0.89       114\n",
      "weighted avg       0.90      0.89      0.90       114\n",
      "\n",
      "------------------------------------------------------\n",
      "\n",
      "Random Forest\n",
      "              precision    recall  f1-score   support\n",
      "\n",
      "           0       0.90      0.93      0.91        40\n",
      "           1       0.96      0.95      0.95        74\n",
      "\n",
      "    accuracy                           0.94       114\n",
      "   macro avg       0.93      0.94      0.93       114\n",
      "weighted avg       0.94      0.94      0.94       114\n",
      "\n",
      "------------------------------------------------------\n",
      "\n",
      "SVM\n",
      "              precision    recall  f1-score   support\n",
      "\n",
      "           0       0.94      0.80      0.86        40\n",
      "           1       0.90      0.97      0.94        74\n",
      "\n",
      "    accuracy                           0.91       114\n",
      "   macro avg       0.92      0.89      0.90       114\n",
      "weighted avg       0.91      0.91      0.91       114\n",
      "\n",
      "------------------------------------------------------\n",
      "\n",
      "SGD Classifier\n",
      "              precision    recall  f1-score   support\n",
      "\n",
      "           0       0.97      0.78      0.86        40\n",
      "           1       0.89      0.99      0.94        74\n",
      "\n",
      "    accuracy                           0.91       114\n",
      "   macro avg       0.93      0.88      0.90       114\n",
      "weighted avg       0.92      0.91      0.91       114\n",
      "\n",
      "------------------------------------------------------\n",
      "\n",
      "Logistic Regression\n",
      "              precision    recall  f1-score   support\n",
      "\n",
      "           0       0.92      0.90      0.91        40\n",
      "           1       0.95      0.96      0.95        74\n",
      "\n",
      "    accuracy                           0.94       114\n",
      "   macro avg       0.93      0.93      0.93       114\n",
      "weighted avg       0.94      0.94      0.94       114\n",
      "\n"
     ]
    }
   ],
   "source": [
    "from sklearn.metrics import classification_report\n",
    "\n",
    "print(\"Decision Tree\")\n",
    "print(classification_report(y_test, y_pred_dt))\n",
    "print(\"------------------------------------------------------\")\n",
    "print()\n",
    "\n",
    "print(\"Random Forest\")\n",
    "print(classification_report(y_test, y_pred_rf))\n",
    "print(\"------------------------------------------------------\")\n",
    "print()\n",
    "\n",
    "print(\"SVM\")\n",
    "print(classification_report(y_test, y_pred_svm))\n",
    "print(\"------------------------------------------------------\")\n",
    "print()\n",
    "\n",
    "print(\"SGD Classifier\")\n",
    "print(classification_report(y_test, y_pred_sgd))\n",
    "print(\"------------------------------------------------------\")\n",
    "print()\n",
    "\n",
    "print(\"Logistic Regression\")\n",
    "print(classification_report(y_test, y_pred_log))"
   ]
  },
  {
   "cell_type": "markdown",
   "id": "4b653d07",
   "metadata": {},
   "source": [
    "- 환자에게 있어서 가장 중요한 것은 recall 값이다. why? 환자인데 환자가 아니라고 인식되기 때문에...\n",
    "- 유방암 여부 데이터는 악성/양성 종양에 대한 데이터이므로, accuracy 보다는, recall의 값이 중요하다!!\n",
    "- 참고 0 - positive (병이 있다고 진단) / 1 - negative (병이 없다고 진단)\n",
    "\n",
    "### 유방암 여부 데이터는 Random Forest 모델을 사용했을 때 정확도 93%로 모델의 성능이 가장 높게 나온다"
   ]
  },
  {
   "cell_type": "markdown",
   "id": "083b7cfa",
   "metadata": {},
   "source": [
    "# 회고"
   ]
  },
  {
   "cell_type": "markdown",
   "id": "20122a26",
   "metadata": {},
   "source": [
    "#### Aiffle에서 진행하는 두번째 프로젝트!!"
   ]
  },
  {
   "cell_type": "markdown",
   "id": "14a62e72",
   "metadata": {},
   "source": [
    "- 손글씨와 와인은 정확도를 위주로 판단하면 되지만 유방암 여부는 환자라는 것을 생각하고 정확도가 아닌 재현율이 더 중요하다는 것을 알게되었다. \n",
    "- 여러 데이터들을 사용해보면서 데이터마다, 모델마다 약간의 성능 차이가 있다는 것을 알았다.\n",
    "- 또한 데이터의 종류나 성질에 따라 여러가지 모델들로 학습시켜보고 최적의 모델을 선택하는 것이 중요하다는 것을 알았다.\n",
    "- 각 데이터들을 하나하나 해석해보면서 어떤 것이 최적의 모델인지 확실히 알 수 있었다. "
   ]
  }
 ],
 "metadata": {
  "kernelspec": {
   "display_name": "Python 3 (ipykernel)",
   "language": "python",
   "name": "python3"
  },
  "language_info": {
   "codemirror_mode": {
    "name": "ipython",
    "version": 3
   },
   "file_extension": ".py",
   "mimetype": "text/x-python",
   "name": "python",
   "nbconvert_exporter": "python",
   "pygments_lexer": "ipython3",
   "version": "3.9.7"
  }
 },
 "nbformat": 4,
 "nbformat_minor": 5
}
