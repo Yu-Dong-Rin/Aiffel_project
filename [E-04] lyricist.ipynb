{
 "cells": [
  {
   "cell_type": "markdown",
   "id": "c902fed3",
   "metadata": {},
   "source": [
    "# Exploration 4\n",
    "\n",
    "# 프로젝트 : 작사가 만들기🖋"
   ]
  },
  {
   "cell_type": "markdown",
   "id": "581f2859",
   "metadata": {},
   "source": [
    "### 데이터 불러오기"
   ]
  },
  {
   "cell_type": "code",
   "execution_count": 1,
   "id": "c8620aa9",
   "metadata": {},
   "outputs": [
    {
     "name": "stdout",
     "output_type": "stream",
     "text": [
      "데이터 크기: 187088\n",
      "Examples:\n",
      " [\"Now I've heard there was a secret chord\", 'That David played, and it pleased the Lord', \"But you don't really care for music, do you?\", 'It goes like this', 'The fourth, the fifth']\n"
     ]
    }
   ],
   "source": [
    "import re    \n",
    "import glob\n",
    "import numpy as np         \n",
    "import tensorflow as tf    \n",
    "import os\n",
    "\n",
    "txt_file_path = os.getenv('HOME')+'/aiffel/lyricist/data/lyrics/*'\n",
    "\n",
    "txt_list = glob.glob(txt_file_path)\n",
    "\n",
    "raw_corpus = []\n",
    "\n",
    "# 여러개의 txt 파일을 모두 읽어서 raw_corpus 에 담기\n",
    "for txt_file in txt_list:\n",
    "    with open(txt_file, \"r\") as f:\n",
    "        raw = f.read().splitlines() # 텍스트를 라인 단위로 끊어서 읽어오기\n",
    "        raw_corpus.extend(raw)\n",
    "\n",
    "print(\"데이터 크기:\", len(raw_corpus)) # 187,088\n",
    "print(\"Examples:\\n\", raw_corpus[:5]) # 데이터 확인"
   ]
  },
  {
   "cell_type": "markdown",
   "id": "ef990100",
   "metadata": {},
   "source": [
    "### 문장 전처리"
   ]
  },
  {
   "cell_type": "code",
   "execution_count": 2,
   "id": "346cd421",
   "metadata": {},
   "outputs": [
    {
     "name": "stdout",
     "output_type": "stream",
     "text": [
      "<start> this is sample sentence . <end>\n"
     ]
    }
   ],
   "source": [
    "def preprocess_sentence(sentence):\n",
    "    sentence = sentence.lower().strip() # 소문자로 바꾸고, 양쪽 공백을 지움\n",
    "    sentence = re.sub(r\"([?.!,¿])\", r\" \\1 \", sentence) # 특수문자 양쪽에 공백을 넣고\n",
    "    sentence = re.sub(r'[\" \"]+', \" \", sentence) # 여러개의 공백은 하나의 공백으로 바꿈\n",
    "    sentence = re.sub(r\"[^a-zA-Z?.!,¿]+\", \" \", sentence) # a-zA-Z?.!,¿가 아닌 모든 문자를 하나의 공백으로 바꿈\n",
    "    sentence = sentence.strip() # 다시 양쪽 공백을 지움\n",
    "    sentence = '<start> ' + sentence + ' <end>' # 문장 시작에는 <start>, 끝에는 <end>를 추가\n",
    "    return sentence\n",
    "\n",
    "# 이 문장이 어떻게 필터링되는지 확인\n",
    "print(preprocess_sentence(\"This @_is ;;;sample ^-^* :-: _%_%- sentence.\"))"
   ]
  },
  {
   "cell_type": "markdown",
   "id": "db1dd153",
   "metadata": {},
   "source": [
    "### preprocess_sentence로 정제한 문장을 모음"
   ]
  },
  {
   "cell_type": "code",
   "execution_count": 3,
   "id": "e222ac26",
   "metadata": {},
   "outputs": [
    {
     "data": {
      "text/plain": [
       "['<start> now i ve heard there was a secret chord <end>',\n",
       " '<start> that david played , and it pleased the lord <end>',\n",
       " '<start> but you don t really care for music , do you ? <end>',\n",
       " '<start> it goes like this <end>',\n",
       " '<start> the fourth , the fifth <end>',\n",
       " '<start> the minor fall , the major lift <end>',\n",
       " '<start> the baffled king composing hallelujah hallelujah <end>',\n",
       " '<start> hallelujah <end>',\n",
       " '<start> hallelujah <end>',\n",
       " '<start> hallelujah your faith was strong but you needed proof <end>']"
      ]
     },
     "execution_count": 3,
     "metadata": {},
     "output_type": "execute_result"
    }
   ],
   "source": [
    "corpus = []\n",
    "\n",
    "for sentence in raw_corpus:\n",
    "    # 우리가 원하지 않는 문장은 건너뜁니다\n",
    "    if len(sentence) == 0: continue\n",
    "    \n",
    "    # 정제를 하고 담아주세요\n",
    "    preprocessed_sentence = preprocess_sentence(sentence)\n",
    "    if len(preprocessed_sentence.split()) > 15: continue\n",
    "    corpus.append(preprocessed_sentence)\n",
    "        \n",
    "# 정제된 결과를 10개만 확인해보죠\n",
    "corpus[:10]"
   ]
  },
  {
   "cell_type": "markdown",
   "id": "66a632da",
   "metadata": {},
   "source": [
    "### 토큰화"
   ]
  },
  {
   "cell_type": "code",
   "execution_count": 4,
   "id": "f0191850",
   "metadata": {},
   "outputs": [
    {
     "name": "stdout",
     "output_type": "stream",
     "text": [
      "[[   2   50    4 ...    0    0    0]\n",
      " [   2   15 2971 ...    0    0    0]\n",
      " [   2   33    7 ...   46    3    0]\n",
      " ...\n",
      " [   2    4  117 ...    0    0    0]\n",
      " [   2  258  195 ...   12    3    0]\n",
      " [   2    7   34 ...    0    0    0]] <keras_preprocessing.text.Tokenizer object at 0x7fc34dc89ca0>\n"
     ]
    }
   ],
   "source": [
    "def tokenize(corpus):\n",
    "    # 12000단어를 기억할 수 있는 tokenizer를 만듦\n",
    "    # 우리는 이미 문장을 정제했으니 filters가 필요없음\n",
    "    # 12000단어에 포함되지 못한 단어는 '<unk>'로 바꾸기\n",
    "    tokenizer = tf.keras.preprocessing.text.Tokenizer(\n",
    "        num_words=12000, \n",
    "        filters=' ',\n",
    "        oov_token=\"<unk>\"\n",
    "    )\n",
    "    # corpus를 이용해 tokenizer 내부의 단어장을 완성\n",
    "    tokenizer.fit_on_texts(corpus)\n",
    "    # 준비한 tokenizer를 이용해 corpus를 Tensor로 변환\n",
    "    tensor = tokenizer.texts_to_sequences(corpus)   \n",
    "    # 입력 데이터의 시퀀스 길이를 일정하게함\n",
    "    tensor = tf.keras.preprocessing.sequence.pad_sequences(tensor, padding='post')  \n",
    "    \n",
    "    print(tensor,tokenizer)\n",
    "    return tensor, tokenizer\n",
    "\n",
    "tensor, tokenizer = tokenize(corpus)"
   ]
  },
  {
   "cell_type": "code",
   "execution_count": 6,
   "id": "3ea278e5",
   "metadata": {},
   "outputs": [
    {
     "name": "stdout",
     "output_type": "stream",
     "text": [
      "1 : <unk>\n",
      "2 : <start>\n",
      "3 : <end>\n",
      "4 : i\n",
      "5 : ,\n",
      "6 : the\n",
      "7 : you\n",
      "8 : and\n",
      "9 : a\n",
      "10 : to\n"
     ]
    }
   ],
   "source": [
    "for idx in tokenizer.index_word:\n",
    "    print(idx, \":\", tokenizer.index_word[idx])\n",
    "\n",
    "    if idx >= 10: break"
   ]
  },
  {
   "cell_type": "markdown",
   "id": "93a2e6d3",
   "metadata": {},
   "source": [
    "### data 분리"
   ]
  },
  {
   "cell_type": "code",
   "execution_count": 7,
   "id": "42b65288",
   "metadata": {},
   "outputs": [
    {
     "name": "stdout",
     "output_type": "stream",
     "text": [
      "[   2   50    4   95  303   62   53    9  946 6269    3    0    0    0]\n",
      "[  50    4   95  303   62   53    9  946 6269    3    0    0    0    0]\n"
     ]
    }
   ],
   "source": [
    "src_input = tensor[:, :-1]  \n",
    "# tensor에서 <start>를 잘라내서 타겟 문장을 생성\n",
    "tgt_input = tensor[:, 1:]    \n",
    "\n",
    "print(src_input[0])\n",
    "print(tgt_input[0])"
   ]
  },
  {
   "cell_type": "code",
   "execution_count": 8,
   "id": "d76876d4",
   "metadata": {},
   "outputs": [
    {
     "name": "stdout",
     "output_type": "stream",
     "text": [
      "Source Train:  (124981, 14)\n",
      "Target Train:  (124981, 14)\n",
      "Source Val Train:  (31246, 14)\n",
      "Target Val Train:  (31246, 14)\n"
     ]
    }
   ],
   "source": [
    "from sklearn.model_selection import train_test_split\n",
    "enc_train, enc_val, dec_train, dec_val = train_test_split(src_input, tgt_input, test_size=0.2, random_state =15)\n",
    "enc_val_train, enc_val_val, dec_val_train, dec_val_val = train_test_split(enc_train, dec_train, test_size = 0.125, random_state = 15)\n",
    "print('Source Train: ', enc_train.shape)\n",
    "print('Target Train: ', dec_train.shape)\n",
    "print('Source Val Train: ', enc_val.shape)\n",
    "print('Target Val Train: ', dec_val.shape)"
   ]
  },
  {
   "cell_type": "code",
   "execution_count": 9,
   "id": "40c5192d",
   "metadata": {},
   "outputs": [
    {
     "data": {
      "text/plain": [
       "<BatchDataset shapes: ((256, 14), (256, 14)), types: (tf.int32, tf.int32)>"
      ]
     },
     "execution_count": 9,
     "metadata": {},
     "output_type": "execute_result"
    }
   ],
   "source": [
    "BUFFER_SIZE = len(enc_train)\n",
    "BATCH_SIZE = 256\n",
    "steps_per_epoch = BUFFER_SIZE // BATCH_SIZE\n",
    "\n",
    "VOCAB_SIZE = tokenizer.num_words + 1   \n",
    "\n",
    "# 준비한 데이터 소스로부터 데이터셋을 만듦\n",
    "dataset = tf.data.Dataset.from_tensor_slices((enc_train, dec_train))\n",
    "dataset = dataset.shuffle(BUFFER_SIZE)\n",
    "dataset = dataset.batch(BATCH_SIZE, drop_remainder=True)\n",
    "dataset"
   ]
  },
  {
   "cell_type": "markdown",
   "id": "3da9a3e0",
   "metadata": {},
   "source": [
    "### 모델 정의 및 학습"
   ]
  },
  {
   "cell_type": "code",
   "execution_count": 13,
   "id": "2754e068",
   "metadata": {},
   "outputs": [],
   "source": [
    "class TextGenerator(tf.keras.Model):\n",
    "    def __init__(self, vocab_size, embedding_size, hidden_size):\n",
    "        super().__init__()\n",
    "        \n",
    "        self.embedding = tf.keras.layers.Embedding(vocab_size, embedding_size)\n",
    "        self.rnn_1 = tf.keras.layers.LSTM(hidden_size, return_sequences=True)\n",
    "        self.rnn_2 = tf.keras.layers.LSTM(hidden_size, return_sequences=True)\n",
    "        self.linear = tf.keras.layers.Dense(vocab_size)\n",
    "        \n",
    "    def call(self, x):\n",
    "        out = self.embedding(x)\n",
    "        out = self.rnn_1(out)\n",
    "        out = self.rnn_2(out)\n",
    "        out = self.linear(out)\n",
    "        \n",
    "        return out\n",
    "    \n",
    "embedding_size = 256\n",
    "hidden_size = 1048\n",
    "model = TextGenerator(tokenizer.num_words + 1, embedding_size , hidden_size)"
   ]
  },
  {
   "cell_type": "code",
   "execution_count": 14,
   "id": "8cad2b29",
   "metadata": {},
   "outputs": [
    {
     "data": {
      "text/plain": [
       "<tf.Tensor: shape=(256, 14, 12001), dtype=float32, numpy=\n",
       "array([[[ 3.56398559e-05, -6.29658098e-05,  1.30242197e-05, ...,\n",
       "         -1.13284339e-04,  1.46258943e-04, -2.07133009e-04],\n",
       "        [ 3.89868583e-05, -6.08379603e-04, -1.63663557e-04, ...,\n",
       "         -2.75334372e-04,  1.23286387e-04, -2.60725152e-04],\n",
       "        [-5.71938072e-05, -6.77721982e-04, -3.12170829e-04, ...,\n",
       "         -1.96390552e-04,  6.75366318e-05, -3.67402536e-04],\n",
       "        ...,\n",
       "        [ 3.35100660e-04, -5.14908606e-05,  6.25402026e-04, ...,\n",
       "         -6.10218740e-05,  5.22129063e-04, -3.22918291e-04],\n",
       "        [ 3.55314201e-04,  1.72376589e-04,  7.34286616e-04, ...,\n",
       "         -2.48864875e-04,  3.19511688e-04, -2.97958642e-04],\n",
       "        [ 3.21010011e-04,  3.84188344e-04,  7.98619236e-04, ...,\n",
       "         -4.21304867e-04,  1.11274043e-04, -2.52041908e-04]],\n",
       "\n",
       "       [[ 3.56398559e-05, -6.29658098e-05,  1.30242197e-05, ...,\n",
       "         -1.13284339e-04,  1.46258943e-04, -2.07133009e-04],\n",
       "        [ 1.44533013e-04, -7.97760949e-05, -2.28537116e-04, ...,\n",
       "         -2.67272408e-04,  4.94175300e-04, -1.96000328e-04],\n",
       "        [ 3.11602285e-04, -1.75047477e-04, -3.74137860e-04, ...,\n",
       "         -5.54927741e-04,  4.81105351e-04, -1.84940654e-04],\n",
       "        ...,\n",
       "        [ 9.07317037e-04,  5.16895496e-04, -1.93149870e-04, ...,\n",
       "         -1.49457046e-04, -3.98041797e-04, -3.83837149e-04],\n",
       "        [ 9.51564347e-04,  5.49591321e-04,  6.97384312e-05, ...,\n",
       "         -2.89154559e-04, -5.66108327e-04, -2.73382582e-04],\n",
       "        [ 9.27465153e-04,  6.09183800e-04,  2.65758805e-04, ...,\n",
       "         -4.26871324e-04, -7.24765821e-04, -1.71573760e-04]],\n",
       "\n",
       "       [[ 3.56398559e-05, -6.29658098e-05,  1.30242197e-05, ...,\n",
       "         -1.13284339e-04,  1.46258943e-04, -2.07133009e-04],\n",
       "        [ 1.33442227e-04, -1.13092916e-04, -2.19606867e-04, ...,\n",
       "         -9.51915354e-05,  1.77203692e-04, -3.54840653e-04],\n",
       "        [ 5.09640122e-05, -3.39787453e-04, -2.14602289e-04, ...,\n",
       "         -1.69583480e-04,  1.69711377e-04, -4.95790038e-04],\n",
       "        ...,\n",
       "        [-4.21688128e-05, -9.71779809e-05, -3.65279877e-04, ...,\n",
       "          1.89142229e-04,  3.48869944e-04, -4.79623297e-04],\n",
       "        [ 9.34691561e-05, -9.34369600e-05, -1.83510623e-04, ...,\n",
       "          2.82936293e-04,  3.99462733e-04, -4.30796499e-04],\n",
       "        [ 2.73684709e-04, -3.11005460e-05,  3.52223797e-05, ...,\n",
       "          2.61773326e-04,  3.61801358e-04, -3.78506171e-04]],\n",
       "\n",
       "       ...,\n",
       "\n",
       "       [[ 3.56398559e-05, -6.29658098e-05,  1.30242197e-05, ...,\n",
       "         -1.13284339e-04,  1.46258943e-04, -2.07133009e-04],\n",
       "        [-7.59127943e-05, -2.53151637e-04, -1.96652272e-05, ...,\n",
       "         -4.37986128e-05,  1.07741507e-04, -3.39042774e-04],\n",
       "        [-1.78076560e-04, -6.23764703e-04, -4.72956053e-05, ...,\n",
       "         -2.51176680e-05,  1.88293241e-04, -5.12840168e-04],\n",
       "        ...,\n",
       "        [ 6.95118215e-04, -2.59645371e-04,  9.10700648e-04, ...,\n",
       "         -5.62485016e-04, -2.37535438e-04,  7.80966366e-05],\n",
       "        [ 7.20313692e-04, -3.00874617e-05,  9.27700312e-04, ...,\n",
       "         -6.22888561e-04, -2.91820965e-04,  1.75572000e-04],\n",
       "        [ 6.83648337e-04,  2.01123403e-04,  9.15114360e-04, ...,\n",
       "         -6.81713340e-04, -3.68130743e-04,  2.58576329e-04]],\n",
       "\n",
       "       [[ 3.56398559e-05, -6.29658098e-05,  1.30242197e-05, ...,\n",
       "         -1.13284339e-04,  1.46258943e-04, -2.07133009e-04],\n",
       "        [ 1.33442227e-04, -1.13092916e-04, -2.19606867e-04, ...,\n",
       "         -9.51915354e-05,  1.77203692e-04, -3.54840653e-04],\n",
       "        [ 2.25150652e-04, -3.58550227e-04, -4.73444234e-04, ...,\n",
       "         -2.61051959e-04,  3.57122881e-05, -3.12738150e-04],\n",
       "        ...,\n",
       "        [-5.74102160e-04, -8.98356026e-04,  4.68562561e-04, ...,\n",
       "          2.15707245e-04,  1.35246641e-03, -1.18374301e-03],\n",
       "        [-5.22197632e-04, -6.24527689e-04,  8.16618209e-04, ...,\n",
       "          4.38929892e-05,  1.47719681e-03, -1.21929985e-03],\n",
       "        [-3.92363057e-04, -7.52906082e-04,  8.09914491e-04, ...,\n",
       "          2.27150682e-04,  1.48205191e-03, -1.08949363e-03]],\n",
       "\n",
       "       [[ 3.56398559e-05, -6.29658098e-05,  1.30242197e-05, ...,\n",
       "         -1.13284339e-04,  1.46258943e-04, -2.07133009e-04],\n",
       "        [ 8.92463431e-05, -1.74504439e-05, -6.59514481e-05, ...,\n",
       "         -3.49285488e-04,  3.36294966e-06, -3.56948061e-04],\n",
       "        [ 4.86370263e-04, -5.04397212e-05, -1.81985262e-04, ...,\n",
       "         -6.55115291e-04, -3.13278317e-04, -2.67839350e-04],\n",
       "        ...,\n",
       "        [ 1.54179707e-03, -2.60591711e-04,  6.31818373e-04, ...,\n",
       "         -1.92631996e-04, -4.42444813e-04,  6.18721882e-04],\n",
       "        [ 1.42060872e-03, -6.20851424e-05,  7.14067020e-04, ...,\n",
       "         -2.08887126e-04, -4.44959034e-04,  6.28276204e-04],\n",
       "        [ 1.25364703e-03,  1.49207379e-04,  7.52732856e-04, ...,\n",
       "         -2.63682276e-04, -4.82718431e-04,  6.35408331e-04]]],\n",
       "      dtype=float32)>"
      ]
     },
     "execution_count": 14,
     "metadata": {},
     "output_type": "execute_result"
    }
   ],
   "source": [
    "for src_sample, tgt_sample in dataset.take(1): break\n",
    "\n",
    "# 한 배치만 불러온 데이터를 모델에 넣기\n",
    "model(src_sample)"
   ]
  },
  {
   "cell_type": "code",
   "execution_count": 15,
   "id": "dcc3b3db",
   "metadata": {
    "scrolled": true
   },
   "outputs": [
    {
     "name": "stdout",
     "output_type": "stream",
     "text": [
      "Model: \"text_generator_1\"\n",
      "_________________________________________________________________\n",
      "Layer (type)                 Output Shape              Param #   \n",
      "=================================================================\n",
      "embedding_1 (Embedding)      multiple                  3072256   \n",
      "_________________________________________________________________\n",
      "lstm_2 (LSTM)                multiple                  5470560   \n",
      "_________________________________________________________________\n",
      "lstm_3 (LSTM)                multiple                  8790624   \n",
      "_________________________________________________________________\n",
      "dense_1 (Dense)              multiple                  12589049  \n",
      "=================================================================\n",
      "Total params: 29,922,489\n",
      "Trainable params: 29,922,489\n",
      "Non-trainable params: 0\n",
      "_________________________________________________________________\n"
     ]
    }
   ],
   "source": [
    "model.summary()"
   ]
  },
  {
   "cell_type": "markdown",
   "id": "0c0c2b8a",
   "metadata": {},
   "source": [
    "### 모델 학습"
   ]
  },
  {
   "cell_type": "code",
   "execution_count": 16,
   "id": "2b65ba62",
   "metadata": {},
   "outputs": [
    {
     "name": "stdout",
     "output_type": "stream",
     "text": [
      "Epoch 1/10\n",
      "489/489 [==============================] - 89s 177ms/step - loss: 3.5168 - val_loss: 3.1285\n",
      "Epoch 2/10\n",
      "489/489 [==============================] - 91s 187ms/step - loss: 3.0287 - val_loss: 2.9117\n",
      "Epoch 3/10\n",
      "489/489 [==============================] - 94s 192ms/step - loss: 2.8564 - val_loss: 2.7628\n",
      "Epoch 4/10\n",
      "489/489 [==============================] - 96s 196ms/step - loss: 2.7281 - val_loss: 2.6390\n",
      "Epoch 5/10\n",
      "489/489 [==============================] - 97s 198ms/step - loss: 2.6200 - val_loss: 2.5378\n",
      "Epoch 6/10\n",
      "489/489 [==============================] - 97s 198ms/step - loss: 2.5223 - val_loss: 2.4379\n",
      "Epoch 7/10\n",
      "489/489 [==============================] - 97s 198ms/step - loss: 2.4317 - val_loss: 2.3511\n",
      "Epoch 8/10\n",
      "489/489 [==============================] - 97s 198ms/step - loss: 2.3457 - val_loss: 2.2639\n",
      "Epoch 9/10\n",
      "489/489 [==============================] - 97s 198ms/step - loss: 2.2636 - val_loss: 2.1809\n",
      "Epoch 10/10\n",
      "489/489 [==============================] - 97s 198ms/step - loss: 2.1850 - val_loss: 2.1035\n"
     ]
    }
   ],
   "source": [
    "optimizer = tf.keras.optimizers.Adam()\n",
    "\n",
    "loss = tf.keras.losses.SparseCategoricalCrossentropy(\n",
    "    from_logits=True,\n",
    "    reduction='none'\n",
    ")\n",
    "\n",
    "model.compile(loss=loss, optimizer=optimizer)\n",
    "\n",
    "history = model.fit(enc_train, dec_train, epochs=10, batch_size=256, validation_data=(enc_val_val, dec_val_val))"
   ]
  },
  {
   "cell_type": "markdown",
   "id": "e305f27a",
   "metadata": {},
   "source": [
    "### loss 시각화"
   ]
  },
  {
   "cell_type": "code",
   "execution_count": 17,
   "id": "6d9a0686",
   "metadata": {},
   "outputs": [
    {
     "data": {
      "text/plain": [
       "<function matplotlib.pyplot.show(close=None, block=None)>"
      ]
     },
     "execution_count": 17,
     "metadata": {},
     "output_type": "execute_result"
    },
    {
     "data": {
      "image/png": "[encoded data removed]",
      "text/plain": [
       "<Figure size 576x360 with 1 Axes>"
      ]
     },
     "metadata": {
      "needs_background": "light"
     },
     "output_type": "display_data"
    }
   ],
   "source": [
    "import matplotlib.pyplot as plt\n",
    "\n",
    "plt.figure(figsize=(8, 5))\n",
    "\n",
    "plt.plot(history.history['loss'], marker='.', c='red', label='Train-set Loss')\n",
    "plt.plot(history.history['val_loss'], marker='.', c='blue', label='validation-set Loss')\n",
    "plt.xlabel('Epoch')\n",
    "plt.legend()\n",
    "plt.show"
   ]
  },
  {
   "cell_type": "markdown",
   "id": "71a47522",
   "metadata": {},
   "source": [
    "### 문장생성"
   ]
  },
  {
   "cell_type": "code",
   "execution_count": 18,
   "id": "6bf21178",
   "metadata": {},
   "outputs": [],
   "source": [
    "def generate_text(model, tokenizer, init_sentence=\"<start>\", max_len=20):\n",
    "    # 테스트를 위해서 입력받은 init_sentence도 텐서로 변환\n",
    "    test_input = tokenizer.texts_to_sequences([init_sentence])\n",
    "    test_tensor = tf.convert_to_tensor(test_input, dtype=tf.int64)\n",
    "    end_token = tokenizer.word_index[\"<end>\"]\n",
    "\n",
    "    while True:\n",
    "        # 1 입력받은 문장의 텐서를 입력\n",
    "        predict = model(test_tensor) \n",
    "        # 2 예측된 값 중 가장 높은 확률인 word index를 뽑아내기\n",
    "        predict_word = tf.argmax(tf.nn.softmax(predict, axis=-1), axis=-1)[:, -1] \n",
    "        # 3 2에서 예측된 word index를 문장 뒤에 붙이기\n",
    "        test_tensor = tf.concat([test_tensor, tf.expand_dims(predict_word, axis=0)], axis=-1)\n",
    "        # 4모델이 <end>를 예측했거나, max_len에 도달했다면 문장 생성을 마치기\n",
    "        if predict_word.numpy()[0] == end_token: break\n",
    "        if test_tensor.shape[1] >= max_len: break\n",
    "\n",
    "    generated = \"\"\n",
    "    # tokenizer를 이용해 word index를 단어로 하나씩 변환\n",
    "    for word_index in test_tensor[0].numpy():\n",
    "        generated += tokenizer.index_word[word_index] + \" \"\n",
    "\n",
    "    return generated"
   ]
  },
  {
   "cell_type": "code",
   "execution_count": 20,
   "id": "5f13fe03",
   "metadata": {},
   "outputs": [
    {
     "data": {
      "text/plain": [
       "'<start> i m gonna make you feel like a <unk> <end> '"
      ]
     },
     "execution_count": 20,
     "metadata": {},
     "output_type": "execute_result"
    }
   ],
   "source": [
    "generate_text(model, tokenizer, init_sentence=\"<start> i\", max_len=20)"
   ]
  },
  {
   "cell_type": "markdown",
   "id": "38114a58",
   "metadata": {},
   "source": [
    "# 회고\n",
    "자연어 처리가 굉장히 어렵고 학습이 오래 걸린다는 것을 깨달았다. 나름대로 코드를 짜서 실행해보았지만 결과가 잘 나오지 않아서 많이 좌절했었다.\n",
    "\n",
    "아마 validation loss를 2.2이하까지 내려야 해서 더욱 힘들지 않았나싶다...\n",
    "\n",
    "그리고 왜 어려웠는지 생각해보니 정규표현식이 익숙하지 않았었다. \n",
    "\n",
    "그래서 이후에 시간을 따로 내서 이번 노드를 토대로 조금 더 이해하는 시간을 가져봐야겠다.\n",
    "\n",
    "이번에는 조원분들이 매우 열성적으로 도와주셔서 잘 마무리 했던 노드였던것같다.🍀"
   ]
  }
 ],
 "metadata": {
  "kernelspec": {
   "display_name": "Python 3 (ipykernel)",
   "language": "python",
   "name": "python3"
  },
  "language_info": {
   "codemirror_mode": {
    "name": "ipython",
    "version": 3
   },
   "file_extension": ".py",
   "mimetype": "text/x-python",
   "name": "python",
   "nbconvert_exporter": "python",
   "pygments_lexer": "ipython3",
   "version": "3.9.7"
  }
 },
 "nbformat": 4,
 "nbformat_minor": 5
}
