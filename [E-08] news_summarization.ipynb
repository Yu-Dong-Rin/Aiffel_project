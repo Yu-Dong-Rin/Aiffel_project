{
 "cells": [
  {
   "cell_type": "markdown",
   "id": "4ce917c5",
   "metadata": {},
   "source": [
    "# Exploration 8\n",
    "# 미니프로젝트: 뉴스 요약봇 만들기📰"
   ]
  },
  {
   "cell_type": "markdown",
   "id": "5b4878bd",
   "metadata": {},
   "source": [
    "# Step 1. 데이터 수집하기"
   ]
  },
  {
   "cell_type": "code",
   "execution_count": 1,
   "id": "71ac60c2",
   "metadata": {},
   "outputs": [
    {
     "name": "stderr",
     "output_type": "stream",
     "text": [
      "[nltk_data] Downloading package stopwords to /aiffel/nltk_data...\n",
      "[nltk_data]   Unzipping corpora/stopwords.zip.\n"
     ]
    }
   ],
   "source": [
    "#데이터 준비하기\n",
    "\n",
    "import nltk \n",
    "nltk.download('stopwords')\n",
    "\n",
    "import numpy as np\n",
    "import pandas as pd\n",
    "import os\n",
    "import re\n",
    "import matplotlib.pyplot as plt\n",
    "from nltk.corpus import stopwords\n",
    "from bs4 import BeautifulSoup \n",
    "from tensorflow.keras.preprocessing.text import Tokenizer \n",
    "from tensorflow.keras.preprocessing.sequence import pad_sequences\n",
    "import urllib.request\n",
    "\n",
    "#print('=3')"
   ]
  },
  {
   "cell_type": "code",
   "execution_count": 2,
   "id": "ce69c1a2",
   "metadata": {},
   "outputs": [],
   "source": [
    "urllib.request.urlretrieve(\"https://raw.githubusercontent.com/sunnysai12345/News_Summary/master/news_summary_more.csv\", filename=\"news_summary_more.csv\")\n",
    "data = pd.read_csv('news_summary_more.csv', encoding='iso-8859-1')"
   ]
  },
  {
   "cell_type": "code",
   "execution_count": 3,
   "id": "ba63ebe1",
   "metadata": {},
   "outputs": [
    {
     "data": {
      "text/html": [
       "<div>\n",
       "<style scoped>\n",
       "    .dataframe tbody tr th:only-of-type {\n",
       "        vertical-align: middle;\n",
       "    }\n",
       "\n",
       "    .dataframe tbody tr th {\n",
       "        vertical-align: top;\n",
       "    }\n",
       "\n",
       "    .dataframe thead th {\n",
       "        text-align: right;\n",
       "    }\n",
       "</style>\n",
       "<table border=\"1\" class=\"dataframe\">\n",
       "  <thead>\n",
       "    <tr style=\"text-align: right;\">\n",
       "      <th></th>\n",
       "      <th>headlines</th>\n",
       "      <th>text</th>\n",
       "    </tr>\n",
       "  </thead>\n",
       "  <tbody>\n",
       "    <tr>\n",
       "      <th>47223</th>\n",
       "      <td>'Mary had a little lamb' were first words ever...</td>\n",
       "      <td>American inventor Thomas Edison received the p...</td>\n",
       "    </tr>\n",
       "    <tr>\n",
       "      <th>75638</th>\n",
       "      <td>Unfortunate we aren't able to respect armed fo...</td>\n",
       "      <td>Union Minister Dharmendra Pradhan on Saturday ...</td>\n",
       "    </tr>\n",
       "    <tr>\n",
       "      <th>56720</th>\n",
       "      <td>Hotel with selection of 1,031 whiskeys holds w...</td>\n",
       "      <td>The Glenesk Hotel in Scotland holds the Guinne...</td>\n",
       "    </tr>\n",
       "    <tr>\n",
       "      <th>3435</th>\n",
       "      <td>Cash-strapped HAL borrows Ã¢ÂÂ¹1,000 crore to...</td>\n",
       "      <td>Hindustan Aeronautics Limited (HAL) has been f...</td>\n",
       "    </tr>\n",
       "    <tr>\n",
       "      <th>42315</th>\n",
       "      <td>Air India bidders must have min Ã¢ÂÂ¹5,000 cr...</td>\n",
       "      <td>The government has set the minimum net worth c...</td>\n",
       "    </tr>\n",
       "    <tr>\n",
       "      <th>76773</th>\n",
       "      <td>Patanjali plans to raise Ã¢ÂÂ¹1,000 crore to ...</td>\n",
       "      <td>Baba Ramdev-backed Patanjali Ayurved, plans to...</td>\n",
       "    </tr>\n",
       "    <tr>\n",
       "      <th>34211</th>\n",
       "      <td>6-year-old girl in coma after being raped in O...</td>\n",
       "      <td>A 6-year-old girl, who was raped and abandoned...</td>\n",
       "    </tr>\n",
       "    <tr>\n",
       "      <th>32446</th>\n",
       "      <td>RCB player jumps from outside boundary to take...</td>\n",
       "      <td>RCB's Tim Southee pulled off a catch after jum...</td>\n",
       "    </tr>\n",
       "    <tr>\n",
       "      <th>63332</th>\n",
       "      <td>Producers were like 'hot body dikha do ho gaya...</td>\n",
       "      <td>Dancer Mukti Mohan, while talking about acting...</td>\n",
       "    </tr>\n",
       "    <tr>\n",
       "      <th>38092</th>\n",
       "      <td>Kolkata woman declared dead twice in a day</td>\n",
       "      <td>A woman, declared dead by a government-run hos...</td>\n",
       "    </tr>\n",
       "  </tbody>\n",
       "</table>\n",
       "</div>"
      ],
      "text/plain": [
       "                                               headlines  \\\n",
       "47223  'Mary had a little lamb' were first words ever...   \n",
       "75638  Unfortunate we aren't able to respect armed fo...   \n",
       "56720  Hotel with selection of 1,031 whiskeys holds w...   \n",
       "3435   Cash-strapped HAL borrows Ã¢ÂÂ¹1,000 crore to...   \n",
       "42315  Air India bidders must have min Ã¢ÂÂ¹5,000 cr...   \n",
       "76773  Patanjali plans to raise Ã¢ÂÂ¹1,000 crore to ...   \n",
       "34211  6-year-old girl in coma after being raped in O...   \n",
       "32446  RCB player jumps from outside boundary to take...   \n",
       "63332  Producers were like 'hot body dikha do ho gaya...   \n",
       "38092         Kolkata woman declared dead twice in a day   \n",
       "\n",
       "                                                    text  \n",
       "47223  American inventor Thomas Edison received the p...  \n",
       "75638  Union Minister Dharmendra Pradhan on Saturday ...  \n",
       "56720  The Glenesk Hotel in Scotland holds the Guinne...  \n",
       "3435   Hindustan Aeronautics Limited (HAL) has been f...  \n",
       "42315  The government has set the minimum net worth c...  \n",
       "76773  Baba Ramdev-backed Patanjali Ayurved, plans to...  \n",
       "34211  A 6-year-old girl, who was raped and abandoned...  \n",
       "32446  RCB's Tim Southee pulled off a catch after jum...  \n",
       "63332  Dancer Mukti Mohan, while talking about acting...  \n",
       "38092  A woman, declared dead by a government-run hos...  "
      ]
     },
     "execution_count": 3,
     "metadata": {},
     "output_type": "execute_result"
    }
   ],
   "source": [
    "data.sample(10)"
   ]
  },
  {
   "cell_type": "code",
   "execution_count": 4,
   "id": "f6c1aa0f",
   "metadata": {},
   "outputs": [
    {
     "name": "stdout",
     "output_type": "stream",
     "text": [
      "전체 샘플수 : 98401\n"
     ]
    }
   ],
   "source": [
    "print('전체 샘플수 :', (len(data)))"
   ]
  },
  {
   "cell_type": "markdown",
   "id": "71ce5965",
   "metadata": {},
   "source": [
    "# Step 2. 데이터 전처리하기 (추상적 요약)\n",
    "## 1) 중복 샘플과 NULL 값이 존재하는 샘플 제거"
   ]
  },
  {
   "cell_type": "code",
   "execution_count": 5,
   "id": "ed1b75e3",
   "metadata": {},
   "outputs": [
    {
     "name": "stdout",
     "output_type": "stream",
     "text": [
      "text 열에서 중복을 배제한 유일한 샘플의 수 : 98360\n",
      "headlines 열에서 중복을 배제한 유일한 샘플의 수 : 98280\n"
     ]
    }
   ],
   "source": [
    "# 데이터 중복 샘플 유무 확인\n",
    "print('text 열에서 중복을 배제한 유일한 샘플의 수 :', data['text'].nunique())\n",
    "print('headlines 열에서 중복을 배제한 유일한 샘플의 수 :', data['headlines'].nunique())"
   ]
  },
  {
   "cell_type": "code",
   "execution_count": 6,
   "id": "b5588c5a",
   "metadata": {},
   "outputs": [
    {
     "name": "stdout",
     "output_type": "stream",
     "text": [
      "전체 샘플수 : 98360\n"
     ]
    }
   ],
   "source": [
    "# drop_duplicates()를 사용, 손쉽게 중복 샘플을 제거\n",
    "# inplace=True 를 설정하면 DataFrame 타입 값을 return 하지 않고 data 내부를 직접적으로 바꿉니다\n",
    "data.drop_duplicates(subset = ['text'], inplace=True)\n",
    "print('전체 샘플수 :', (len(data)))"
   ]
  },
  {
   "cell_type": "code",
   "execution_count": 7,
   "id": "2be61780",
   "metadata": {},
   "outputs": [
    {
     "name": "stdout",
     "output_type": "stream",
     "text": [
      "headlines    0\n",
      "text         0\n",
      "dtype: int64\n"
     ]
    }
   ],
   "source": [
    "# .isnull().sum()으로 null값 확인\n",
    "print(data.isnull().sum())"
   ]
  },
  {
   "cell_type": "code",
   "execution_count": 8,
   "id": "f843e551",
   "metadata": {},
   "outputs": [
    {
     "name": "stdout",
     "output_type": "stream",
     "text": [
      "전체 샘플수 : 98360\n"
     ]
    }
   ],
   "source": [
    "# 데이터프레임에서 Null 제거할 때 dropna() 함수를 사용\n",
    "data.dropna(axis=0, inplace=True)\n",
    "print('전체 샘플수 :', (len(data)))"
   ]
  },
  {
   "cell_type": "markdown",
   "id": "4b930785",
   "metadata": {},
   "source": [
    "## 2) 텍스트 정규화와 불용어 제거"
   ]
  },
  {
   "cell_type": "code",
   "execution_count": 9,
   "id": "15568700",
   "metadata": {},
   "outputs": [
    {
     "name": "stdout",
     "output_type": "stream",
     "text": [
      "정규화 사전의 수:  120\n"
     ]
    }
   ],
   "source": [
    "# 텍스트 정규화\n",
    "contractions = {\"ain't\": \"is not\", \"aren't\": \"are not\",\"can't\": \"cannot\", \"'cause\": \"because\", \"could've\": \"could have\", \"couldn't\": \"could not\",\n",
    "                           \"didn't\": \"did not\",  \"doesn't\": \"does not\", \"don't\": \"do not\", \"hadn't\": \"had not\", \"hasn't\": \"has not\", \"haven't\": \"have not\",\n",
    "                           \"he'd\": \"he would\",\"he'll\": \"he will\", \"he's\": \"he is\", \"how'd\": \"how did\", \"how'd'y\": \"how do you\", \"how'll\": \"how will\", \"how's\": \"how is\",\n",
    "                           \"I'd\": \"I would\", \"I'd've\": \"I would have\", \"I'll\": \"I will\", \"I'll've\": \"I will have\",\"I'm\": \"I am\", \"I've\": \"I have\", \"i'd\": \"i would\",\n",
    "                           \"i'd've\": \"i would have\", \"i'll\": \"i will\",  \"i'll've\": \"i will have\",\"i'm\": \"i am\", \"i've\": \"i have\", \"isn't\": \"is not\", \"it'd\": \"it would\",\n",
    "                           \"it'd've\": \"it would have\", \"it'll\": \"it will\", \"it'll've\": \"it will have\",\"it's\": \"it is\", \"let's\": \"let us\", \"ma'am\": \"madam\",\n",
    "                           \"mayn't\": \"may not\", \"might've\": \"might have\",\"mightn't\": \"might not\",\"mightn't've\": \"might not have\", \"must've\": \"must have\",\n",
    "                           \"mustn't\": \"must not\", \"mustn't've\": \"must not have\", \"needn't\": \"need not\", \"needn't've\": \"need not have\",\"o'clock\": \"of the clock\",\n",
    "                           \"oughtn't\": \"ought not\", \"oughtn't've\": \"ought not have\", \"shan't\": \"shall not\", \"sha'n't\": \"shall not\", \"shan't've\": \"shall not have\",\n",
    "                           \"she'd\": \"she would\", \"she'd've\": \"she would have\", \"she'll\": \"she will\", \"she'll've\": \"she will have\", \"she's\": \"she is\",\n",
    "                           \"should've\": \"should have\", \"shouldn't\": \"should not\", \"shouldn't've\": \"should not have\", \"so've\": \"so have\",\"so's\": \"so as\",\n",
    "                           \"this's\": \"this is\",\"that'd\": \"that would\", \"that'd've\": \"that would have\", \"that's\": \"that is\", \"there'd\": \"there would\",\n",
    "                           \"there'd've\": \"there would have\", \"there's\": \"there is\", \"here's\": \"here is\",\"they'd\": \"they would\", \"they'd've\": \"they would have\",\n",
    "                           \"they'll\": \"they will\", \"they'll've\": \"they will have\", \"they're\": \"they are\", \"they've\": \"they have\", \"to've\": \"to have\",\n",
    "                           \"wasn't\": \"was not\", \"we'd\": \"we would\", \"we'd've\": \"we would have\", \"we'll\": \"we will\", \"we'll've\": \"we will have\", \"we're\": \"we are\",\n",
    "                           \"we've\": \"we have\", \"weren't\": \"were not\", \"what'll\": \"what will\", \"what'll've\": \"what will have\", \"what're\": \"what are\",\n",
    "                           \"what's\": \"what is\", \"what've\": \"what have\", \"when's\": \"when is\", \"when've\": \"when have\", \"where'd\": \"where did\", \"where's\": \"where is\",\n",
    "                           \"where've\": \"where have\", \"who'll\": \"who will\", \"who'll've\": \"who will have\", \"who's\": \"who is\", \"who've\": \"who have\",\n",
    "                           \"why's\": \"why is\", \"why've\": \"why have\", \"will've\": \"will have\", \"won't\": \"will not\", \"won't've\": \"will not have\",\n",
    "                           \"would've\": \"would have\", \"wouldn't\": \"would not\", \"wouldn't've\": \"would not have\", \"y'all\": \"you all\",\n",
    "                           \"y'all'd\": \"you all would\",\"y'all'd've\": \"you all would have\",\"y'all're\": \"you all are\",\"y'all've\": \"you all have\",\n",
    "                           \"you'd\": \"you would\", \"you'd've\": \"you would have\", \"you'll\": \"you will\", \"you'll've\": \"you will have\",\n",
    "                           \"you're\": \"you are\", \"you've\": \"you have\"}\n",
    "\n",
    "print(\"정규화 사전의 수: \", len(contractions))"
   ]
  },
  {
   "cell_type": "code",
   "execution_count": 10,
   "id": "98a48351",
   "metadata": {},
   "outputs": [
    {
     "name": "stdout",
     "output_type": "stream",
     "text": [
      "불용어 개수 : 179\n",
      "['i', 'me', 'my', 'myself', 'we', 'our', 'ours', 'ourselves', 'you', \"you're\", \"you've\", \"you'll\", \"you'd\", 'your', 'yours', 'yourself', 'yourselves', 'he', 'him', 'his', 'himself', 'she', \"she's\", 'her', 'hers', 'herself', 'it', \"it's\", 'its', 'itself', 'they', 'them', 'their', 'theirs', 'themselves', 'what', 'which', 'who', 'whom', 'this', 'that', \"that'll\", 'these', 'those', 'am', 'is', 'are', 'was', 'were', 'be', 'been', 'being', 'have', 'has', 'had', 'having', 'do', 'does', 'did', 'doing', 'a', 'an', 'the', 'and', 'but', 'if', 'or', 'because', 'as', 'until', 'while', 'of', 'at', 'by', 'for', 'with', 'about', 'against', 'between', 'into', 'through', 'during', 'before', 'after', 'above', 'below', 'to', 'from', 'up', 'down', 'in', 'out', 'on', 'off', 'over', 'under', 'again', 'further', 'then', 'once', 'here', 'there', 'when', 'where', 'why', 'how', 'all', 'any', 'both', 'each', 'few', 'more', 'most', 'other', 'some', 'such', 'no', 'nor', 'not', 'only', 'own', 'same', 'so', 'than', 'too', 'very', 's', 't', 'can', 'will', 'just', 'don', \"don't\", 'should', \"should've\", 'now', 'd', 'll', 'm', 'o', 're', 've', 'y', 'ain', 'aren', \"aren't\", 'couldn', \"couldn't\", 'didn', \"didn't\", 'doesn', \"doesn't\", 'hadn', \"hadn't\", 'hasn', \"hasn't\", 'haven', \"haven't\", 'isn', \"isn't\", 'ma', 'mightn', \"mightn't\", 'mustn', \"mustn't\", 'needn', \"needn't\", 'shan', \"shan't\", 'shouldn', \"shouldn't\", 'wasn', \"wasn't\", 'weren', \"weren't\", 'won', \"won't\", 'wouldn', \"wouldn't\"]\n"
     ]
    }
   ],
   "source": [
    "# 불용어 제거\n",
    "print('불용어 개수 :', len(stopwords.words('english') ))\n",
    "print(stopwords.words('english'))"
   ]
  },
  {
   "cell_type": "code",
   "execution_count": 11,
   "id": "690dcfff",
   "metadata": {},
   "outputs": [],
   "source": [
    "# 데이터 전처리 함수\n",
    "def preprocess_sentence(sentence, remove_stopwords=True):\n",
    "    sentence = sentence.lower() # 텍스트 소문자화\n",
    "    sentence = BeautifulSoup(sentence, \"lxml\").text # <br />, <a href = ...> 등의 html 태그 제거\n",
    "    sentence = re.sub(r'\\([^)]*\\)', '', sentence) # 괄호로 닫힌 문자열 (...) 제거 Ex) my husband (and myself!) for => my husband for\n",
    "    sentence = re.sub('\"','', sentence) # 쌍따옴표 \" 제거\n",
    "    sentence = ' '.join([contractions[t] if t in contractions else t for t in sentence.split(\" \")]) # 약어 정규화\n",
    "    sentence = re.sub(r\"'s\\b\",\"\", sentence) # 소유격 제거. Ex) roland's -> roland\n",
    "    sentence = re.sub(\"[^a-zA-Z]\", \" \", sentence) # 영어 외 문자(숫자, 특수문자 등) 공백으로 변환\n",
    "    sentence = re.sub('[m]{2,}', 'mm', sentence) # m이 3개 이상이면 2개로 변경. Ex) ummmmmmm yeah -> umm yeah\n",
    "    \n",
    "    # 불용어 제거 (Text)\n",
    "    if remove_stopwords:\n",
    "        tokens = ' '.join(word for word in sentence.split() if not word in stopwords.words('english') if len(word) > 1)\n",
    "    # 불용어 미제거 (Summary)\n",
    "    else:\n",
    "        tokens = ' '.join(word for word in sentence.split() if len(word) > 1)\n",
    "    return tokens"
   ]
  },
  {
   "cell_type": "code",
   "execution_count": 12,
   "id": "b39d9484",
   "metadata": {},
   "outputs": [
    {
     "name": "stdout",
     "output_type": "stream",
     "text": [
      "everything bought great infact ordered twice third ordered wasfor mother father\n",
      "great way to start the day\n"
     ]
    }
   ],
   "source": [
    "# 전처리 전, 후의 결과 확인을 위한 임의 함수 호출\n",
    "\n",
    "temp_text = 'Everything I bought was great, infact I ordered twice and the third ordered was<br />for my mother and father.'\n",
    "temp_summary = 'Great way to start (or finish) the day!!!'\n",
    "\n",
    "print(preprocess_sentence(temp_text))\n",
    "print(preprocess_sentence(temp_summary, False))  # 불용어를 제거하지 않습니다."
   ]
  },
  {
   "cell_type": "markdown",
   "id": "e04ddfea",
   "metadata": {},
   "source": [
    "## 3) 멀티프로세싱으로 데이터 전처리"
   ]
  },
  {
   "cell_type": "code",
   "execution_count": 13,
   "id": "7a0e4e22",
   "metadata": {},
   "outputs": [
    {
     "name": "stdout",
     "output_type": "stream",
     "text": [
      "296.2932608127594  seconds\n",
      "['saurav kant alumnus upgrad iiit pg program machine learning artificial intelligence sr systems engineer infosys almost years work experience program upgrad degree career support helped transition data scientist tech mahindra salary hike upgrad online power learning powered lakh careers'\n",
      " 'kunal shah credit card bill payment platform cred gave users chance win free food swiggy one year pranav kaushik delhi techie bagged reward spending cred coins users get one cred coin per rupee bill paid used avail rewards brands like ixigo bookmyshow ubereats cult fit'\n",
      " 'new zealand defeated india wickets fourth odi hamilton thursday win first match five match odi series india lost international match rohit sharma captaincy consecutive victories dating back march match witnessed india getting seventh lowest total odi cricket history'\n",
      " ...\n",
      " 'according reports new version science fiction film matrix development michael jordan reportedly play lead role film screenwriter zak penn talks write script film reports added actor keanu reeves starred original film followed two sequels'\n",
      " 'new music video shows rapper snoop dogg aiming toy gun clown character parodying us president donald trump video also shows tv airing news conference headline ronald klump wants deport doggs airing live clown house video remixed version song lavender'\n",
      " 'madhesi morcha alliance seven political parties withdrawn support pm pushpa kamal dahal led nepal government failed meet seven day ultimatum fulfil demands including endorsement revised constitution amendment bill morcha seats parliament despite withdrawal support immediate threat government']\n",
      "8.978393316268921  seconds\n",
      "['upgrad learner switches to career in ml al with salary hike'\n",
      " 'delhi techie wins free food from swiggy for one year on cred'\n",
      " 'new zealand end rohit sharma led india match winning streak' ...\n",
      " 'the matrix film to get reboot reports'\n",
      " 'snoop dogg aims gun at clown dressed as trump in new video'\n",
      " 'madhesi morcha withdraws support to nepalese government']\n"
     ]
    }
   ],
   "source": [
    "import multiprocessing as mp   # 멀티 프로세싱으로 전처리 속도를 획기적으로 줄여봅시다\n",
    "from multiprocessing import Pool\n",
    "import numpy as np\n",
    "import time\n",
    "from functools import partial  # map을 할 때 함수에 여러 인자를 넣어줄 수 있도록 합니다\n",
    "\n",
    "start = time.time()\n",
    "\n",
    "# num_cores 만큼 쪼개진 데이터를 전처리하여 반환합니다\n",
    "def appendTexts(sentences, remove_stopwords):\n",
    "    texts = []\n",
    "    for s in sentences:\n",
    "        texts += preprocess_sentence(s, remove_stopwords),\n",
    "    return texts\n",
    "\n",
    "def preprocess_data(data, remove_stopwords=True):\n",
    "    start_time = time.time()\n",
    "    num_cores = mp.cpu_count()  # 컴퓨터의 코어 수를 구합니다\n",
    "\n",
    "    text_data_split = np.array_split(data, num_cores)  # 코어 수만큼 데이터를 배분하여 병렬적으로 처리할 수 있게 합니다\n",
    "    pool = Pool(num_cores)\n",
    " \n",
    "    processed_data = np.concatenate(pool.map(partial(appendTexts, remove_stopwords=remove_stopwords), text_data_split))  # 각자 작업한 데이터를 하나로 합쳐줍니다\n",
    "    pool.close()\n",
    "    pool.join()\n",
    "    print(time.time() - start_time, \" seconds\")\n",
    "    return processed_data\n",
    "\n",
    "clean_text = preprocess_data(data['text'])  # 클라우드 기준으로 3~4분 정도 소요 됩니다\n",
    "print(clean_text)\n",
    "\n",
    "clean_headlines = preprocess_data(data['headlines'], remove_stopwords=False) # 클라우드 기준 1분정도 소요됩니다.\n",
    "print(clean_headlines)"
   ]
  },
  {
   "cell_type": "code",
   "execution_count": 14,
   "id": "e932582f",
   "metadata": {},
   "outputs": [],
   "source": [
    "# 기존의 data를 전처리 된 data로 치환\n",
    "data['text'] = clean_text\n",
    "data['headlines'] = clean_headlines\n",
    "\n",
    "# 빈 값을 Null 값으로 변환\n",
    "data.replace('', np.nan, inplace=True)"
   ]
  },
  {
   "cell_type": "code",
   "execution_count": 15,
   "id": "84268528",
   "metadata": {},
   "outputs": [
    {
     "data": {
      "text/plain": [
       "headlines    0\n",
       "text         0\n",
       "dtype: int64"
      ]
     },
     "execution_count": 15,
     "metadata": {},
     "output_type": "execute_result"
    }
   ],
   "source": [
    "# null 값 재 확인\n",
    "data.isnull().sum()"
   ]
  },
  {
   "cell_type": "markdown",
   "id": "c690223a",
   "metadata": {},
   "source": [
    "## 4) 훈련데이터와 테스트데이터 나누기"
   ]
  },
  {
   "cell_type": "code",
   "execution_count": 16,
   "id": "81209251",
   "metadata": {},
   "outputs": [
    {
     "name": "stdout",
     "output_type": "stream",
     "text": [
      "텍스트의 최소 길이 : 1\n",
      "텍스트의 최대 길이 : 60\n",
      "텍스트의 평균 길이 : 35.09968483123221\n",
      "요약의 최소 길이 : 1\n",
      "요약의 최대 길이 : 16\n",
      "요약의 평균 길이 : 9.299532330215534\n"
     ]
    },
    {
     "data": {
      "image/png": "[encoded data removed]",
      "text/plain": [
       "<Figure size 432x288 with 2 Axes>"
      ]
     },
     "metadata": {
      "needs_background": "light"
     },
     "output_type": "display_data"
    },
    {
     "data": {
      "image/png": "[encoded data removed]",
      "text/plain": [
       "<Figure size 432x288 with 1 Axes>"
      ]
     },
     "metadata": {
      "needs_background": "light"
     },
     "output_type": "display_data"
    },
    {
     "data": {
      "image/png": "[encoded data removed]",
      "text/plain": [
       "<Figure size 432x288 with 1 Axes>"
      ]
     },
     "metadata": {
      "needs_background": "light"
     },
     "output_type": "display_data"
    }
   ],
   "source": [
    "# 길이 분포 출력\n",
    "import matplotlib.pyplot as plt\n",
    "\n",
    "text_len = [len(s.split()) for s in data['text']]\n",
    "summary_len = [len(s.split()) for s in data['headlines']]\n",
    "\n",
    "print('텍스트의 최소 길이 : {}'.format(np.min(text_len)))\n",
    "print('텍스트의 최대 길이 : {}'.format(np.max(text_len)))\n",
    "print('텍스트의 평균 길이 : {}'.format(np.mean(text_len)))\n",
    "print('요약의 최소 길이 : {}'.format(np.min(summary_len)))\n",
    "print('요약의 최대 길이 : {}'.format(np.max(summary_len)))\n",
    "print('요약의 평균 길이 : {}'.format(np.mean(summary_len)))\n",
    "\n",
    "plt.subplot(1,2,1)\n",
    "plt.boxplot(text_len)\n",
    "plt.title('text')\n",
    "plt.subplot(1,2,2)\n",
    "plt.boxplot(summary_len)\n",
    "plt.title('headlines')\n",
    "plt.tight_layout()\n",
    "plt.show()\n",
    "\n",
    "plt.title('text')\n",
    "plt.hist(text_len, bins = 40)\n",
    "plt.xlabel('length of samples')\n",
    "plt.ylabel('number of samples')\n",
    "plt.show()\n",
    "\n",
    "plt.title('headlines')\n",
    "plt.hist(summary_len, bins = 40)\n",
    "plt.xlabel('length of samples')\n",
    "plt.ylabel('number of samples')\n",
    "plt.show()"
   ]
  },
  {
   "cell_type": "code",
   "execution_count": 17,
   "id": "822f2679",
   "metadata": {},
   "outputs": [],
   "source": [
    "# text 의 최대 길이와 summary 의 적절한 최대 길이 임의로 정하기\n",
    "text_max_len = 40\n",
    "headlines_max_len = 10"
   ]
  },
  {
   "cell_type": "code",
   "execution_count": 18,
   "id": "2b6e525c",
   "metadata": {},
   "outputs": [],
   "source": [
    "# 훈련 데이터와 샘플의 길이를 입력하면 데이터의 몇 %가 해당하는지 계산하기\n",
    "\n",
    "def below_threshold_len(max_len, nested_list):\n",
    "  cnt = 0\n",
    "  for s in nested_list:\n",
    "    if(len(s.split()) <= max_len):\n",
    "        cnt = cnt + 1\n",
    "  print('전체 샘플 중 길이가 %s 이하인 샘플의 비율: %s'%(max_len, (cnt / len(nested_list))))"
   ]
  },
  {
   "cell_type": "code",
   "execution_count": 19,
   "id": "15c522f5",
   "metadata": {},
   "outputs": [
    {
     "name": "stdout",
     "output_type": "stream",
     "text": [
      "전체 샘플 중 길이가 40 이하인 샘플의 비율: 0.9238714924766165\n",
      "전체 샘플 중 길이가 10 이하인 샘플의 비율: 0.8162972753151687\n"
     ]
    }
   ],
   "source": [
    "below_threshold_len(text_max_len, data['text'])\n",
    "below_threshold_len(headlines_max_len,  data['headlines'])"
   ]
  },
  {
   "cell_type": "code",
   "execution_count": 20,
   "id": "b791e2da",
   "metadata": {},
   "outputs": [
    {
     "name": "stdout",
     "output_type": "stream",
     "text": [
      "전체 샘플수 : 74102\n"
     ]
    }
   ],
   "source": [
    "data = data[data['text'].apply(lambda x: len(x.split()) <= text_max_len)]\n",
    "data = data[data['headlines'].apply(lambda x: len(x.split()) <= headlines_max_len)]\n",
    "print('전체 샘플수 :', (len(data)))"
   ]
  },
  {
   "cell_type": "markdown",
   "id": "d1e77045",
   "metadata": {},
   "source": [
    "## 5)시작 토큰과 종료 토큰 추가하기"
   ]
  },
  {
   "cell_type": "code",
   "execution_count": 21,
   "id": "3b6df2ad",
   "metadata": {},
   "outputs": [
    {
     "data": {
      "text/html": [
       "<div>\n",
       "<style scoped>\n",
       "    .dataframe tbody tr th:only-of-type {\n",
       "        vertical-align: middle;\n",
       "    }\n",
       "\n",
       "    .dataframe tbody tr th {\n",
       "        vertical-align: top;\n",
       "    }\n",
       "\n",
       "    .dataframe thead th {\n",
       "        text-align: right;\n",
       "    }\n",
       "</style>\n",
       "<table border=\"1\" class=\"dataframe\">\n",
       "  <thead>\n",
       "    <tr style=\"text-align: right;\">\n",
       "      <th></th>\n",
       "      <th>headlines</th>\n",
       "      <th>text</th>\n",
       "      <th>decoder_input</th>\n",
       "      <th>decoder_target</th>\n",
       "    </tr>\n",
       "  </thead>\n",
       "  <tbody>\n",
       "    <tr>\n",
       "      <th>2</th>\n",
       "      <td>new zealand end rohit sharma led india match w...</td>\n",
       "      <td>new zealand defeated india wickets fourth odi ...</td>\n",
       "      <td>sostoken new zealand end rohit sharma led indi...</td>\n",
       "      <td>new zealand end rohit sharma led india match w...</td>\n",
       "    </tr>\n",
       "    <tr>\n",
       "      <th>3</th>\n",
       "      <td>aegon life iterm insurance plan helps customer...</td>\n",
       "      <td>aegon life iterm insurance plan customers enjo...</td>\n",
       "      <td>sostoken aegon life iterm insurance plan helps...</td>\n",
       "      <td>aegon life iterm insurance plan helps customer...</td>\n",
       "    </tr>\n",
       "    <tr>\n",
       "      <th>5</th>\n",
       "      <td>rahat fateh ali khan denies getting notice for...</td>\n",
       "      <td>pakistani singer rahat fateh ali khan denied r...</td>\n",
       "      <td>sostoken rahat fateh ali khan denies getting n...</td>\n",
       "      <td>rahat fateh ali khan denies getting notice for...</td>\n",
       "    </tr>\n",
       "    <tr>\n",
       "      <th>9</th>\n",
       "      <td>cong wins ramgarh bypoll in rajasthan takes to...</td>\n",
       "      <td>congress candidate shafia zubair ramgarh assem...</td>\n",
       "      <td>sostoken cong wins ramgarh bypoll in rajasthan...</td>\n",
       "      <td>cong wins ramgarh bypoll in rajasthan takes to...</td>\n",
       "    </tr>\n",
       "    <tr>\n",
       "      <th>10</th>\n",
       "      <td>up cousins fed human excreta for friendship wi...</td>\n",
       "      <td>two minor cousins uttar pradesh gorakhpur alle...</td>\n",
       "      <td>sostoken up cousins fed human excreta for frie...</td>\n",
       "      <td>up cousins fed human excreta for friendship wi...</td>\n",
       "    </tr>\n",
       "  </tbody>\n",
       "</table>\n",
       "</div>"
      ],
      "text/plain": [
       "                                            headlines  \\\n",
       "2   new zealand end rohit sharma led india match w...   \n",
       "3   aegon life iterm insurance plan helps customer...   \n",
       "5   rahat fateh ali khan denies getting notice for...   \n",
       "9   cong wins ramgarh bypoll in rajasthan takes to...   \n",
       "10  up cousins fed human excreta for friendship wi...   \n",
       "\n",
       "                                                 text  \\\n",
       "2   new zealand defeated india wickets fourth odi ...   \n",
       "3   aegon life iterm insurance plan customers enjo...   \n",
       "5   pakistani singer rahat fateh ali khan denied r...   \n",
       "9   congress candidate shafia zubair ramgarh assem...   \n",
       "10  two minor cousins uttar pradesh gorakhpur alle...   \n",
       "\n",
       "                                        decoder_input  \\\n",
       "2   sostoken new zealand end rohit sharma led indi...   \n",
       "3   sostoken aegon life iterm insurance plan helps...   \n",
       "5   sostoken rahat fateh ali khan denies getting n...   \n",
       "9   sostoken cong wins ramgarh bypoll in rajasthan...   \n",
       "10  sostoken up cousins fed human excreta for frie...   \n",
       "\n",
       "                                       decoder_target  \n",
       "2   new zealand end rohit sharma led india match w...  \n",
       "3   aegon life iterm insurance plan helps customer...  \n",
       "5   rahat fateh ali khan denies getting notice for...  \n",
       "9   cong wins ramgarh bypoll in rajasthan takes to...  \n",
       "10  up cousins fed human excreta for friendship wi...  "
      ]
     },
     "execution_count": 21,
     "metadata": {},
     "output_type": "execute_result"
    }
   ],
   "source": [
    "# 요약 데이터에는 시작 토큰과 종료 토큰을 추가한다.\n",
    "data['decoder_input'] = data['headlines'].apply(lambda x : 'sostoken '+ x)  #시작 토큰\n",
    "data['decoder_target'] = data['headlines'].apply(lambda x : x + ' eostoken')  # 종료 토큰\n",
    "data.head()"
   ]
  },
  {
   "cell_type": "code",
   "execution_count": 22,
   "id": "cda9428e",
   "metadata": {},
   "outputs": [],
   "source": [
    "encoder_input = np.array(data['text']) # 인코더의 입력\n",
    "decoder_input = np.array(data['decoder_input']) # 디코더의 입력\n",
    "decoder_target = np.array(data['decoder_target']) # 디코더의 레이블"
   ]
  },
  {
   "cell_type": "code",
   "execution_count": 23,
   "id": "e2b2b23a",
   "metadata": {},
   "outputs": [
    {
     "name": "stdout",
     "output_type": "stream",
     "text": [
      "[45978 65358 27344 ... 60328 42864  2595]\n"
     ]
    }
   ],
   "source": [
    "# 훈련 데이터와 테스트 데이터 분리\n",
    "indices = np.arange(encoder_input.shape[0])\n",
    "np.random.shuffle(indices)\n",
    "print(indices)"
   ]
  },
  {
   "cell_type": "code",
   "execution_count": 24,
   "id": "2d6a837e",
   "metadata": {},
   "outputs": [],
   "source": [
    "# 데이터의 샘플 순서 정의\n",
    "encoder_input = encoder_input[indices]\n",
    "decoder_input = decoder_input[indices]\n",
    "decoder_target = decoder_target[indices]"
   ]
  },
  {
   "cell_type": "code",
   "execution_count": 25,
   "id": "4f6fa02b",
   "metadata": {},
   "outputs": [
    {
     "name": "stdout",
     "output_type": "stream",
     "text": [
      "테스트 데이터의 수 : 14820\n"
     ]
    }
   ],
   "source": [
    "# 훈련 데이터와 테스트 데이터를 8:2의 비율로 분리\n",
    "n_of_val = int(len(encoder_input)*0.2)\n",
    "print('테스트 데이터의 수 :', n_of_val)"
   ]
  },
  {
   "cell_type": "code",
   "execution_count": 26,
   "id": "59a29f52",
   "metadata": {},
   "outputs": [
    {
     "name": "stdout",
     "output_type": "stream",
     "text": [
      "훈련 데이터의 개수 : 59282\n",
      "훈련 레이블의 개수 : 59282\n",
      "테스트 데이터의 개수 : 14820\n",
      "테스트 레이블의 개수 : 14820\n"
     ]
    }
   ],
   "source": [
    "# 테스트 데이터개수 이용해 전체 데이터 나누기\n",
    "encoder_input_train = encoder_input[:-n_of_val]\n",
    "decoder_input_train = decoder_input[:-n_of_val]\n",
    "decoder_target_train = decoder_target[:-n_of_val]\n",
    "\n",
    "encoder_input_test = encoder_input[-n_of_val:]\n",
    "decoder_input_test = decoder_input[-n_of_val:]\n",
    "decoder_target_test = decoder_target[-n_of_val:]\n",
    "\n",
    "print('훈련 데이터의 개수 :', len(encoder_input_train))\n",
    "print('훈련 레이블의 개수 :', len(decoder_input_train))\n",
    "print('테스트 데이터의 개수 :', len(encoder_input_test))\n",
    "print('테스트 레이블의 개수 :', len(decoder_input_test))"
   ]
  },
  {
   "cell_type": "markdown",
   "id": "6c7d9857",
   "metadata": {},
   "source": [
    "## 6) 단어 집합(vocabulary) 만들기 및 정수 인코딩"
   ]
  },
  {
   "cell_type": "code",
   "execution_count": 27,
   "id": "17cacf95",
   "metadata": {},
   "outputs": [],
   "source": [
    "src_tokenizer = Tokenizer() # 토크나이저 정의\n",
    "src_tokenizer.fit_on_texts(encoder_input_train) # 입력된 데이터로부터 단어 집합 생성"
   ]
  },
  {
   "cell_type": "code",
   "execution_count": 28,
   "id": "7dfae96c",
   "metadata": {},
   "outputs": [
    {
     "name": "stdout",
     "output_type": "stream",
     "text": [
      "단어 집합(vocabulary)의 크기 : 61616\n",
      "등장 빈도가 6번 이하인 희귀 단어의 수: 42306\n",
      "단어 집합에서 희귀 단어를 제외시킬 경우의 단어 집합의 크기 19310\n",
      "단어 집합에서 희귀 단어의 비율: 68.6607374707868\n",
      "전체 등장 빈도에서 희귀 단어 등장 빈도 비율: 4.2078411870950365\n"
     ]
    }
   ],
   "source": [
    "threshold = 7\n",
    "total_cnt = len(src_tokenizer.word_index) # 단어의 수\n",
    "rare_cnt = 0 # 등장 빈도수가 threshold보다 작은 단어의 개수를 카운트\n",
    "total_freq = 0 # 훈련 데이터의 전체 단어 빈도수 총 합\n",
    "rare_freq = 0 # 등장 빈도수가 threshold보다 작은 단어의 등장 빈도수의 총 합\n",
    "\n",
    "# 단어와 빈도수의 쌍(pair)을 key와 value로 받는다.\n",
    "for key, value in src_tokenizer.word_counts.items():\n",
    "    total_freq = total_freq + value\n",
    "\n",
    "    # 단어의 등장 빈도수가 threshold보다 작으면\n",
    "    if(value < threshold):\n",
    "        rare_cnt = rare_cnt + 1\n",
    "        rare_freq = rare_freq + value\n",
    "\n",
    "print('단어 집합(vocabulary)의 크기 :', total_cnt)\n",
    "print('등장 빈도가 %s번 이하인 희귀 단어의 수: %s'%(threshold - 1, rare_cnt))\n",
    "print('단어 집합에서 희귀 단어를 제외시킬 경우의 단어 집합의 크기 %s'%(total_cnt - rare_cnt))\n",
    "print(\"단어 집합에서 희귀 단어의 비율:\", (rare_cnt / total_cnt)*100)\n",
    "print(\"전체 등장 빈도에서 희귀 단어 등장 빈도 비율:\", (rare_freq / total_freq)*100)"
   ]
  },
  {
   "cell_type": "code",
   "execution_count": 29,
   "id": "b847aa5e",
   "metadata": {},
   "outputs": [],
   "source": [
    "src_vocab = 8000\n",
    "src_tokenizer = Tokenizer(num_words=src_vocab) # 단어 집합의 크기를 8,000으로 제한\n",
    "src_tokenizer.fit_on_texts(encoder_input_train) # 단어 집합 재생성"
   ]
  },
  {
   "cell_type": "code",
   "execution_count": 30,
   "id": "a102dd40",
   "metadata": {},
   "outputs": [
    {
     "name": "stdout",
     "output_type": "stream",
     "text": [
      "[[283, 241, 2165, 36, 194, 434, 1022, 268, 320, 67, 785, 1667, 436, 67, 4957, 241, 2421, 649, 2165, 829, 785, 1056, 5, 1, 77, 67, 1553, 241, 78], [1725, 165, 2920, 4658, 6153, 795, 1231, 95, 18, 173, 6153, 343, 2395, 100, 2136, 3506, 343, 1122, 33, 254, 1097, 717, 414, 2431, 1725, 795, 1956, 173, 79, 5191], [3107, 6737, 3632, 76, 6531, 8, 4659, 4043, 3633, 4853, 408, 88, 126, 583, 196, 66, 8, 43, 420, 181, 21, 2254, 42, 96, 2659, 3309, 733, 31, 6062, 1062, 405, 2921]]\n"
     ]
    }
   ],
   "source": [
    "# 텍스트 시퀀스를 정수 시퀀스로 변환\n",
    "encoder_input_train = src_tokenizer.texts_to_sequences(encoder_input_train) \n",
    "encoder_input_test = src_tokenizer.texts_to_sequences(encoder_input_test)\n",
    "\n",
    "# 잘 진행되었는지 샘플 출력\n",
    "print(encoder_input_train[:3])"
   ]
  },
  {
   "cell_type": "code",
   "execution_count": 31,
   "id": "f34f68a3",
   "metadata": {},
   "outputs": [],
   "source": [
    "# 훈련 데이터로 단어 집합 만들기\n",
    "tar_tokenizer = Tokenizer()\n",
    "tar_tokenizer.fit_on_texts(decoder_input_train)"
   ]
  },
  {
   "cell_type": "code",
   "execution_count": 32,
   "id": "a4f694bf",
   "metadata": {},
   "outputs": [
    {
     "name": "stdout",
     "output_type": "stream",
     "text": [
      "단어 집합(vocabulary)의 크기 : 27409\n",
      "등장 빈도가 5번 이하인 희귀 단어의 수: 18307\n",
      "단어 집합에서 희귀 단어를 제외시킬 경우의 단어 집합의 크기 9102\n",
      "단어 집합에서 희귀 단어의 비율: 66.7919296581415\n",
      "전체 등장 빈도에서 희귀 단어 등장 빈도 비율: 5.990103173472523\n"
     ]
    }
   ],
   "source": [
    "# 빈도수가 낮은 단어들은 훈련 데이터에서 제외하기\n",
    "threshold = 6\n",
    "total_cnt = len(tar_tokenizer.word_index) # 단어의 수\n",
    "rare_cnt = 0 # 등장 빈도수가 threshold보다 작은 단어의 개수를 카운트\n",
    "total_freq = 0 # 훈련 데이터의 전체 단어 빈도수 총 합\n",
    "rare_freq = 0 # 등장 빈도수가 threshold보다 작은 단어의 등장 빈도수의 총 합\n",
    "\n",
    "# 단어와 빈도수의 쌍(pair)을 key와 value로 받는다.\n",
    "for key, value in tar_tokenizer.word_counts.items():\n",
    "    total_freq = total_freq + value\n",
    "\n",
    "    # 단어의 등장 빈도수가 threshold보다 작으면\n",
    "    if(value < threshold):\n",
    "        rare_cnt = rare_cnt + 1\n",
    "        rare_freq = rare_freq + value\n",
    "\n",
    "print('단어 집합(vocabulary)의 크기 :', total_cnt)\n",
    "print('등장 빈도가 %s번 이하인 희귀 단어의 수: %s'%(threshold - 1, rare_cnt))\n",
    "print('단어 집합에서 희귀 단어를 제외시킬 경우의 단어 집합의 크기 %s'%(total_cnt - rare_cnt))\n",
    "print(\"단어 집합에서 희귀 단어의 비율:\", (rare_cnt / total_cnt)*100)\n",
    "print(\"전체 등장 빈도에서 희귀 단어 등장 빈도 비율:\", (rare_freq / total_freq)*100)"
   ]
  },
  {
   "cell_type": "code",
   "execution_count": 33,
   "id": "d6c56a0a",
   "metadata": {},
   "outputs": [
    {
     "name": "stdout",
     "output_type": "stream",
     "text": [
      "input\n",
      "input  [[1, 112, 1126, 1691, 10, 168, 350, 403, 68], [1, 101, 498, 317, 191, 16, 827], [1, 1604, 21, 178, 342, 38, 80], [1, 1963, 404, 918, 12, 45, 323, 969], [1, 308, 1463, 1024, 902, 20, 364, 259, 391, 59]]\n",
      "target\n",
      "decoder  [[112, 1126, 1691, 10, 168, 350, 403, 68, 2], [101, 498, 317, 191, 16, 827, 2], [1604, 21, 178, 342, 38, 80, 2], [1963, 404, 918, 12, 45, 323, 969, 2], [308, 1463, 1024, 902, 20, 364, 259, 391, 59, 2]]\n"
     ]
    }
   ],
   "source": [
    "tar_vocab = 2000\n",
    "tar_tokenizer = Tokenizer(num_words=tar_vocab) \n",
    "tar_tokenizer.fit_on_texts(decoder_input_train)\n",
    "tar_tokenizer.fit_on_texts(decoder_target_train)\n",
    "\n",
    "# 텍스트 시퀀스를 정수 시퀀스로 변환\n",
    "decoder_input_train = tar_tokenizer.texts_to_sequences(decoder_input_train) \n",
    "decoder_target_train = tar_tokenizer.texts_to_sequences(decoder_target_train)\n",
    "decoder_input_test = tar_tokenizer.texts_to_sequences(decoder_input_test)\n",
    "decoder_target_test = tar_tokenizer.texts_to_sequences(decoder_target_test)\n",
    "\n",
    "# 잘 변환되었는지 확인\n",
    "print('input')\n",
    "print('input ',decoder_input_train[:5])\n",
    "print('target')\n",
    "print('decoder ',decoder_target_train[:5])"
   ]
  },
  {
   "cell_type": "code",
   "execution_count": 34,
   "id": "2bf9c729",
   "metadata": {},
   "outputs": [
    {
     "name": "stdout",
     "output_type": "stream",
     "text": [
      "삭제할 훈련 데이터의 개수 : 9\n",
      "삭제할 테스트 데이터의 개수 : 3\n",
      "훈련 데이터의 개수 : 59273\n",
      "훈련 레이블의 개수 : 59273\n",
      "테스트 데이터의 개수 : 14817\n",
      "테스트 레이블의 개수 : 14817\n"
     ]
    }
   ],
   "source": [
    "drop_train = [index for index, sentence in enumerate(decoder_input_train) if len(sentence) == 1]\n",
    "drop_test = [index for index, sentence in enumerate(decoder_input_test) if len(sentence) == 1]\n",
    "\n",
    "print('삭제할 훈련 데이터의 개수 :', len(drop_train))\n",
    "print('삭제할 테스트 데이터의 개수 :', len(drop_test))\n",
    "\n",
    "encoder_input_train = [sentence for index, sentence in enumerate(encoder_input_train) if index not in drop_train]\n",
    "decoder_input_train = [sentence for index, sentence in enumerate(decoder_input_train) if index not in drop_train]\n",
    "decoder_target_train = [sentence for index, sentence in enumerate(decoder_target_train) if index not in drop_train]\n",
    "\n",
    "encoder_input_test = [sentence for index, sentence in enumerate(encoder_input_test) if index not in drop_test]\n",
    "decoder_input_test = [sentence for index, sentence in enumerate(decoder_input_test) if index not in drop_test]\n",
    "decoder_target_test = [sentence for index, sentence in enumerate(decoder_target_test) if index not in drop_test]\n",
    "\n",
    "print('훈련 데이터의 개수 :', len(encoder_input_train))\n",
    "print('훈련 레이블의 개수 :', len(decoder_input_train))\n",
    "print('테스트 데이터의 개수 :', len(encoder_input_test))\n",
    "print('테스트 레이블의 개수 :', len(decoder_input_test))"
   ]
  },
  {
   "cell_type": "markdown",
   "id": "61691579",
   "metadata": {},
   "source": [
    "## 7) 패딩하기"
   ]
  },
  {
   "cell_type": "code",
   "execution_count": 35,
   "id": "3f3a12f8",
   "metadata": {},
   "outputs": [],
   "source": [
    "# 전처리 완료!\n",
    "encoder_input_train = pad_sequences(encoder_input_train, maxlen=text_max_len, padding='post')\n",
    "encoder_input_test = pad_sequences(encoder_input_test, maxlen=text_max_len, padding='post')\n",
    "decoder_input_train = pad_sequences(decoder_input_train, maxlen=headlines_max_len, padding='post')\n",
    "decoder_target_train = pad_sequences(decoder_target_train, maxlen=headlines_max_len, padding='post')\n",
    "decoder_input_test = pad_sequences(decoder_input_test, maxlen=headlines_max_len, padding='post')\n",
    "decoder_target_test = pad_sequences(decoder_target_test, maxlen=headlines_max_len, padding='post')"
   ]
  },
  {
   "cell_type": "markdown",
   "id": "eaa58617",
   "metadata": {},
   "source": [
    "# Step 3. 어텐션 메커니즘 사용하기 (추상적 요약)\n",
    "## 1) model설계하기"
   ]
  },
  {
   "cell_type": "code",
   "execution_count": 36,
   "id": "5ed55ed3",
   "metadata": {},
   "outputs": [
    {
     "name": "stdout",
     "output_type": "stream",
     "text": [
      "WARNING:tensorflow:Layer lstm will not use cuDNN kernels since it doesn't meet the criteria. It will use a generic GPU kernel as fallback when running on GPU.\n",
      "WARNING:tensorflow:Layer lstm_1 will not use cuDNN kernels since it doesn't meet the criteria. It will use a generic GPU kernel as fallback when running on GPU.\n",
      "WARNING:tensorflow:Layer lstm_2 will not use cuDNN kernels since it doesn't meet the criteria. It will use a generic GPU kernel as fallback when running on GPU.\n"
     ]
    }
   ],
   "source": [
    "# 함수형 API를 이용해서 인코더 설계\n",
    "from tensorflow.keras.layers import Input, LSTM, Embedding, Dense, Concatenate, TimeDistributed\n",
    "from tensorflow.keras.models import Model\n",
    "from tensorflow.keras.callbacks import EarlyStopping, ModelCheckpoint\n",
    "\n",
    "\n",
    "# 인코더 설계 시작\n",
    "embedding_dim = 128\n",
    "hidden_size = 256\n",
    "\n",
    "# 인코더\n",
    "encoder_inputs = Input(shape=(text_max_len,))\n",
    "\n",
    "# 인코더의 임베딩 층\n",
    "enc_emb = Embedding(src_vocab, embedding_dim)(encoder_inputs)\n",
    "\n",
    "# 인코더의 LSTM 1\n",
    "encoder_lstm1 = LSTM(hidden_size, return_sequences=True, return_state=True ,dropout = 0.4, recurrent_dropout = 0.4)\n",
    "encoder_output1, state_h1, state_c1 = encoder_lstm1(enc_emb)\n",
    "\n",
    "# 인코더의 LSTM 2\n",
    "encoder_lstm2 = LSTM(hidden_size, return_sequences=True, return_state=True, dropout=0.4, recurrent_dropout=0.4)\n",
    "encoder_output2, state_h2, state_c2 = encoder_lstm2(encoder_output1)\n",
    "\n",
    "# 인코더의 LSTM 3\n",
    "encoder_lstm3 = LSTM(hidden_size, return_state=True, return_sequences=True, dropout=0.4, recurrent_dropout=0.4)\n",
    "encoder_outputs, state_h, state_c= encoder_lstm3(encoder_output2)"
   ]
  },
  {
   "cell_type": "markdown",
   "id": "b80009d6",
   "metadata": {},
   "source": [
    "## 2) 디코더 설계"
   ]
  },
  {
   "cell_type": "code",
   "execution_count": 37,
   "id": "fda882d6",
   "metadata": {},
   "outputs": [
    {
     "name": "stdout",
     "output_type": "stream",
     "text": [
      "WARNING:tensorflow:Layer lstm_3 will not use cuDNN kernels since it doesn't meet the criteria. It will use a generic GPU kernel as fallback when running on GPU.\n"
     ]
    }
   ],
   "source": [
    "# 디코더 설계\n",
    "decoder_inputs = Input(shape=(None,))\n",
    "\n",
    "# 디코더의 임베딩 층\n",
    "dec_emb_layer = Embedding(tar_vocab, embedding_dim)\n",
    "dec_emb = dec_emb_layer(decoder_inputs)\n",
    "\n",
    "# 디코더의 LSTM\n",
    "decoder_lstm = LSTM(hidden_size, return_sequences=True, return_state=True, dropout=0.4, recurrent_dropout=0.2)\n",
    "decoder_outputs, _, _ = decoder_lstm(dec_emb, initial_state=[state_h, state_c])"
   ]
  },
  {
   "cell_type": "code",
   "execution_count": 38,
   "id": "0c9837d8",
   "metadata": {},
   "outputs": [
    {
     "name": "stdout",
     "output_type": "stream",
     "text": [
      "Model: \"model\"\n",
      "__________________________________________________________________________________________________\n",
      "Layer (type)                    Output Shape         Param #     Connected to                     \n",
      "==================================================================================================\n",
      "input_1 (InputLayer)            [(None, 40)]         0                                            \n",
      "__________________________________________________________________________________________________\n",
      "embedding (Embedding)           (None, 40, 128)      1024000     input_1[0][0]                    \n",
      "__________________________________________________________________________________________________\n",
      "lstm (LSTM)                     [(None, 40, 256), (N 394240      embedding[0][0]                  \n",
      "__________________________________________________________________________________________________\n",
      "input_2 (InputLayer)            [(None, None)]       0                                            \n",
      "__________________________________________________________________________________________________\n",
      "lstm_1 (LSTM)                   [(None, 40, 256), (N 525312      lstm[0][0]                       \n",
      "__________________________________________________________________________________________________\n",
      "embedding_1 (Embedding)         (None, None, 128)    256000      input_2[0][0]                    \n",
      "__________________________________________________________________________________________________\n",
      "lstm_2 (LSTM)                   [(None, 40, 256), (N 525312      lstm_1[0][0]                     \n",
      "__________________________________________________________________________________________________\n",
      "lstm_3 (LSTM)                   [(None, None, 256),  394240      embedding_1[0][0]                \n",
      "                                                                 lstm_2[0][1]                     \n",
      "                                                                 lstm_2[0][2]                     \n",
      "__________________________________________________________________________________________________\n",
      "dense (Dense)                   (None, None, 2000)   514000      lstm_3[0][0]                     \n",
      "==================================================================================================\n",
      "Total params: 3,633,104\n",
      "Trainable params: 3,633,104\n",
      "Non-trainable params: 0\n",
      "__________________________________________________________________________________________________\n"
     ]
    }
   ],
   "source": [
    "# 디코더의 출력층 설계\n",
    "decoder_softmax_layer = Dense(tar_vocab, activation='softmax')\n",
    "decoder_softmax_outputs = decoder_softmax_layer(decoder_outputs) \n",
    "\n",
    "# 모델 정의\n",
    "model = Model([encoder_inputs, decoder_inputs], decoder_softmax_outputs)\n",
    "model.summary()"
   ]
  },
  {
   "cell_type": "markdown",
   "id": "72099f29",
   "metadata": {},
   "source": [
    "## 3) 어텐션 메커니즘"
   ]
  },
  {
   "cell_type": "code",
   "execution_count": 39,
   "id": "ade1c786",
   "metadata": {},
   "outputs": [],
   "source": [
    "# 어텐션 함수 다운로드\n",
    "urllib.request.urlretrieve(\"https://raw.githubusercontent.com/thushv89/attention_keras/master/src/layers/attention.py\", filename=\"attention.py\")\n",
    "from attention import AttentionLayer"
   ]
  },
  {
   "cell_type": "code",
   "execution_count": 40,
   "id": "ea0aec96",
   "metadata": {},
   "outputs": [
    {
     "name": "stdout",
     "output_type": "stream",
     "text": [
      "Model: \"model_1\"\n",
      "__________________________________________________________________________________________________\n",
      "Layer (type)                    Output Shape         Param #     Connected to                     \n",
      "==================================================================================================\n",
      "input_1 (InputLayer)            [(None, 40)]         0                                            \n",
      "__________________________________________________________________________________________________\n",
      "embedding (Embedding)           (None, 40, 128)      1024000     input_1[0][0]                    \n",
      "__________________________________________________________________________________________________\n",
      "lstm (LSTM)                     [(None, 40, 256), (N 394240      embedding[0][0]                  \n",
      "__________________________________________________________________________________________________\n",
      "input_2 (InputLayer)            [(None, None)]       0                                            \n",
      "__________________________________________________________________________________________________\n",
      "lstm_1 (LSTM)                   [(None, 40, 256), (N 525312      lstm[0][0]                       \n",
      "__________________________________________________________________________________________________\n",
      "embedding_1 (Embedding)         (None, None, 128)    256000      input_2[0][0]                    \n",
      "__________________________________________________________________________________________________\n",
      "lstm_2 (LSTM)                   [(None, 40, 256), (N 525312      lstm_1[0][0]                     \n",
      "__________________________________________________________________________________________________\n",
      "lstm_3 (LSTM)                   [(None, None, 256),  394240      embedding_1[0][0]                \n",
      "                                                                 lstm_2[0][1]                     \n",
      "                                                                 lstm_2[0][2]                     \n",
      "__________________________________________________________________________________________________\n",
      "attention_layer (AdditiveAttent (None, None, 256)    256         lstm_3[0][0]                     \n",
      "                                                                 lstm_2[0][0]                     \n",
      "__________________________________________________________________________________________________\n",
      "concat_layer (Concatenate)      (None, None, 512)    0           lstm_3[0][0]                     \n",
      "                                                                 attention_layer[0][0]            \n",
      "__________________________________________________________________________________________________\n",
      "dense_1 (Dense)                 (None, None, 2000)   1026000     concat_layer[0][0]               \n",
      "==================================================================================================\n",
      "Total params: 4,145,360\n",
      "Trainable params: 4,145,360\n",
      "Non-trainable params: 0\n",
      "__________________________________________________________________________________________________\n"
     ]
    }
   ],
   "source": [
    "from tensorflow.keras.layers import AdditiveAttention\n",
    "\n",
    "# 어텐션 층(어텐션 함수)\n",
    "attn_layer = AdditiveAttention(name='attention_layer')\n",
    "\n",
    "# 인코더와 디코더의 모든 time step의 hidden state를 어텐션 층에 전달하고 결과를 리턴\n",
    "attn_out = attn_layer([decoder_outputs, encoder_outputs])\n",
    "\n",
    "\n",
    "# 어텐션의 결과와 디코더의 hidden state들을 연결\n",
    "decoder_concat_input = Concatenate(axis=-1, name='concat_layer')([decoder_outputs, attn_out])\n",
    "\n",
    "# 디코더의 출력층\n",
    "decoder_softmax_layer = Dense(tar_vocab, activation='softmax')\n",
    "decoder_softmax_outputs = decoder_softmax_layer(decoder_concat_input)\n",
    "\n",
    "# 모델 정의\n",
    "model = Model([encoder_inputs, decoder_inputs], decoder_softmax_outputs)\n",
    "model.summary()"
   ]
  },
  {
   "cell_type": "markdown",
   "id": "f698df29",
   "metadata": {},
   "source": [
    "## 4) 모델 훈련하기"
   ]
  },
  {
   "cell_type": "code",
   "execution_count": 41,
   "id": "73499beb",
   "metadata": {},
   "outputs": [
    {
     "name": "stdout",
     "output_type": "stream",
     "text": [
      "Epoch 1/50\n",
      "232/232 [==============================] - 143s 548ms/step - loss: 4.4290 - val_loss: 4.1396\n",
      "Epoch 2/50\n",
      "232/232 [==============================] - 124s 534ms/step - loss: 4.0133 - val_loss: 3.8564\n",
      "Epoch 3/50\n",
      "232/232 [==============================] - 124s 536ms/step - loss: 3.7293 - val_loss: 3.6271\n",
      "Epoch 4/50\n",
      "232/232 [==============================] - 124s 534ms/step - loss: 3.5059 - val_loss: 3.4480\n",
      "Epoch 5/50\n",
      "232/232 [==============================] - 125s 537ms/step - loss: 3.3318 - val_loss: 3.3125\n",
      "Epoch 6/50\n",
      "232/232 [==============================] - 125s 538ms/step - loss: 3.1972 - val_loss: 3.2203\n",
      "Epoch 7/50\n",
      "232/232 [==============================] - 123s 531ms/step - loss: 3.0829 - val_loss: 3.1410\n",
      "Epoch 8/50\n",
      "232/232 [==============================] - 124s 534ms/step - loss: 2.9840 - val_loss: 3.0776\n",
      "Epoch 9/50\n",
      "232/232 [==============================] - 124s 533ms/step - loss: 2.8975 - val_loss: 3.0217\n",
      "Epoch 10/50\n",
      "232/232 [==============================] - 124s 534ms/step - loss: 2.8191 - val_loss: 2.9862\n",
      "Epoch 11/50\n",
      "232/232 [==============================] - 123s 532ms/step - loss: 2.7497 - val_loss: 2.9446\n",
      "Epoch 12/50\n",
      "232/232 [==============================] - 123s 531ms/step - loss: 2.6858 - val_loss: 2.9190\n",
      "Epoch 13/50\n",
      "232/232 [==============================] - 124s 532ms/step - loss: 2.6276 - val_loss: 2.9014\n",
      "Epoch 14/50\n",
      "232/232 [==============================] - 123s 532ms/step - loss: 2.5742 - val_loss: 2.8761\n",
      "Epoch 15/50\n",
      "232/232 [==============================] - 124s 533ms/step - loss: 2.5251 - val_loss: 2.8556\n",
      "Epoch 16/50\n",
      "232/232 [==============================] - 123s 532ms/step - loss: 2.4798 - val_loss: 2.8423\n",
      "Epoch 17/50\n",
      "232/232 [==============================] - 124s 533ms/step - loss: 2.4360 - val_loss: 2.8308\n",
      "Epoch 18/50\n",
      "232/232 [==============================] - 123s 532ms/step - loss: 2.3958 - val_loss: 2.8308\n",
      "Epoch 19/50\n",
      "232/232 [==============================] - 124s 533ms/step - loss: 2.3578 - val_loss: 2.8134\n",
      "Epoch 20/50\n",
      "232/232 [==============================] - 123s 531ms/step - loss: 2.3227 - val_loss: 2.8140\n",
      "Epoch 21/50\n",
      "232/232 [==============================] - 124s 533ms/step - loss: 2.2881 - val_loss: 2.8068\n",
      "Epoch 22/50\n",
      "232/232 [==============================] - 124s 533ms/step - loss: 2.2569 - val_loss: 2.8125\n",
      "Epoch 23/50\n",
      "232/232 [==============================] - 124s 533ms/step - loss: 2.2262 - val_loss: 2.7997\n",
      "Epoch 24/50\n",
      "232/232 [==============================] - 126s 542ms/step - loss: 2.1981 - val_loss: 2.8001\n",
      "Epoch 25/50\n",
      "232/232 [==============================] - 125s 539ms/step - loss: 2.1692 - val_loss: 2.8009\n",
      "Epoch 00025: early stopping\n"
     ]
    }
   ],
   "source": [
    "# 훈련진행\n",
    "model.compile(optimizer='rmsprop', loss='sparse_categorical_crossentropy')\n",
    "es = EarlyStopping(monitor='val_loss', patience=2, verbose=1)\n",
    "history = model.fit(x=[encoder_input_train, decoder_input_train], y=decoder_target_train, \\\n",
    "          validation_data=([encoder_input_test, decoder_input_test], decoder_target_test), \\\n",
    "          batch_size=256, callbacks=[es], epochs=50)"
   ]
  },
  {
   "cell_type": "code",
   "execution_count": 42,
   "id": "90b6867b",
   "metadata": {},
   "outputs": [
    {
     "data": {
      "image/png": "[encoded data removed]",
      "text/plain": [
       "<Figure size 432x288 with 1 Axes>"
      ]
     },
     "metadata": {
      "needs_background": "light"
     },
     "output_type": "display_data"
    }
   ],
   "source": [
    "# 훈련 데이터의 손실과 검증 데이터의 손실이 줄어드는 과정을 시각화하기\n",
    "plt.plot(history.history['loss'], label='train')\n",
    "plt.plot(history.history['val_loss'], label='test')\n",
    "plt.legend()\n",
    "plt.show()"
   ]
  },
  {
   "cell_type": "markdown",
   "id": "0b5413a3",
   "metadata": {},
   "source": [
    "## 5) 인퍼런스 모델 구현하기"
   ]
  },
  {
   "cell_type": "code",
   "execution_count": 43,
   "id": "787d69f0",
   "metadata": {},
   "outputs": [],
   "source": [
    "src_index_to_word = src_tokenizer.index_word # 원문 단어 집합에서 정수 -> 단어를 얻음\n",
    "tar_word_to_index = tar_tokenizer.word_index # 요약 단어 집합에서 단어 -> 정수를 얻음\n",
    "tar_index_to_word = tar_tokenizer.index_word # 요약 단어 집합에서 정수 -> 단어를 얻음"
   ]
  },
  {
   "cell_type": "code",
   "execution_count": 44,
   "id": "de149765",
   "metadata": {},
   "outputs": [],
   "source": [
    "# 인코더 설계\n",
    "encoder_model = Model(inputs=encoder_inputs, outputs=[encoder_outputs, state_h, state_c])\n",
    "\n",
    "# 이전 시점의 상태들을 저장하는 텐서\n",
    "decoder_state_input_h = Input(shape=(hidden_size,))\n",
    "decoder_state_input_c = Input(shape=(hidden_size,))\n",
    "\n",
    "dec_emb2 = dec_emb_layer(decoder_inputs)\n",
    "\n",
    "# 문장의 다음 단어를 예측하기 위해서 초기 상태(initial_state)를 이전 시점의 상태로 사용. 이는 뒤의 함수 decode_sequence()에 구현\n",
    "# 훈련 과정에서와 달리 LSTM의 리턴하는 은닉 상태와 셀 상태인 state_h와 state_c를 버리지 않음.\n",
    "decoder_outputs2, state_h2, state_c2 = decoder_lstm(dec_emb2, initial_state=[decoder_state_input_h, decoder_state_input_c])"
   ]
  },
  {
   "cell_type": "code",
   "execution_count": 45,
   "id": "d1fecc99",
   "metadata": {},
   "outputs": [],
   "source": [
    "# 어텐션 함수\n",
    "decoder_hidden_state_input = Input(shape=(text_max_len, hidden_size))\n",
    "attn_out_inf = attn_layer([decoder_outputs2, decoder_hidden_state_input])\n",
    "decoder_inf_concat = Concatenate(axis=-1, name='concat')([decoder_outputs2, attn_out_inf])\n",
    "\n",
    "# 디코더의 출력층\n",
    "decoder_outputs2 = decoder_softmax_layer(decoder_inf_concat) \n",
    "\n",
    "# 최종 디코더 모델\n",
    "decoder_model = Model(\n",
    "    [decoder_inputs] + [decoder_hidden_state_input,decoder_state_input_h, decoder_state_input_c],\n",
    "    [decoder_outputs2] + [state_h2, state_c2])"
   ]
  },
  {
   "cell_type": "code",
   "execution_count": 46,
   "id": "43e1f65f",
   "metadata": {},
   "outputs": [],
   "source": [
    "def decode_sequence(input_seq):\n",
    "    # 입력으로부터 인코더의 상태를 얻음\n",
    "    e_out, e_h, e_c = encoder_model.predict(input_seq)\n",
    "\n",
    "     # <SOS>에 해당하는 토큰 생성\n",
    "    target_seq = np.zeros((1,1))\n",
    "    target_seq[0, 0] = tar_word_to_index['sostoken']\n",
    "\n",
    "    stop_condition = False\n",
    "    decoded_sentence = ''\n",
    "    while not stop_condition: # stop_condition이 True가 될 때까지 루프 반복\n",
    "\n",
    "        output_tokens, h, c = decoder_model.predict([target_seq] + [e_out, e_h, e_c])\n",
    "        sampled_token_index = np.argmax(output_tokens[0, -1, :])\n",
    "        sampled_token = tar_index_to_word[sampled_token_index]\n",
    "\n",
    "        if (sampled_token!='eostoken'):\n",
    "            decoded_sentence += ' '+sampled_token\n",
    "\n",
    "        #  <eos>에 도달하거나 최대 길이를 넘으면 중단.\n",
    "        if (sampled_token == 'eostoken'  or len(decoded_sentence.split()) >= (headlines_max_len-1)):\n",
    "            stop_condition = True\n",
    "\n",
    "        # 길이가 1인 타겟 시퀀스를 업데이트\n",
    "        target_seq = np.zeros((1,1))\n",
    "        target_seq[0, 0] = sampled_token_index\n",
    "\n",
    "        # 상태를 업데이트 합니다.\n",
    "        e_h, e_c = h, c\n",
    "\n",
    "    return decoded_sentence"
   ]
  },
  {
   "cell_type": "markdown",
   "id": "cf47586b",
   "metadata": {},
   "source": [
    "# Step 4. 실제 결과와 요약문 비교하기 (추상적 요약)\n",
    "## 6) 모델 테스트"
   ]
  },
  {
   "cell_type": "code",
   "execution_count": 47,
   "id": "9e1f1305",
   "metadata": {},
   "outputs": [],
   "source": [
    "# 원문의 정수 시퀀스를 텍스트 시퀀스로 변환\n",
    "def seq2text(input_seq):\n",
    "    temp=''\n",
    "    for i in input_seq:\n",
    "        if (i!=0):\n",
    "            temp = temp + src_index_to_word[i]+' '\n",
    "    return temp\n",
    "\n",
    "# 요약문의 정수 시퀀스를 텍스트 시퀀스로 변환\n",
    "def seq2summary(input_seq):\n",
    "    temp=''\n",
    "    for i in input_seq:\n",
    "        if ((i!=0 and i!=tar_word_to_index['sostoken']) and i!=tar_word_to_index['eostoken']):\n",
    "            temp = temp + tar_index_to_word[i] + ' '\n",
    "    return temp"
   ]
  },
  {
   "cell_type": "code",
   "execution_count": 48,
   "id": "50d6bd19",
   "metadata": {},
   "outputs": [
    {
     "name": "stdout",
     "output_type": "stream",
     "text": [
      "원문 : iran saturday announced production new defence missile amid ongoing tensions us missile reportedly target fighter planes unmanned aerial vehicles cruise missiles helicopters notably us last week imposed new economic sanctions iran ballistic missile program saying country violating spirit nuclear deal \n",
      "실제 요약 : iran announces new defence missile amid with us \n",
      "예측 요약 :  iran to missile missile\n",
      "\n",
      "\n",
      "원문 : nitin former chief operating officer homegrown commerce startup flipkart joined us based technology services firm previously served international managing director country head india follow co founder take ceo role said blog post \n",
      "실제 요약 : former flipkart joins as its ceo \n",
      "예측 요약 :  former flipkart named as ceo\n",
      "\n",
      "\n",
      "원문 : following release first look prabhas starrer twitter users compared poster hollywood film runner featuring ryan also pointed backdrop posters original runner film copy team commented user expected lot read another comment \n",
      "실제 요약 : twitter users look to poster \n",
      "예측 요약 :  first look poster of sushant starrer released\n",
      "\n",
      "\n",
      "원문 : three midnight sessions parliament conducted since india independence first session marking country independence british two sessions held commemorate silver india independence celebrate years freedom centre hold special midnight meeting gst \n",
      "실제 요약 : how many parliament took place at since \n",
      "예측 요약 :  india to independence day in independence\n",
      "\n",
      "\n",
      "원문 : inaugural team odi league feature icc full members winner world cricket league championship team play four home four away series three matches three years league direct qualification towards world cup held india \n",
      "실제 요약 : how will icc new team odi league be played \n",
      "예측 요약 :  india beat to win their odi series\n",
      "\n",
      "\n",
      "원문 : american airlines group united holdings aviation agreed pay crore developer world trade center new york developer accused airlines negligence failing prevent twin towers destruction hijacked planes around people died terror attack \n",
      "실제 요약 : us airlines to pay crore over terror attack claims \n",
      "예측 요약 :  united airlines to sell for crore\n",
      "\n",
      "\n",
      "원문 : tanushree saturday became first woman field officer year history bsf resident first woman join force officer rank selected india exam conducted also led passing parade officers \n",
      "실제 요약 : bsf gets first woman officer after years \n",
      "예측 요약 :  woman gives birth to woman at india st woman\n",
      "\n",
      "\n",
      "원문 : researchers developed organ chip models woman entire system including design contains models made human tissue model supplied blood full day cycle studies cancer drug testing among others \n",
      "실제 요약 : scientists female in \n",
      "예측 요약 :  skin to detect cancer\n",
      "\n",
      "\n",
      "원문 : amid controversy convicted terrorist getting invited dinner hosted canadian pm justin trudeau said unfair raise criminal conviction shooting incident notably three others convicted attempted murder visiting punjab minister singh sidhu canada \n",
      "실제 요약 : to raise old \n",
      "예측 요약 :  to attend pm modi\n",
      "\n",
      "\n",
      "원문 : first known appointment since forced resign uber ceo last june travis kalanick joining board friend medical office software startup called company based california raised million venture capital uber co founder helped pick successor dara khosrowshahi august \n",
      "실제 요약 : uber ceo joins health startup board \n",
      "예측 요약 :  uber ceo quits after years\n",
      "\n",
      "\n",
      "원문 : bajaj auto saturday said agreed japan end eight year old alliance sales services india april however bajaj continue maintain cooperative relationship across rest world bajaj alliance latter motorcycles network since \n",
      "실제 요약 : auto end year old alliance in india \n",
      "예측 요약 :  to launch in india\n",
      "\n",
      "\n",
      "원문 : swiss researchers developed based printing using living bacteria team used bacteria former break toxic produced chemical industry latter pain properties could used treatment burns \n",
      "실제 요약 : that may help made \n",
      "예측 요약 :  scientists develop to detect\n",
      "\n",
      "\n",
      "원문 : pakistan said released abdul ghani one co founders afghan taliban us request move aimed peace process end war afghanistan pakistan foreign affairs ministry spokesman mohammad said captured karachi \n",
      "실제 요약 : released afghan taliban co founder at us request pakistan \n",
      "예측 요약 :  pakistan to for pakistan\n",
      "\n",
      "\n",
      "원문 : known eyes function like telescope using focus light unlike animal eyes israel based study revealed square form images double separately focus central fields view said researchers \n",
      "실제 요약 : have that like study \n",
      "예측 요약 :  that can be made\n",
      "\n",
      "\n",
      "원문 : rajkummar rao confirmed star opposite aishwarya rai upcoming film khan aishwarya beautiful woman world great story lot love content detailed different said rao khan hindi adaptation dutch film everybody famous \n",
      "실제 요약 : rajkummar to star aishwarya in khan \n",
      "예측 요약 :  rajkummar rao to star in race\n",
      "\n",
      "\n",
      "원문 : actor ayushmann khurrana said pure singers stay nobody ever replace added actors singing character screen allowed notably ayushmann sang song da bollywood debut film vicky donor \n",
      "실제 요약 : can ever replace ayushmann \n",
      "예측 요약 :  will not be in ayushmann\n",
      "\n",
      "\n",
      "원문 : us congress authorised million pakistan activities supporting us operations afghanistan reports said pakistan would receive million upon certification us acting militant groups congress also urged us government ensure aid provided used minority groups \n",
      "실제 요약 : us congress approves million military aid to pakistan \n",
      "예측 요약 :  us military to pakistan\n",
      "\n",
      "\n",
      "원문 : reports claimed congress vice president rahul gandhi entered temple registering non hindu union minister bharti advised party president sonia gandhi rahul read meanwhile bjp spokesperson patra remarked rahul gandhi congress religion matter \n",
      "실제 요약 : sonia rahul gandhi to \n",
      "예측 요약 :  rahul gandhi is the of hindu rahul gandhi\n",
      "\n",
      "\n",
      "원문 : kerala government thursday sought around crore compensation centre damage caused recent floods state officials said state government sent memorandum home ministry giving details loss human life properties infrastructure crops people died due floods state nn \n",
      "실제 요약 : kerala seeks cr compensation from centre over floods \n",
      "예측 요약 :  kerala govt sanctions crore for flood relief\n",
      "\n",
      "\n",
      "원문 : actress basu denied rumours expecting first child husband karan singh grover married pregnant please end speculation said rumours actress pregnancy began spotted outside hospital mumbai husband karan \n",
      "실제 요약 : denies rumours of being pregnant with her st child \n",
      "예측 요약 :  am not pregnant woman on rumours\n",
      "\n",
      "\n",
      "원문 : bjp mp subramanian swamy tuesday tweeted violence union must also impose emergency article valley fire away remark came students security forces resorted stone pelting kashmir clashes erupted colleges universities opened week \n",
      "실제 요약 : emergency in and fire away swamy \n",
      "예측 요약 :  bjp mp swamy blames swamy for\n",
      "\n",
      "\n",
      "원문 : project called created based letters notes late singer inspiration created give inspiration said also created singer including david john cohen \n",
      "실제 요약 : singer into \n",
      "예측 요약 :  company makes to customers\n",
      "\n",
      "\n",
      "원문 : apple maps unveiled indoor airports across globe let users look inside check airport locations company primarily covered american airports airports hong kong amsterdam geneva london also included users also able use virtual assistant siri service \n",
      "실제 요약 : apple gets for over airports \n",
      "예측 요약 :  apple unveils flight that can be\n",
      "\n",
      "\n",
      "원문 : pakistan foreign affairs adviser said saturday given order consular access kulbhushan jadhav wrong say pakistan lost court stayed execution order consular access jadhav reported saying pakistani media notably pakistan denied requests consular access india case \n",
      "실제 요약 : did not order access to jadhav pak official \n",
      "예측 요약 :  pak to jadhav for jadhav\n",
      "\n",
      "\n",
      "원문 : studios head matthew joined social media major facebook lead global video content strategy planning announced post look forward working friends new role along many partners around globe said matthew stanford university university southern california graduate \n",
      "실제 요약 : head joins facebook as video content head \n",
      "예측 요약 :  facebook posts video of twitter\n",
      "\n",
      "\n",
      "원문 : astronomers found new evidence suggesting jet fast moving material one young star may triggered formation another images show younger lies path older however scientists studying younger star \n",
      "실제 요약 : star birth may have another star birth study \n",
      "예측 요약 :  study finds way to be auctioned\n",
      "\n",
      "\n",
      "원문 : gst anti authority found hindustan unilever guilty passing rate cut benefits crore consumers company asked deposit crore central state consumer welfare funds company already deposited crore however authority admitted hindustan unilever claim customers higher \n",
      "실제 요약 : fined cr for not gst \n",
      "예측 요약 :  gst to be into\n",
      "\n",
      "\n",
      "원문 : rcb cricketers ab de villiers shane watson virat kohli visited care centre mentally ill children bengaluru thursday de villiers posted picture trio alongside child twitter special time much learn happy small things life read part captain kohli instagram post \n",
      "실제 요약 : de kohli visit child centre for ill \n",
      "예측 요약 :  kohli to kohli bus to kids\n",
      "\n",
      "\n",
      "원문 : china codes homes muslims order get instant access personal details people living according human rights watch report move comes amid security crackdown minority community province meanwhile chinese authorities said codes help population control delivery services \n",
      "실제 요약 : china on of report \n",
      "예측 요약 :  china to provide anti muslim students\n",
      "\n",
      "\n",
      "원문 : talking film uri surgical strike gautam said people going indian flag theatres intensity response coming way talking success film said lot extremely happy good film done well \n",
      "실제 요약 : people to is \n",
      "예측 요약 :  people strike in day\n",
      "\n",
      "\n",
      "원문 : eight people believed illegal immigrants smuggled united states found dead inside trailer truck san antonio texas police officials also found others suffering bodies discovered officials led trailer man approached walmart employee asking water \n",
      "실제 요약 : illegal found dead inside truck in us \n",
      "예측 요약 :  us police find dead in mexico\n",
      "\n",
      "\n",
      "원문 : scientists reported discovery partial new species turkey sized dinosaur million year old rocks australia great valley existed australia antarctica said scientists species named late australian david \n",
      "실제 요약 : new turkey found in australia \n",
      "예측 요약 :  scientists find of the world oldest\n",
      "\n",
      "\n",
      "원문 : kkr captain dinesh karthik took instagram share comparing rajasthan royals captain ajinkya rahane ipl michael dismissal odi rahane ran poll along picture asking think karthik rahane said \n",
      "실제 요약 : to wicket \n",
      "예측 요약 :  thanks for not to\n",
      "\n",
      "\n",
      "원문 : russia shared picture shah rukh khan captioned meeting teenage king bollywood shah rukh khan wrote films kuch kuch hai le dil hai used make dream india presented award srk vogue awards \n",
      "실제 요약 : met my shah khan russian model \n",
      "예측 요약 :  picture of srk srk starrer released\n",
      "\n",
      "\n",
      "원문 : filmmaker apologised twitter fir lodged tweeting new uttar pradesh chief minister yogi adityanath apologise never meant hurt feelings said earlier tweeted adityanath could uttar pradesh cm dawood become cbi director \n",
      "실제 요약 : apologises for tweet on up cm yogi adityanath \n",
      "예측 요약 :  slams women for entry to yogi\n",
      "\n",
      "\n",
      "원문 : india norway agreed closely ocean economy achieve global sustainable development goals norway pm three day state visit central role united nations global peace security pm narendra modi stressed need reform international organisation \n",
      "실제 요약 : india to on economy \n",
      "예측 요약 :  india to launch in india in\n",
      "\n",
      "\n",
      "원문 : delhi chief minister arvind kejriwal blue car stolen near secretariat delhi thursday evening delhi police reportedly registered complaint investigating matter car dubbed used kejriwal since activist currently used aam aadmi party \n",
      "실제 요약 : cm kejriwal car stolen near delhi \n",
      "예측 요약 :  delhi cm kejriwal fined for fire\n",
      "\n",
      "\n",
      "원문 : probe conducted delhi cooperative revealed delhi bank spent lakh dry fruits around staff members according probe suppliers food items appear genuine since registered value added tax \n",
      "실제 요약 : delhi bank accused of fund over diwali \n",
      "예측 요약 :  cbi orders of delhi firm for\n",
      "\n",
      "\n",
      "원문 : ankita set make bollywood debut kangana ranaut manikarnika queen jhansi shared picture instagram wrote understand films shot debut people ask went film school tell went films wrote \n",
      "실제 요약 : did not of films till my debut \n",
      "예측 요약 :  kangana manikarnika manikarnika manikarnika\n",
      "\n",
      "\n",
      "원문 : alibaba backed paytm said invest crore next three years ramp banking financial services business paytm claims already crore last two years operations hope get final approval payments bank operations soon said paytm ceo vijay shekhar sharma \n",
      "실제 요약 : paytm to invest crore in financial services \n",
      "예측 요약 :  paytm parent invests crore in india\n",
      "\n",
      "\n",
      "원문 : year old girl allegedly committed suicide inside delhi police post mother claimed found hanging room three brothers locked another room police post victim mother alleged neighbour abducted adding wanted son marry daughter refused since minor \n",
      "실제 요약 : yr old girl commits suicide inside delhi police post \n",
      "예측 요약 :  delhi student kills self over affair with\n",
      "\n",
      "\n",
      "원문 : uk based researchers found ring galaxies expanding faster predicted einstein theory study claims milky way neighbouring galaxy came close range causing galaxies ring like mini big bang einstein theory correct two galaxies would never come close researcher added \n",
      "실제 요약 : new study on \n",
      "예측 요약 :  humans could be scientists\n",
      "\n",
      "\n",
      "원문 : many people injured race car fired burning fuel crowd racing event australia car fuel flames thrown fans incident red centre festival investigated police \n",
      "실제 요약 : race car fuel into injured \n",
      "예측 요약 :  car breaks out in blast at\n",
      "\n",
      "\n",
      "원문 : jet airways monday posted third straight quarterly net loss crore quarter ended september profit crore period year ago airline total sales grew crore suffering cash airline delayed employees salaries payments last months \n",
      "실제 요약 : jet airways posts its rd straight loss at crore \n",
      "예측 요약 :  jet airways posts crore loss in quarter\n",
      "\n",
      "\n",
      "원문 : indian spinner ravichandran ashwin international cricketer year award cricket rating international awards year old said india practice matches new zealand bangladesh form makes comeback indian cricket team ahead champions trophy \n",
      "실제 요약 : ashwin named best international cricketer of the year \n",
      "예측 요약 :  ashwin to be awarded india best award\n",
      "\n",
      "\n",
      "원문 : national green tribunal imposed crore fine delhi government taking action steel units operating residential areas tribunal directed government immediately shut units fall prohibited list industrial activity estimated units release yamuna river \n",
      "실제 요약 : delhi govt fined cr for against \n",
      "예측 요약 :  ngt imposes crore fine on property of property\n",
      "\n",
      "\n",
      "원문 : reacting rcb ab de villiers one handed catch body metres ground user tweeted ab de villiers human repeat human tweets read even forces gravity ab de villiers dear indian police need someone catch criminals still india \n",
      "실제 요약 : not human tweets user on one catch \n",
      "예측 요약 :  selfie with tweets user on\n",
      "\n",
      "\n",
      "원문 : senior bjp leader yashwant sinha along villagers tuesday arrested carrying march restricted route bjp ruled jharkhand last year imposed two groups last day ram muslim villagers reportedly objected ram procession certain parts \n",
      "실제 요약 : bjp held for carrying out march \n",
      "예측 요약 :  bjp leader held for to rss\n",
      "\n",
      "\n",
      "원문 : indian army finalised crore project range ammunition produced project aims enable forces fight day war cut imports reports said specific target next years terms volume ammunition produced officials said \n",
      "실제 요약 : army crore project to \n",
      "예측 요약 :  india crore project project\n",
      "\n",
      "\n",
      "원문 : dr appointed deputy director general programmes globally recognised researcher hiv daughter noted ms experience years care research year old also director general indian council medical research \n",
      "실제 요약 : who is who is nd highest post \n",
      "예측 요약 :  appoints as woman of the woman\n",
      "\n",
      "\n"
     ]
    }
   ],
   "source": [
    "for i in range(50, 100):\n",
    "    print(\"원문 :\", seq2text(encoder_input_test[i]))\n",
    "    print(\"실제 요약 :\", seq2summary(decoder_input_test[i]))\n",
    "    print(\"예측 요약 :\", decode_sequence(encoder_input_test[i].reshape(1, text_max_len)))\n",
    "    print(\"\\n\")"
   ]
  },
  {
   "cell_type": "markdown",
   "id": "5a8c79ec",
   "metadata": {},
   "source": [
    "- 실제요약과 예측요약에 비슷한 단어들이 주로 사용된 경우도 있고 완전 다른 형태로 요약된 경우들도 있다.\n",
    "- 실제요약과 예측요약 간의 차이를 확인해 봤을 때 잘 요약이 되지 않은 문장들도 확인된다."
   ]
  },
  {
   "cell_type": "markdown",
   "id": "77c45820",
   "metadata": {},
   "source": [
    "# Step 5. Summa을 이용해서 추출적 요약해보기\n",
    "## 1) 데이터 다운받기"
   ]
  },
  {
   "cell_type": "code",
   "execution_count": 49,
   "id": "d47c691c",
   "metadata": {},
   "outputs": [],
   "source": [
    "import requests\n",
    "from summa.summarizer import summarize"
   ]
  },
  {
   "cell_type": "code",
   "execution_count": 50,
   "id": "8a9043a3",
   "metadata": {},
   "outputs": [
    {
     "data": {
      "text/plain": [
       "0        Saurav Kant, an alumnus of upGrad and IIIT-B's...\n",
       "1        Kunal Shah's credit card bill payment platform...\n",
       "2        New Zealand defeated India by 8 wickets in the...\n",
       "3        With Aegon Life iTerm Insurance plan, customer...\n",
       "4        Speaking about the sexual harassment allegatio...\n",
       "                               ...                        \n",
       "98396    A CRPF jawan was on Tuesday axed to death with...\n",
       "98397    'Uff Yeh', the first song from the Sonakshi Si...\n",
       "98398    According to reports, a new version of the 199...\n",
       "98399    A new music video shows rapper Snoop Dogg aimi...\n",
       "98400    Madhesi Morcha, an alliance of seven political...\n",
       "Name: text, Length: 98401, dtype: object"
      ]
     },
     "execution_count": 50,
     "metadata": {},
     "output_type": "execute_result"
    }
   ],
   "source": [
    "data = pd.read_csv('news_summary_more.csv', encoding='iso-8859-1')\n",
    "data[\"text\"]"
   ]
  },
  {
   "cell_type": "markdown",
   "id": "7444e9e5",
   "metadata": {},
   "source": [
    "## 2) summarize 사용하기\n",
    "- text (str) : 요약할 테스트.\n",
    "- ratio (float, optional) – 요약문에서 원본에서 선택되는 문장 비율. 0~1 사이값\n",
    "- words (int or None, optional) – 출력에 포함할 단어 수.\n",
    "- 만약, ratio와 함께 두 파라미터가 모두 제공되는 경우 ratio는 무시한다.\n",
    "- split (bool, optional) – True면 문장 list / False는 조인(join)된 문자열을 반환"
   ]
  },
  {
   "cell_type": "code",
   "execution_count": 54,
   "id": "77e783f6",
   "metadata": {},
   "outputs": [
    {
     "name": "stdout",
     "output_type": "stream",
     "text": [
      "Summary:\n",
      "He added decisions like demonetisation and RERA have put a check on black money that used to be \"parked in the real estate sector\".\n"
     ]
    }
   ],
   "source": [
    "print('Summary:')\n",
    "print(summarize(data[\"text\"][i], ratio=0.5))"
   ]
  },
  {
   "cell_type": "code",
   "execution_count": 55,
   "id": "fa321dab",
   "metadata": {},
   "outputs": [
    {
     "name": "stdout",
     "output_type": "stream",
     "text": [
      "Summary:\n",
      "['He added decisions like demonetisation and RERA have put a check on black money that used to be \"parked in the real estate sector\".']\n"
     ]
    }
   ],
   "source": [
    "print('Summary:')\n",
    "print(summarize(data[\"text\"][i], ratio=0.5, split=True))"
   ]
  },
  {
   "cell_type": "code",
   "execution_count": 56,
   "id": "cd83b841",
   "metadata": {},
   "outputs": [
    {
     "name": "stdout",
     "output_type": "stream",
     "text": [
      "Summary:\n",
      "Prime Minister Narendra Modi on Wednesday said his government's demonetisation decision made houses affordable for the aspiring youth.\n",
      "He added decisions like demonetisation and RERA have put a check on black money that used to be \"parked in the real estate sector\".\n"
     ]
    }
   ],
   "source": [
    "print('Summary:')\n",
    "print(summarize(data[\"text\"][i], words=50))"
   ]
  },
  {
   "cell_type": "markdown",
   "id": "7540b01e",
   "metadata": {},
   "source": [
    "# 회고\n",
    "- 추상적 요약(Abstractive Summarization)과 추출적 요약(Extractive Summarization)을 배워봤는데 둘 다 중요하지만 더 높은 부가가치를 낼 수 있는 건 추상적 요약이 아닐까싶었다.\n",
    "- 다만 추상적 요약이 원하는 수준으로 작동하기 위해서는 더 많은 데이터와 학습이 필요하다고 생각한다.\n",
    "- 단지 요약 자체만 필요로 하는 경우라면 추출적 요약을 사용하는 것이 더 적합하지 않을까 싶다.\n",
    "- 그리고 영어 요약이여서 문장이 자연스러운지 정확히 구분하기 어려웠지만 번역기준으로 판단했을때 추출적 요약이 자연스러웠다."
   ]
  }
 ],
 "metadata": {
  "kernelspec": {
   "display_name": "Python 3 (ipykernel)",
   "language": "python",
   "name": "python3"
  },
  "language_info": {
   "codemirror_mode": {
    "name": "ipython",
    "version": 3
   },
   "file_extension": ".py",
   "mimetype": "text/x-python",
   "name": "python",
   "nbconvert_exporter": "python",
   "pygments_lexer": "ipython3",
   "version": "3.9.7"
  }
 },
 "nbformat": 4,
 "nbformat_minor": 5
}
