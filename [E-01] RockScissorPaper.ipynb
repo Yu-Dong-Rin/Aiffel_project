{
 "cells": [
  {
   "cell_type": "markdown",
   "id": "883819c3",
   "metadata": {},
   "source": [
    "# 미니 프로젝트 : Rock_Scissor_Paper"
   ]
  },
  {
   "cell_type": "markdown",
   "id": "c6d4a333",
   "metadata": {},
   "source": [
    "## PIL 라이브러리 불러오기"
   ]
  },
  {
   "cell_type": "code",
   "execution_count": 1,
   "id": "38a9686a",
   "metadata": {},
   "outputs": [
    {
     "name": "stdout",
     "output_type": "stream",
     "text": [
      "PIL 라이브러리 import 완료!\n"
     ]
    }
   ],
   "source": [
    "from PIL import Image\n",
    "import glob\n",
    "import os\n",
    "\n",
    "print(\"PIL 라이브러리 import 완료!\")"
   ]
  },
  {
   "cell_type": "markdown",
   "id": "860948e1",
   "metadata": {},
   "source": [
    "## 이미지 사이즈 변경"
   ]
  },
  {
   "cell_type": "markdown",
   "id": "ef66fe14",
   "metadata": {},
   "source": [
    "#### 가위 - 이미지의 크기 28x28로 변경하기"
   ]
  },
  {
   "cell_type": "code",
   "execution_count": 2,
   "id": "7716751d",
   "metadata": {},
   "outputs": [
    {
     "name": "stdout",
     "output_type": "stream",
     "text": [
      "100  images to be resized.\n",
      "100  images resized.\n",
      "가위 이미지 resize 완료!\n"
     ]
    }
   ],
   "source": [
    "import os\n",
    "def resize_images(img_path):\n",
    "    images=glob.glob(img_path + \"/*.jpg\")  \n",
    "    \n",
    "    print(len(images), \" images to be resized.\")\n",
    "\n",
    "    # 파일마다 모두 28x28 사이즈로 바꾸어 저장합니다.\n",
    "    target_size=(28,28)\n",
    "    for img in images:\n",
    "        old_img=Image.open(img)\n",
    "        new_img=old_img.resize(target_size,Image.ANTIALIAS)\n",
    "        new_img.save(img, \"JPEG\")\n",
    "    \n",
    "    print(len(images), \" images resized.\")\n",
    "\n",
    "# 가위 이미지가 저장된 디렉토리 아래의 모든 jpg 파일을 읽어들여서\n",
    "image_dir_path = os.getenv(\"HOME\") + \"/aiffel/rock_scissor_paper/scissor\"\n",
    "resize_images(image_dir_path)\n",
    "\n",
    "print(\"가위 이미지 resize 완료!\")"
   ]
  },
  {
   "cell_type": "markdown",
   "id": "7f59f6f0",
   "metadata": {},
   "source": [
    "#### 바위 - 이미지의 크기 28x28로 변경하기"
   ]
  },
  {
   "cell_type": "code",
   "execution_count": 3,
   "id": "cf2a6eb2",
   "metadata": {},
   "outputs": [
    {
     "name": "stdout",
     "output_type": "stream",
     "text": [
      "100  images to be resized.\n",
      "100  images resized.\n",
      "바위 이미지 resize 완료!\n"
     ]
    }
   ],
   "source": [
    "# 바위 이미지가 저장된 디렉토리 아래의 모든 jpg 파일을 읽어들여서\n",
    "image_dir_path = os.getenv(\"HOME\") + \"/aiffel/rock_scissor_paper/rock\"\n",
    "# 파일마다 모두 28x28 사이즈로 바꾸어 저장합니다\n",
    "resize_images(image_dir_path)\n",
    "\n",
    "print(\"바위 이미지 resize 완료!\")"
   ]
  },
  {
   "cell_type": "markdown",
   "id": "97f142ee",
   "metadata": {},
   "source": [
    "#### 보 - 이미지의 크기 28x28로 변경하기"
   ]
  },
  {
   "cell_type": "code",
   "execution_count": 4,
   "id": "b7ea163a",
   "metadata": {},
   "outputs": [
    {
     "name": "stdout",
     "output_type": "stream",
     "text": [
      "100  images to be resized.\n",
      "100  images resized.\n",
      "보 이미지 resize 완료!\n"
     ]
    }
   ],
   "source": [
    "# 보 이미지가 저장된 디렉토리 아래의 모든 jpg 파일을 읽어들여서\n",
    "image_dir_path = os.getenv(\"HOME\") + \"/aiffel/rock_scissor_paper/paper\"\n",
    "# 파일마다 모두 28x28 사이즈로 바꾸어 저장합니다\n",
    "resize_images(image_dir_path)\n",
    "\n",
    "print(\"보 이미지 resize 완료!\")"
   ]
  },
  {
   "cell_type": "markdown",
   "id": "154cd91e",
   "metadata": {},
   "source": [
    "## 데이터읽기 및 라벨링"
   ]
  },
  {
   "cell_type": "code",
   "execution_count": 5,
   "id": "6f041642",
   "metadata": {},
   "outputs": [
    {
     "name": "stdout",
     "output_type": "stream",
     "text": [
      "학습데이터(x_train)의 이미지 개수는 300 입니다.\n",
      "x_train shape: (300, 28, 28, 3)\n",
      "y_train shape: (300,)\n"
     ]
    }
   ],
   "source": [
    "import numpy as np\n",
    "\n",
    "def load_data(img_path, number_of_data=300):  # 가위바위보 이미지 개수 총합에 주의하세요.\n",
    "    # 가위 : 0, 바위 : 1, 보 : 2\n",
    "    img_size=28\n",
    "    color=3\n",
    "    #이미지 데이터와 라벨(가위 : 0, 바위 : 1, 보 : 2) 데이터를 담을 행렬(matrix) 영역을 생성합니다.\n",
    "    imgs=np.zeros(number_of_data*img_size*img_size*color,dtype=np.int32).reshape(number_of_data,img_size,img_size,color)\n",
    "    labels=np.zeros(number_of_data,dtype=np.int32)\n",
    "\n",
    "    idx=0\n",
    "    for file in glob.iglob(img_path+'/scissor/*.jpg'):\n",
    "        img = np.array(Image.open(file),dtype=np.int32)\n",
    "        imgs[idx,:,:,:]=img    # 데이터 영역에 이미지 행렬을 복사\n",
    "        labels[idx]=0   # 가위 : 0\n",
    "        idx=idx+1\n",
    "\n",
    "    for file in glob.iglob(img_path+'/rock/*.jpg'):\n",
    "        img = np.array(Image.open(file),dtype=np.int32)\n",
    "        imgs[idx,:,:,:]=img    # 데이터 영역에 이미지 행렬을 복사\n",
    "        labels[idx]=1   # 바위 : 1\n",
    "        idx=idx+1  \n",
    "    \n",
    "    for file in glob.iglob(img_path+'/paper/*.jpg'):\n",
    "        img = np.array(Image.open(file),dtype=np.int32)\n",
    "        imgs[idx,:,:,:]=img    # 데이터 영역에 이미지 행렬을 복사\n",
    "        labels[idx]=2   # 보 : 2\n",
    "        idx=idx+1\n",
    "        \n",
    "    print(\"학습데이터(x_train)의 이미지 개수는\", idx,\"입니다.\")\n",
    "    return imgs, labels\n",
    "\n",
    "image_dir_path = os.getenv(\"HOME\") + \"/aiffel/rock_scissor_paper\"\n",
    "(x_train, y_train)=load_data(image_dir_path)\n",
    "x_train_norm = x_train/255.0   # 입력은 0~1 사이의 값으로 정규화\n",
    "\n",
    "print(\"x_train shape: {}\".format(x_train.shape))\n",
    "print(\"y_train shape: {}\".format(y_train.shape))"
   ]
  },
  {
   "cell_type": "markdown",
   "id": "cd95460c",
   "metadata": {},
   "source": [
    "## 이미지 불러오기 (x_train[0])"
   ]
  },
  {
   "cell_type": "code",
   "execution_count": 6,
   "id": "211a03be",
   "metadata": {},
   "outputs": [
    {
     "name": "stdout",
     "output_type": "stream",
     "text": [
      "라벨:  0\n"
     ]
    },
    {
     "data": {
      "image/png": "[encoded data removed]",
      "text/plain": [
       "<Figure size 432x288 with 1 Axes>"
      ]
     },
     "metadata": {
      "needs_background": "light"
     },
     "output_type": "display_data"
    }
   ],
   "source": [
    "import matplotlib.pyplot as plt\n",
    "plt.imshow(x_train[0])\n",
    "print('라벨: ', y_train[0])"
   ]
  },
  {
   "cell_type": "markdown",
   "id": "cd4431a7",
   "metadata": {},
   "source": [
    "## 네트워크 설계하기\n",
    "### 모델 만들기"
   ]
  },
  {
   "cell_type": "code",
   "execution_count": 26,
   "id": "1df0036e",
   "metadata": {},
   "outputs": [
    {
     "name": "stdout",
     "output_type": "stream",
     "text": [
      "Model에 추가된 Layer 개수:  7\n",
      "Model: \"sequential_1\"\n",
      "_________________________________________________________________\n",
      "Layer (type)                 Output Shape              Param #   \n",
      "=================================================================\n",
      "conv2d_2 (Conv2D)            (None, 26, 26, 16)        448       \n",
      "_________________________________________________________________\n",
      "max_pooling2d_2 (MaxPooling2 (None, 13, 13, 16)        0         \n",
      "_________________________________________________________________\n",
      "conv2d_3 (Conv2D)            (None, 11, 11, 32)        4640      \n",
      "_________________________________________________________________\n",
      "max_pooling2d_3 (MaxPooling2 (None, 5, 5, 32)          0         \n",
      "_________________________________________________________________\n",
      "flatten_1 (Flatten)          (None, 800)               0         \n",
      "_________________________________________________________________\n",
      "dense_2 (Dense)              (None, 32)                25632     \n",
      "_________________________________________________________________\n",
      "dense_3 (Dense)              (None, 10)                330       \n",
      "=================================================================\n",
      "Total params: 31,050\n",
      "Trainable params: 31,050\n",
      "Non-trainable params: 0\n",
      "_________________________________________________________________\n"
     ]
    }
   ],
   "source": [
    "import tensorflow as tf\n",
    "from tensorflow import keras\n",
    "import numpy as np\n",
    "\n",
    "model=keras.models.Sequential()\n",
    "model.add(keras.layers.Conv2D(16, (3,3), activation='relu', input_shape=(28,28,3)))\n",
    "model.add(keras.layers.MaxPool2D(2,2))\n",
    "model.add(keras.layers.Conv2D(32, (3,3), activation='relu'))\n",
    "model.add(keras.layers.MaxPooling2D((2,2)))\n",
    "model.add(keras.layers.Flatten())\n",
    "model.add(keras.layers.Dense(32, activation='relu'))\n",
    "model.add(keras.layers.Dense(10, activation='softmax'))\n",
    "\n",
    "print('Model에 추가된 Layer 개수: ', len(model.layers))\n",
    "\n",
    "model.summary()"
   ]
  },
  {
   "cell_type": "markdown",
   "id": "977a9a52",
   "metadata": {},
   "source": [
    "## 네트워크 모델 학습시키기\n",
    "#### epochs 값은 10으로 지정하여 모델을 학습시킨다"
   ]
  },
  {
   "cell_type": "code",
   "execution_count": 23,
   "id": "a625feff",
   "metadata": {},
   "outputs": [
    {
     "name": "stdout",
     "output_type": "stream",
     "text": [
      "Epoch 1/15\n",
      "10/10 [==============================] - 0s 3ms/step - loss: 0.0052 - accuracy: 1.0000\n",
      "Epoch 2/15\n",
      "10/10 [==============================] - 0s 3ms/step - loss: 0.0040 - accuracy: 1.0000\n",
      "Epoch 3/15\n",
      "10/10 [==============================] - 0s 3ms/step - loss: 0.0024 - accuracy: 1.0000\n",
      "Epoch 4/15\n",
      "10/10 [==============================] - 0s 4ms/step - loss: 0.0023 - accuracy: 1.0000\n",
      "Epoch 5/15\n",
      "10/10 [==============================] - 0s 3ms/step - loss: 0.0053 - accuracy: 1.0000\n",
      "Epoch 6/15\n",
      "10/10 [==============================] - 0s 3ms/step - loss: 0.0068 - accuracy: 1.0000\n",
      "Epoch 7/15\n",
      "10/10 [==============================] - 0s 3ms/step - loss: 0.0022 - accuracy: 1.0000\n",
      "Epoch 8/15\n",
      "10/10 [==============================] - 0s 3ms/step - loss: 0.0016 - accuracy: 1.0000\n",
      "Epoch 9/15\n",
      "10/10 [==============================] - 0s 3ms/step - loss: 0.0014 - accuracy: 1.0000\n",
      "Epoch 10/15\n",
      "10/10 [==============================] - 0s 3ms/step - loss: 0.0011 - accuracy: 1.0000\n",
      "Epoch 11/15\n",
      "10/10 [==============================] - 0s 3ms/step - loss: 9.9097e-04 - accuracy: 1.0000\n",
      "Epoch 12/15\n",
      "10/10 [==============================] - 0s 3ms/step - loss: 8.9019e-04 - accuracy: 1.0000\n",
      "Epoch 13/15\n",
      "10/10 [==============================] - 0s 3ms/step - loss: 7.7577e-04 - accuracy: 1.0000\n",
      "Epoch 14/15\n",
      "10/10 [==============================] - 0s 3ms/step - loss: 7.2705e-04 - accuracy: 1.0000\n",
      "Epoch 15/15\n",
      "10/10 [==============================] - 0s 3ms/step - loss: 6.6372e-04 - accuracy: 1.0000\n"
     ]
    },
    {
     "data": {
      "text/plain": [
       "<keras.callbacks.History at 0x7faa6cd39670>"
      ]
     },
     "execution_count": 23,
     "metadata": {},
     "output_type": "execute_result"
    }
   ],
   "source": [
    "model.compile(optimizer='adam',\n",
    "             loss='sparse_categorical_crossentropy', #오류제거\n",
    "             metrics=['accuracy'])  #평가지표\n",
    "\n",
    "model.fit(x_train_norm, y_train, epochs=15)"
   ]
  },
  {
   "cell_type": "markdown",
   "id": "e0efd2e6",
   "metadata": {},
   "source": [
    "## 모델 성능 평가"
   ]
  },
  {
   "cell_type": "code",
   "execution_count": 24,
   "id": "0b5114dd",
   "metadata": {},
   "outputs": [
    {
     "name": "stdout",
     "output_type": "stream",
     "text": [
      "1500  images to be resized.\n",
      "1500  images resized.\n",
      "1500  images to be resized.\n",
      "1500  images resized.\n",
      "1500  images to be resized.\n",
      "1500  images resized.\n",
      "학습데이터(x_train)의 이미지 개수는 4500 입니다.\n",
      "x_test shape: (4500, 28, 28, 3)\n",
      "x_test_norm shape: (4500, 28, 28, 3)\n",
      "y_test shape: (4500,)\n"
     ]
    }
   ],
   "source": [
    "import os\n",
    "image_dir_path = os.getenv(\"HOME\") + \"/aiffel/rock_scissor_paper_test1/rock\" # 경로는 하위폴더로 설정\n",
    "resize_images(image_dir_path)  # 파일마다 모두 28x28 사이즈로 바꾸어 저장합니다\n",
    "image_dir_path = os.getenv(\"HOME\") + \"/aiffel/rock_scissor_paper_test1/scissor\"\n",
    "resize_images(image_dir_path)\n",
    "image_dir_path = os.getenv(\"HOME\") + \"/aiffel/rock_scissor_paper_test1/paper\"\n",
    "resize_images(image_dir_path)\n",
    "image_dir_path = os.getenv(\"HOME\") + \"/aiffel/rock_scissor_paper_test1\"\n",
    "(x_test, y_test)=load_data(image_dir_path, 4500)\n",
    "\n",
    "x_test_norm = x_test/255.0   # 입력은 0~1 사이의 값으로 정규화\n",
    "\n",
    "print(\"x_test shape: {}\".format(x_test.shape))\n",
    "print(\"x_test_norm shape: {}\".format(x_test_norm.shape))\n",
    "print(\"y_test shape: {}\".format(y_test.shape))"
   ]
  },
  {
   "cell_type": "markdown",
   "id": "e875b02c",
   "metadata": {},
   "source": [
    "## 학습 결과 확인\n",
    "### 정확도 확인"
   ]
  },
  {
   "cell_type": "code",
   "execution_count": 25,
   "id": "754e04ae",
   "metadata": {
    "scrolled": true
   },
   "outputs": [
    {
     "name": "stdout",
     "output_type": "stream",
     "text": [
      "141/141 - 0s - loss: 4.4992 - accuracy: 0.6078\n",
      "test_loss: 4.499218463897705 \n",
      "test_accuracy: 0.6077777743339539\n"
     ]
    }
   ],
   "source": [
    "test_loss, test_accuracy = model.evaluate(x_test_norm, y_test, verbose=2)\n",
    "print(\"test_loss: {} \".format(test_loss))\n",
    "print(\"test_accuracy: {}\".format(test_accuracy))"
   ]
  },
  {
   "cell_type": "markdown",
   "id": "3bf41cdf",
   "metadata": {},
   "source": [
    "# 회고"
   ]
  },
  {
   "cell_type": "markdown",
   "id": "f65d4bd3",
   "metadata": {},
   "source": [
    "### Aiffle에서 진행하는 첫 번째 프로젝트!!"
   ]
  },
  {
   "cell_type": "markdown",
   "id": "1b6fdbbc",
   "metadata": {},
   "source": [
    "#### 좋았던 점\n",
    "- 내가 직접 데이터를 생성해서 하다보니 신기했다\n",
    "- 다른 사람들과 오류가 발생하는 부분도 같이 해결하고 이런 방법을 사용하면 정확도가 조금 더 좋게 나온다 등등의 다양한 이야기를 나눌 수 있어서 좋았다."
   ]
  },
  {
   "cell_type": "markdown",
   "id": "fe82eedf",
   "metadata": {},
   "source": [
    "#### 어려운 점 & 알게된 점 & 개선하기 위해 했던 방법"
   ]
  },
  {
   "cell_type": "markdown",
   "id": "9f17b602",
   "metadata": {},
   "source": [
    "- 이번 프로젝트에서 어려웠던 점은 생각보다 결과가 너무 안좋아서 다른 해결방법을 찾아보는 것이 어려웠다.\n",
    "- 프로젝트를 진행하면서 알게된 점\n",
    "\n",
    "     1. 다른 사람의 가위바위보 자료를 가지고 와서 test해볼때 사이즈를 설정하는 부분에서 많이 오류가 났다. 그래서 자세히 보니 위에서 이미지 사이즈를 28x28로 변경했었는데 이번에 test하려고 가지고 온 사진에도 사이즈 변경하는 것이 필요하다는 것을 알게 되었다. 그리고 경로를 가장 하위 폴더로 해두어야 하는 데 경로를 잘 못 설정해서 더 더욱 오류가 났었다.\n",
    "     2. 그리고 처음에 데이트를 시켜보았을때 정확도가 33% 가 나왔다. 그래서 또 어떤 점이 문제인가 했더니 학습 데이터가 많을수록 인식률이 높아진다는 것을 알게 되었다. \n",
    "     \n",
    "- 이후 더 많은 양의 데이터로 정확도를 확인한 결과 60.78%까지 올라갈 수 있었다."
   ]
  },
  {
   "cell_type": "markdown",
   "id": "3fc96e37",
   "metadata": {},
   "source": [
    "### 마지막으로 다음에는 조금 더 다양한 방법으로 결과를 내보고 싶다!!"
   ]
  }
 ],
 "metadata": {
  "kernelspec": {
   "display_name": "Python 3 (ipykernel)",
   "language": "python",
   "name": "python3"
  },
  "language_info": {
   "codemirror_mode": {
    "name": "ipython",
    "version": 3
   },
   "file_extension": ".py",
   "mimetype": "text/x-python",
   "name": "python",
   "nbconvert_exporter": "python",
   "pygments_lexer": "ipython3",
   "version": "3.9.7"
  }
 },
 "nbformat": 4,
 "nbformat_minor": 5
}
