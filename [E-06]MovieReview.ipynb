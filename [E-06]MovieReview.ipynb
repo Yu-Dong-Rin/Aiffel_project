{
 "cells": [
  {
   "cell_type": "markdown",
   "id": "a17a01c3",
   "metadata": {},
   "source": [
    "# Exploration 6\n",
    "# 미니 프로젝트: 영화리뷰 텍스트 감성분석하기🎬🍿"
   ]
  },
  {
   "cell_type": "markdown",
   "id": "9b17a3f0",
   "metadata": {},
   "source": [
    "## 1. 데이터 준비"
   ]
  },
  {
   "cell_type": "code",
   "execution_count": 1,
   "id": "499eb8b1",
   "metadata": {},
   "outputs": [],
   "source": [
    "# 필요한 라이브러리 import\n",
    "import glob\n",
    "import os\n",
    "import re\n",
    "import numpy as np\n",
    "import pandas as pd\n",
    "\n",
    "from collections import Counter\n",
    "\n",
    "import urllib.request\n",
    "from konlpy.tag import Okt, Mecab\n",
    "\n",
    "import tensorflow as tf\n",
    "from tensorflow import keras\n",
    "from tensorflow.keras.preprocessing.text import Tokenizer\n",
    "from tensorflow.keras.preprocessing.sequence import pad_sequences\n",
    "from tensorflow.keras.initializers import Constant\n",
    "\n",
    "from gensim.models import KeyedVectors\n",
    "import gensim\n",
    "from sklearn.model_selection import train_test_split\n",
    "\n",
    "from keras.layers import Bidirectional, LSTM, GRU, Dense, Conv1D\n",
    "from keras.layers import Embedding, MaxPooling1D, GlobalMaxPooling1D\n",
    "from keras.layers import Dropout\n",
    "from keras.callbacks import EarlyStopping\n",
    "\n",
    "import seaborn as sns\n",
    "import matplotlib.pyplot as plt\n",
    "%matplotlib inline\n",
    "\n",
    "# 훈련 데이터, 테스트 데이터 준비\n",
    "train_data = pd.read_table('~/aiffel/Exploration6/sentiment_classification/data/ratings_train.txt')\n",
    "test_data = pd.read_table('~/aiffel/Exploration6/sentiment_classification/data/ratings_test.txt')"
   ]
  },
  {
   "cell_type": "markdown",
   "id": "30db7bee",
   "metadata": {},
   "source": [
    "#### Train Data 확인"
   ]
  },
  {
   "cell_type": "code",
   "execution_count": 2,
   "id": "da430fe5",
   "metadata": {},
   "outputs": [
    {
     "data": {
      "text/html": [
       "<div>\n",
       "<style scoped>\n",
       "    .dataframe tbody tr th:only-of-type {\n",
       "        vertical-align: middle;\n",
       "    }\n",
       "\n",
       "    .dataframe tbody tr th {\n",
       "        vertical-align: top;\n",
       "    }\n",
       "\n",
       "    .dataframe thead th {\n",
       "        text-align: right;\n",
       "    }\n",
       "</style>\n",
       "<table border=\"1\" class=\"dataframe\">\n",
       "  <thead>\n",
       "    <tr style=\"text-align: right;\">\n",
       "      <th></th>\n",
       "      <th>id</th>\n",
       "      <th>document</th>\n",
       "      <th>label</th>\n",
       "    </tr>\n",
       "  </thead>\n",
       "  <tbody>\n",
       "    <tr>\n",
       "      <th>0</th>\n",
       "      <td>9976970</td>\n",
       "      <td>아 더빙.. 진짜 짜증나네요 목소리</td>\n",
       "      <td>0</td>\n",
       "    </tr>\n",
       "    <tr>\n",
       "      <th>1</th>\n",
       "      <td>3819312</td>\n",
       "      <td>흠...포스터보고 초딩영화줄....오버연기조차 가볍지 않구나</td>\n",
       "      <td>1</td>\n",
       "    </tr>\n",
       "    <tr>\n",
       "      <th>2</th>\n",
       "      <td>10265843</td>\n",
       "      <td>너무재밓었다그래서보는것을추천한다</td>\n",
       "      <td>0</td>\n",
       "    </tr>\n",
       "    <tr>\n",
       "      <th>3</th>\n",
       "      <td>9045019</td>\n",
       "      <td>교도소 이야기구먼 ..솔직히 재미는 없다..평점 조정</td>\n",
       "      <td>0</td>\n",
       "    </tr>\n",
       "    <tr>\n",
       "      <th>4</th>\n",
       "      <td>6483659</td>\n",
       "      <td>사이몬페그의 익살스런 연기가 돋보였던 영화!스파이더맨에서 늙어보이기만 했던 커스틴 ...</td>\n",
       "      <td>1</td>\n",
       "    </tr>\n",
       "    <tr>\n",
       "      <th>5</th>\n",
       "      <td>5403919</td>\n",
       "      <td>막 걸음마 뗀 3세부터 초등학교 1학년생인 8살용영화.ㅋㅋㅋ...별반개도 아까움.</td>\n",
       "      <td>0</td>\n",
       "    </tr>\n",
       "  </tbody>\n",
       "</table>\n",
       "</div>"
      ],
      "text/plain": [
       "         id                                           document  label\n",
       "0   9976970                                아 더빙.. 진짜 짜증나네요 목소리      0\n",
       "1   3819312                  흠...포스터보고 초딩영화줄....오버연기조차 가볍지 않구나      1\n",
       "2  10265843                                  너무재밓었다그래서보는것을추천한다      0\n",
       "3   9045019                      교도소 이야기구먼 ..솔직히 재미는 없다..평점 조정      0\n",
       "4   6483659  사이몬페그의 익살스런 연기가 돋보였던 영화!스파이더맨에서 늙어보이기만 했던 커스틴 ...      1\n",
       "5   5403919      막 걸음마 뗀 3세부터 초등학교 1학년생인 8살용영화.ㅋㅋㅋ...별반개도 아까움.      0"
      ]
     },
     "execution_count": 2,
     "metadata": {},
     "output_type": "execute_result"
    }
   ],
   "source": [
    "train_data.head(6)"
   ]
  },
  {
   "cell_type": "markdown",
   "id": "47c6aa03",
   "metadata": {},
   "source": [
    "#### Test Data 확인"
   ]
  },
  {
   "cell_type": "code",
   "execution_count": 3,
   "id": "caab9fa5",
   "metadata": {},
   "outputs": [
    {
     "data": {
      "text/html": [
       "<div>\n",
       "<style scoped>\n",
       "    .dataframe tbody tr th:only-of-type {\n",
       "        vertical-align: middle;\n",
       "    }\n",
       "\n",
       "    .dataframe tbody tr th {\n",
       "        vertical-align: top;\n",
       "    }\n",
       "\n",
       "    .dataframe thead th {\n",
       "        text-align: right;\n",
       "    }\n",
       "</style>\n",
       "<table border=\"1\" class=\"dataframe\">\n",
       "  <thead>\n",
       "    <tr style=\"text-align: right;\">\n",
       "      <th></th>\n",
       "      <th>id</th>\n",
       "      <th>document</th>\n",
       "      <th>label</th>\n",
       "    </tr>\n",
       "  </thead>\n",
       "  <tbody>\n",
       "    <tr>\n",
       "      <th>0</th>\n",
       "      <td>6270596</td>\n",
       "      <td>굳 ㅋ</td>\n",
       "      <td>1</td>\n",
       "    </tr>\n",
       "    <tr>\n",
       "      <th>1</th>\n",
       "      <td>9274899</td>\n",
       "      <td>GDNTOPCLASSINTHECLUB</td>\n",
       "      <td>0</td>\n",
       "    </tr>\n",
       "    <tr>\n",
       "      <th>2</th>\n",
       "      <td>8544678</td>\n",
       "      <td>뭐야 이 평점들은.... 나쁘진 않지만 10점 짜리는 더더욱 아니잖아</td>\n",
       "      <td>0</td>\n",
       "    </tr>\n",
       "    <tr>\n",
       "      <th>3</th>\n",
       "      <td>6825595</td>\n",
       "      <td>지루하지는 않은데 완전 막장임... 돈주고 보기에는....</td>\n",
       "      <td>0</td>\n",
       "    </tr>\n",
       "    <tr>\n",
       "      <th>4</th>\n",
       "      <td>6723715</td>\n",
       "      <td>3D만 아니었어도 별 다섯 개 줬을텐데.. 왜 3D로 나와서 제 심기를 불편하게 하죠??</td>\n",
       "      <td>0</td>\n",
       "    </tr>\n",
       "    <tr>\n",
       "      <th>5</th>\n",
       "      <td>7898805</td>\n",
       "      <td>음악이 주가 된, 최고의 음악영화</td>\n",
       "      <td>1</td>\n",
       "    </tr>\n",
       "  </tbody>\n",
       "</table>\n",
       "</div>"
      ],
      "text/plain": [
       "        id                                           document  label\n",
       "0  6270596                                                굳 ㅋ      1\n",
       "1  9274899                               GDNTOPCLASSINTHECLUB      0\n",
       "2  8544678             뭐야 이 평점들은.... 나쁘진 않지만 10점 짜리는 더더욱 아니잖아      0\n",
       "3  6825595                   지루하지는 않은데 완전 막장임... 돈주고 보기에는....      0\n",
       "4  6723715  3D만 아니었어도 별 다섯 개 줬을텐데.. 왜 3D로 나와서 제 심기를 불편하게 하죠??      0\n",
       "5  7898805                                 음악이 주가 된, 최고의 음악영화      1"
      ]
     },
     "execution_count": 3,
     "metadata": {},
     "output_type": "execute_result"
    }
   ],
   "source": [
    "test_data.head(6)"
   ]
  },
  {
   "cell_type": "markdown",
   "id": "15379f1d",
   "metadata": {},
   "source": [
    "## 2. 데이터 로더 구성하기 \n",
    "\n",
    "### 1) 데이터 정제 ~ 세트 분리"
   ]
  },
  {
   "cell_type": "code",
   "execution_count": 4,
   "id": "29edf1ee",
   "metadata": {},
   "outputs": [],
   "source": [
    "tokenizer = Mecab()\n",
    "stopwords = ['의','가','이','은','들','는','좀','잘','걍','과','도','를','으로','자','에','와','한','하다']\n",
    "\n",
    "def load_data(train_data, test_data, num_words=10000):\n",
    "    train_data.drop_duplicates(subset=['document'], inplace=True) # 중복값 제거\n",
    "    train_data = train_data.dropna(how = 'any')  # NA값 제거\n",
    "    \n",
    "    test_data.drop_duplicates(subset=['document'], inplace=True) # 중복값 제거\n",
    "    test_data = test_data.dropna(how = 'any')  # NA값 제거 \n",
    "    \n",
    "    X_train = []\n",
    "    for sentence in train_data['document']:\n",
    "        temp_X = tokenizer.morphs(sentence) # 토큰화\n",
    "        temp_X = [word for word in temp_X if not word in stopwords] # 불용어 제거\n",
    "        X_train.append(temp_X)\n",
    "\n",
    "    X_test = []\n",
    "    for sentence in test_data['document']:\n",
    "        temp_X = tokenizer.morphs(sentence) # 토큰화\n",
    "        temp_X = [word for word in temp_X if not word in stopwords] # 불용어 제거\n",
    "        X_test.append(temp_X)\n",
    "    \n",
    "    words = np.concatenate(X_train).tolist()\n",
    "    counter = Counter(words)\n",
    "    counter = counter.most_common(10000-4)\n",
    "    vocab = ['<PAD>', '<BOS>', '<UNK>', '<UNUSED>'] + [key for key, _ in counter]\n",
    "    word_to_index = {word:index for index, word in enumerate(vocab)} # 딕셔너리에 {텍스트:인덱스} 구조로 저장\n",
    "        \n",
    "    def wordlist_to_indexlist(wordlist):\n",
    "        return [word_to_index[word] if word in word_to_index else word_to_index['<PAD>'] for word in wordlist]\n",
    "        \n",
    "    X_train = list(map(wordlist_to_indexlist, X_train))\n",
    "    X_test = list(map(wordlist_to_indexlist, X_test))\n",
    "        \n",
    "    return X_train, np.array(list(train_data['label'])), X_test, np.array(list(test_data['label'])), word_to_index"
   ]
  },
  {
   "cell_type": "code",
   "execution_count": 5,
   "id": "937fa5cf",
   "metadata": {},
   "outputs": [
    {
     "name": "stdout",
     "output_type": "stream",
     "text": [
      "훈련 샘플 개수: 146182, 테스트 개수: 49157\n"
     ]
    }
   ],
   "source": [
    "X_train, y_train, X_test, y_test, word_to_index = load_data(train_data, test_data)\n",
    "print(\"훈련 샘플 개수: {}, 테스트 개수: {}\".format(len(X_train), len(X_test)))"
   ]
  },
  {
   "cell_type": "markdown",
   "id": "b95ec855",
   "metadata": {},
   "source": [
    "### 2) 단어사전 만들기"
   ]
  },
  {
   "cell_type": "code",
   "execution_count": 6,
   "id": "de255b8a",
   "metadata": {},
   "outputs": [],
   "source": [
    "index_to_word = {index:word for word, index in word_to_index.items()}"
   ]
  },
  {
   "cell_type": "markdown",
   "id": "1cd03c1b",
   "metadata": {},
   "source": [
    "### 3) encode, decode"
   ]
  },
  {
   "cell_type": "code",
   "execution_count": 7,
   "id": "2fc0ceff",
   "metadata": {},
   "outputs": [],
   "source": [
    "# 문장 1개를 활용할 딕셔너리와 함께 주면, 단어 인덱스 리스트 벡터로 변환해 주는 함수입니다. \n",
    "# 단, 모든 문장은 <BOS>로 시작하는 것으로 합니다. \n",
    "def get_encoded_sentence(sentence, word_to_index):\n",
    "    return [word_to_index['<BOS>']]+[word_to_index[word] if word in word_to_index else word_to_index['<UNK>'] for word in sentence.split()]\n",
    "\n",
    "# 여러 개의 문장 리스트를 한꺼번에 단어 인덱스 리스트 벡터로 encode해 주는 함수입니다. \n",
    "def get_encoded_sentences(sentences, word_to_index):\n",
    "    return [get_encoded_sentence(sentence, word_to_index) for sentence in sentences]\n",
    "\n",
    "# 숫자 벡터로 encode된 문장을 원래대로 decode하는 함수입니다. \n",
    "def get_decoded_sentence(encoded_sentence, index_to_word):\n",
    "    return ' '.join(index_to_word[index] if index in index_to_word else '<UNK>' for index in encoded_sentence[1:])  #[1:]를 통해 <BOS>를 제외\n",
    "\n",
    "# 여러 개의 숫자 벡터로 encode된 문장을 한꺼번에 원래대로 decode하는 함수입니다. \n",
    "def get_decoded_sentences(encoded_sentences, index_to_word):\n",
    "    return [get_decoded_sentence(encoded_sentence, index_to_word) for encoded_sentence in encoded_sentences]"
   ]
  },
  {
   "cell_type": "code",
   "execution_count": 8,
   "id": "174d8b72",
   "metadata": {},
   "outputs": [
    {
     "name": "stdout",
     "output_type": "stream",
     "text": [
      "[32, 74, 919, 4, 4, 39, 228, 20, 33, 748]\n",
      "라벨:  0\n",
      "1번째 리뷰 문장 길이:  10\n",
      "2번째 리뷰 문장 길이:  17\n"
     ]
    }
   ],
   "source": [
    "print(X_train[0])  # 1번째 리뷰데이터\n",
    "print('라벨: ', y_train[0])  # 1번째 리뷰데이터의 라벨\n",
    "print('1번째 리뷰 문장 길이: ', len(X_train[0]))\n",
    "print('2번째 리뷰 문장 길이: ', len(X_train[1]))"
   ]
  },
  {
   "cell_type": "markdown",
   "id": "171e3e49",
   "metadata": {},
   "source": [
    "## 3. 모델 구성을 위한 데이터 분석 및 가공"
   ]
  },
  {
   "cell_type": "code",
   "execution_count": 9,
   "id": "2564704a",
   "metadata": {},
   "outputs": [
    {
     "name": "stdout",
     "output_type": "stream",
     "text": [
      "문장길이 평균 :  15.96940191154864\n",
      "문장길이 최대 :  116\n",
      "문장길이 표준편차 :  12.843571191092\n",
      "pad_sequences maxlen :  41\n",
      "전체 문장의 0.9342988343341575%가 maxlen 설정값 이내에 포함됩니다. \n"
     ]
    }
   ],
   "source": [
    "total_data_text = list(X_train) + list(X_test)\n",
    "# 텍스트데이터 문장길이의 리스트를 생성한 후\n",
    "num_tokens = [len(tokens) for tokens in total_data_text]\n",
    "num_tokens = np.array(num_tokens)\n",
    "# 문장길이의 평균값, 최대값, 표준편차를 계산\n",
    "print('문장길이 평균 : ', np.mean(num_tokens))\n",
    "print('문장길이 최대 : ', np.max(num_tokens))\n",
    "print('문장길이 표준편차 : ', np.std(num_tokens))\n",
    "\n",
    "# 예를들어, 최대 길이를 (평균 + 2*표준편차)로 지정 \n",
    "max_tokens = np.mean(num_tokens) + 2 * np.std(num_tokens)\n",
    "maxlen = int(max_tokens)\n",
    "print('pad_sequences maxlen : ', maxlen)\n",
    "print('전체 문장의 {}%가 maxlen 설정값 이내에 포함됩니다. '.format(np.sum(num_tokens < max_tokens) / len(num_tokens)))"
   ]
  },
  {
   "cell_type": "markdown",
   "id": "13accbfe",
   "metadata": {},
   "source": [
    "### post padding"
   ]
  },
  {
   "cell_type": "code",
   "execution_count": 10,
   "id": "07476ed4",
   "metadata": {},
   "outputs": [
    {
     "name": "stdout",
     "output_type": "stream",
     "text": [
      "(146182, 41)\n",
      "(49157, 41)\n"
     ]
    }
   ],
   "source": [
    "X_train = keras.preprocessing.sequence.pad_sequences(X_train,\n",
    "                                                        value=word_to_index['<PAD>'],\n",
    "                                                        padding='post',  #혹은 pre\n",
    "                                                        maxlen=maxlen)\n",
    "\n",
    "X_test = keras.preprocessing.sequence.pad_sequences(X_test,\n",
    "                                                       value=word_to_index['<PAD>'],\n",
    "                                                       padding='post',  #혹은 pre\n",
    "                                                       maxlen=maxlen)\n",
    "\n",
    "print(X_train.shape)\n",
    "print(X_test.shape)"
   ]
  },
  {
   "cell_type": "markdown",
   "id": "df1f7a4a",
   "metadata": {},
   "source": [
    "### validation set 준비"
   ]
  },
  {
   "cell_type": "code",
   "execution_count": 11,
   "id": "058315b4",
   "metadata": {},
   "outputs": [
    {
     "name": "stdout",
     "output_type": "stream",
     "text": [
      "(136182, 41)\n",
      "(136182,)\n"
     ]
    }
   ],
   "source": [
    "# 훈련 데이터 앞쪽 10000개 까지 validation set으로 사용\n",
    "x_val = X_train[:10000]   \n",
    "y_val = y_train[:10000]\n",
    "\n",
    "# validation set을 제외한 나머지는 모두 훈련 데이터로 사용\n",
    "partial_X_train = X_train[10000:]  \n",
    "partial_y_train = y_train[10000:]\n",
    "\n",
    "print(partial_X_train.shape)\n",
    "print(partial_y_train.shape)"
   ]
  },
  {
   "cell_type": "markdown",
   "id": "4052e363",
   "metadata": {},
   "source": [
    "## 4. 모델 및 validation set 활용"
   ]
  },
  {
   "cell_type": "markdown",
   "id": "82a6db4d",
   "metadata": {},
   "source": [
    "### 1. LSTM"
   ]
  },
  {
   "cell_type": "code",
   "execution_count": 12,
   "id": "4ecab9a6",
   "metadata": {},
   "outputs": [
    {
     "name": "stdout",
     "output_type": "stream",
     "text": [
      "Model: \"sequential\"\n",
      "_________________________________________________________________\n",
      "Layer (type)                 Output Shape              Param #   \n",
      "=================================================================\n",
      "embedding (Embedding)        (None, None, 16)          160000    \n",
      "_________________________________________________________________\n",
      "lstm (LSTM)                  (None, 8)                 800       \n",
      "_________________________________________________________________\n",
      "dense (Dense)                (None, 8)                 72        \n",
      "_________________________________________________________________\n",
      "dense_1 (Dense)              (None, 1)                 9         \n",
      "=================================================================\n",
      "Total params: 160,881\n",
      "Trainable params: 160,881\n",
      "Non-trainable params: 0\n",
      "_________________________________________________________________\n"
     ]
    }
   ],
   "source": [
    "# LSTM 모델 구성\n",
    "vocab_size = 10000\n",
    "word_vector_dim = 16\n",
    "\n",
    "model = keras.Sequential()\n",
    "model.add(keras.layers.Embedding(vocab_size, word_vector_dim, input_shape=(None,)))\n",
    "model.add(keras.layers.LSTM(8))\n",
    "model.add(keras.layers.Dense(8, activation='relu'))\n",
    "model.add(keras.layers.Dense(1, activation='sigmoid'))\n",
    "\n",
    "model.summary()"
   ]
  },
  {
   "cell_type": "code",
   "execution_count": 13,
   "id": "2fc06849",
   "metadata": {},
   "outputs": [
    {
     "name": "stdout",
     "output_type": "stream",
     "text": [
      "Epoch 1/5\n",
      "266/266 [==============================] - 15s 7ms/step - loss: 0.5967 - accuracy: 0.6688 - val_loss: 0.4288 - val_accuracy: 0.8347\n",
      "Epoch 2/5\n",
      "266/266 [==============================] - 1s 5ms/step - loss: 0.3637 - accuracy: 0.8472 - val_loss: 0.3419 - val_accuracy: 0.8521\n",
      "Epoch 3/5\n",
      "266/266 [==============================] - 1s 5ms/step - loss: 0.3235 - accuracy: 0.8635 - val_loss: 0.3420 - val_accuracy: 0.8511\n",
      "Epoch 4/5\n",
      "266/266 [==============================] - 1s 5ms/step - loss: 0.3101 - accuracy: 0.8699 - val_loss: 0.3438 - val_accuracy: 0.8493\n",
      "Epoch 5/5\n",
      "266/266 [==============================] - 1s 5ms/step - loss: 0.3024 - accuracy: 0.8733 - val_loss: 0.3414 - val_accuracy: 0.8509\n"
     ]
    }
   ],
   "source": [
    "# LSTM 모델 학습\n",
    "model.compile(optimizer='adam',\n",
    "             loss='binary_crossentropy',\n",
    "             metrics=['accuracy'])\n",
    "\n",
    "epochs=5\n",
    "\n",
    "history = model.fit(partial_X_train,\n",
    "                   partial_y_train,\n",
    "                   epochs=epochs,\n",
    "                   batch_size=512,\n",
    "                   validation_data=(x_val, y_val),\n",
    "                   verbose=1)"
   ]
  },
  {
   "cell_type": "code",
   "execution_count": 14,
   "id": "a42a8800",
   "metadata": {},
   "outputs": [
    {
     "name": "stdout",
     "output_type": "stream",
     "text": [
      "1537/1537 - 3s - loss: 0.3543 - accuracy: 0.8472\n",
      "[0.35432037711143494, 0.847163200378418]\n"
     ]
    }
   ],
   "source": [
    "# LSTM 모델 평가\n",
    "results = model.evaluate(X_test,  y_test, verbose=2)\n",
    "print(results)"
   ]
  },
  {
   "cell_type": "code",
   "execution_count": 15,
   "id": "3d00310e",
   "metadata": {},
   "outputs": [
    {
     "data": {
      "image/png": "[encoded data removed]",
      "text/plain": [
       "<Figure size 576x288 with 2 Axes>"
      ]
     },
     "metadata": {
      "needs_background": "light"
     },
     "output_type": "display_data"
    }
   ],
   "source": [
    "# Accuracy, Loss 그래프 시각화\n",
    "history_dict = history.history\n",
    "\n",
    "acc = history_dict['accuracy']\n",
    "val_acc = history_dict['val_accuracy']\n",
    "loss = history_dict['loss']\n",
    "val_loss = history_dict['val_loss']\n",
    "\n",
    "epochs = range(1, len(acc) + 1)\n",
    "\n",
    "# Accuracy 그래프\n",
    "plt.figure(figsize=(8, 4))\n",
    "plt.subplot(1, 2, 1)\n",
    "plt.plot(epochs, acc, label='Accuracy')\n",
    "plt.plot(epochs, val_acc, 'red', label='Val_Accuracy')\n",
    "plt.legend(loc='lower right')\n",
    "plt.title('Accuracy')\n",
    "plt.xlabel('Epochs')\n",
    "plt.ylabel('Accuracy')\n",
    "\n",
    "# Loss 그래프\n",
    "plt.subplot(1, 2, 2)\n",
    "plt.plot(epochs, loss, label='Loss')\n",
    "plt.plot(epochs, val_loss, 'red', label='Val_Loss')\n",
    "plt.legend(loc='upper right')\n",
    "plt.title('Loss')\n",
    "plt.xlabel('Epochs')\n",
    "plt.ylabel('Loss')\n",
    "plt.show()"
   ]
  },
  {
   "cell_type": "markdown",
   "id": "1ebbc6b1",
   "metadata": {},
   "source": [
    "### 2. cnn"
   ]
  },
  {
   "cell_type": "code",
   "execution_count": 16,
   "id": "fa9d3335",
   "metadata": {},
   "outputs": [
    {
     "name": "stdout",
     "output_type": "stream",
     "text": [
      "Model: \"sequential_1\"\n",
      "_________________________________________________________________\n",
      "Layer (type)                 Output Shape              Param #   \n",
      "=================================================================\n",
      "embedding_1 (Embedding)      (None, None, 16)          160000    \n",
      "_________________________________________________________________\n",
      "conv1d (Conv1D)              (None, None, 16)          784       \n",
      "_________________________________________________________________\n",
      "max_pooling1d (MaxPooling1D) (None, None, 16)          0         \n",
      "_________________________________________________________________\n",
      "conv1d_1 (Conv1D)            (None, None, 16)          784       \n",
      "_________________________________________________________________\n",
      "global_max_pooling1d (Global (None, 16)                0         \n",
      "_________________________________________________________________\n",
      "dense_2 (Dense)              (None, 8)                 136       \n",
      "_________________________________________________________________\n",
      "dense_3 (Dense)              (None, 1)                 9         \n",
      "=================================================================\n",
      "Total params: 161,713\n",
      "Trainable params: 161,713\n",
      "Non-trainable params: 0\n",
      "_________________________________________________________________\n"
     ]
    }
   ],
   "source": [
    "# CNN 모델 구성\n",
    "vocab_size = 10000\n",
    "word_vector_dim = 16\n",
    "\n",
    "model = keras.Sequential()\n",
    "model.add(keras.layers.Embedding(vocab_size, word_vector_dim, input_shape=(None,)))\n",
    "model.add(keras.layers.Conv1D(16, 3, activation='relu'))\n",
    "model.add(keras.layers.MaxPooling1D(5))\n",
    "model.add(keras.layers.Conv1D(16, 3, activation='relu'))\n",
    "model.add(keras.layers.GlobalMaxPooling1D())\n",
    "model.add(keras.layers.Dense(8, activation='relu'))\n",
    "model.add(keras.layers.Dense(1, activation='sigmoid'))\n",
    "\n",
    "model.summary()"
   ]
  },
  {
   "cell_type": "code",
   "execution_count": 17,
   "id": "84f6577a",
   "metadata": {},
   "outputs": [
    {
     "name": "stdout",
     "output_type": "stream",
     "text": [
      "Epoch 1/5\n",
      "266/266 [==============================] - 12s 6ms/step - loss: 0.4891 - accuracy: 0.7559 - val_loss: 0.3482 - val_accuracy: 0.8479\n",
      "Epoch 2/5\n",
      "266/266 [==============================] - 1s 4ms/step - loss: 0.3230 - accuracy: 0.8632 - val_loss: 0.3372 - val_accuracy: 0.8516\n",
      "Epoch 3/5\n",
      "266/266 [==============================] - 1s 4ms/step - loss: 0.2886 - accuracy: 0.8810 - val_loss: 0.3353 - val_accuracy: 0.8537\n",
      "Epoch 4/5\n",
      "266/266 [==============================] - 1s 4ms/step - loss: 0.2603 - accuracy: 0.8955 - val_loss: 0.3436 - val_accuracy: 0.8525\n",
      "Epoch 5/5\n",
      "266/266 [==============================] - 1s 5ms/step - loss: 0.2336 - accuracy: 0.9087 - val_loss: 0.3583 - val_accuracy: 0.8496\n"
     ]
    }
   ],
   "source": [
    "# CNN 모델 학습\n",
    "model.compile(optimizer='adam',\n",
    "             loss='binary_crossentropy',\n",
    "             metrics=['accuracy'])\n",
    "            \n",
    "epochs=5\n",
    "\n",
    "history = model.fit(partial_X_train,\n",
    "                   partial_y_train,\n",
    "                   epochs=epochs,\n",
    "                   batch_size=512,\n",
    "                   validation_data=(x_val, y_val),\n",
    "                   verbose=1)"
   ]
  },
  {
   "cell_type": "code",
   "execution_count": 18,
   "id": "7c5de7a5",
   "metadata": {},
   "outputs": [
    {
     "name": "stdout",
     "output_type": "stream",
     "text": [
      "1537/1537 - 2s - loss: 0.3649 - accuracy: 0.8495\n",
      "[0.3649132549762726, 0.8495229482650757]\n"
     ]
    }
   ],
   "source": [
    "# CNN 모델 평가\n",
    "results = model.evaluate(X_test,  y_test, verbose=2)\n",
    "print(results)"
   ]
  },
  {
   "cell_type": "code",
   "execution_count": 19,
   "id": "e157f68a",
   "metadata": {},
   "outputs": [
    {
     "data": {
      "image/png": "[encoded data removed]",
      "text/plain": [
       "<Figure size 576x288 with 2 Axes>"
      ]
     },
     "metadata": {
      "needs_background": "light"
     },
     "output_type": "display_data"
    }
   ],
   "source": [
    "# Accuracy, Loss 그래프 시각화\n",
    "history_dict = history.history\n",
    "acc = history_dict['accuracy']\n",
    "val_acc = history_dict['val_accuracy']\n",
    "loss = history_dict['loss']\n",
    "val_loss = history_dict['val_loss']\n",
    "\n",
    "epochs = range(1, len(acc) + 1)\n",
    "\n",
    "# Accuracy 그래프\n",
    "plt.figure(figsize=(8, 4))\n",
    "plt.subplot(1, 2, 1)\n",
    "plt.plot(epochs, acc, label='Accuracy')\n",
    "plt.plot(epochs, val_acc, 'red', label='Val_Accuracy')\n",
    "plt.legend(loc='lower right')\n",
    "plt.title('Accuracy')\n",
    "plt.xlabel('Epochs')\n",
    "plt.ylabel('Accuracy')\n",
    "\n",
    "# Loss 그래프\n",
    "plt.subplot(1, 2, 2)\n",
    "plt.plot(epochs, loss, label='Loss')\n",
    "plt.plot(epochs, val_loss, 'red', label='Val_Loss')\n",
    "plt.legend(loc='upper right')\n",
    "plt.title('Loss')\n",
    "plt.xlabel('Epochs')\n",
    "plt.ylabel('Loss')\n",
    "plt.show()"
   ]
  },
  {
   "cell_type": "markdown",
   "id": "bc23f34d",
   "metadata": {},
   "source": [
    "### 3. GlobalMaxPooling1D"
   ]
  },
  {
   "cell_type": "code",
   "execution_count": 20,
   "id": "c45f066d",
   "metadata": {},
   "outputs": [
    {
     "name": "stdout",
     "output_type": "stream",
     "text": [
      "Model: \"sequential_2\"\n",
      "_________________________________________________________________\n",
      "Layer (type)                 Output Shape              Param #   \n",
      "=================================================================\n",
      "embedding_2 (Embedding)      (None, None, 16)          160000    \n",
      "_________________________________________________________________\n",
      "global_max_pooling1d_1 (Glob (None, 16)                0         \n",
      "_________________________________________________________________\n",
      "dense_4 (Dense)              (None, 8)                 136       \n",
      "_________________________________________________________________\n",
      "dense_5 (Dense)              (None, 1)                 9         \n",
      "=================================================================\n",
      "Total params: 160,145\n",
      "Trainable params: 160,145\n",
      "Non-trainable params: 0\n",
      "_________________________________________________________________\n"
     ]
    }
   ],
   "source": [
    "# GlobalMaxPooling1D 모델 구성\n",
    "vocab_size = 10000\n",
    "word_vector_dim = 16\n",
    "\n",
    "model = keras.Sequential()\n",
    "model.add(keras.layers.Embedding(vocab_size, word_vector_dim, input_shape=(None,)))\n",
    "model.add(keras.layers.GlobalMaxPooling1D())\n",
    "model.add(keras.layers.Dense(8, activation='relu'))\n",
    "model.add(keras.layers.Dense(1, activation='sigmoid'))\n",
    "\n",
    "model.summary()"
   ]
  },
  {
   "cell_type": "code",
   "execution_count": 21,
   "id": "2e36e369",
   "metadata": {},
   "outputs": [
    {
     "name": "stdout",
     "output_type": "stream",
     "text": [
      "Epoch 1/5\n",
      "266/266 [==============================] - 1s 4ms/step - loss: 0.5740 - accuracy: 0.7431 - val_loss: 0.4192 - val_accuracy: 0.8247\n",
      "Epoch 2/5\n",
      "266/266 [==============================] - 1s 3ms/step - loss: 0.3729 - accuracy: 0.8417 - val_loss: 0.3541 - val_accuracy: 0.8444\n",
      "Epoch 3/5\n",
      "266/266 [==============================] - 1s 3ms/step - loss: 0.3238 - accuracy: 0.8635 - val_loss: 0.3448 - val_accuracy: 0.8464\n",
      "Epoch 4/5\n",
      "266/266 [==============================] - 1s 3ms/step - loss: 0.2972 - accuracy: 0.8772 - val_loss: 0.3457 - val_accuracy: 0.8468\n",
      "Epoch 5/5\n",
      "266/266 [==============================] - 1s 3ms/step - loss: 0.2770 - accuracy: 0.8869 - val_loss: 0.3492 - val_accuracy: 0.8465\n"
     ]
    }
   ],
   "source": [
    "# GlobalMaxPooling1D 모델 학습\n",
    "model.compile(optimizer='adam',\n",
    "             loss='binary_crossentropy',\n",
    "             metrics=['accuracy'])\n",
    "            \n",
    "epochs=5\n",
    "\n",
    "history = model.fit(partial_X_train,\n",
    "                   partial_y_train,\n",
    "                   epochs=epochs,\n",
    "                   batch_size=512,\n",
    "                   validation_data=(x_val, y_val),\n",
    "                   verbose=1)"
   ]
  },
  {
   "cell_type": "code",
   "execution_count": 22,
   "id": "fffaa3aa",
   "metadata": {},
   "outputs": [
    {
     "name": "stdout",
     "output_type": "stream",
     "text": [
      "1537/1537 - 2s - loss: 0.3625 - accuracy: 0.8444\n",
      "[0.3624735176563263, 0.8443762063980103]\n"
     ]
    }
   ],
   "source": [
    "# GlobalMaxPooling1D 모델 평가\n",
    "results = model.evaluate(X_test,  y_test, verbose=2)\n",
    "print(results)"
   ]
  },
  {
   "cell_type": "code",
   "execution_count": 23,
   "id": "5a5da393",
   "metadata": {},
   "outputs": [
    {
     "data": {
      "image/png": "[encoded data removed]",
      "text/plain": [
       "<Figure size 576x288 with 2 Axes>"
      ]
     },
     "metadata": {
      "needs_background": "light"
     },
     "output_type": "display_data"
    }
   ],
   "source": [
    "# Accuracy, Loss 그래프 시각화\n",
    "history_dict = history.history\n",
    "acc = history_dict['accuracy']\n",
    "val_acc = history_dict['val_accuracy']\n",
    "loss = history_dict['loss']\n",
    "val_loss = history_dict['val_loss']\n",
    "\n",
    "epochs = range(1, len(acc) + 1)\n",
    "\n",
    "# Accuracy 그래프\n",
    "plt.figure(figsize=(8, 4))\n",
    "plt.subplot(1, 2, 1)\n",
    "plt.plot(epochs, acc, label='Accuracy')\n",
    "plt.plot(epochs, val_acc, 'red', label='Val_Accuracy')\n",
    "plt.legend(loc='lower right')\n",
    "plt.title('Accuracy')\n",
    "plt.xlabel('Epochs')\n",
    "plt.ylabel('Accuracy')\n",
    "\n",
    "# Loss 그래프\n",
    "plt.subplot(1, 2, 2)\n",
    "plt.plot(epochs, loss, label='Loss')\n",
    "plt.plot(epochs, val_loss, 'red', label='Val_Loss')\n",
    "plt.legend(loc='upper right')\n",
    "plt.title('Loss')\n",
    "plt.xlabel('Epochs')\n",
    "plt.ylabel('Loss')\n",
    "plt.show()"
   ]
  },
  {
   "cell_type": "markdown",
   "id": "9aa155dc",
   "metadata": {},
   "source": [
    "## 5. Embedding 레이어 분석"
   ]
  },
  {
   "cell_type": "code",
   "execution_count": 24,
   "id": "fb1e3a98",
   "metadata": {},
   "outputs": [
    {
     "name": "stdout",
     "output_type": "stream",
     "text": [
      "(10000, 16)\n"
     ]
    }
   ],
   "source": [
    "from gensim.models.keyedvectors import Word2VecKeyedVectors\n",
    "\n",
    "embedding_layer = model.layers[0]\n",
    "weights = embedding_layer.get_weights()[0]\n",
    "print(weights.shape)        # shape: (vocab_size, embedding_dim)"
   ]
  },
  {
   "cell_type": "code",
   "execution_count": 25,
   "id": "65ac5393",
   "metadata": {},
   "outputs": [],
   "source": [
    "# 학습한 Embedding 파라미터를 파일에 써서 저장합니다. \n",
    "word2vec_file_path = os.getenv('HOME')+'/aiffel/Exploration6/sentiment_classification/word2vec.txt'\n",
    "f = open(word2vec_file_path, 'w')\n",
    "f.write('{} {}\\n'.format(vocab_size-4, word_vector_dim))\n",
    "\n",
    "# 단어 개수(에서 특수문자 4개는 제외하고)만큼의 워드 벡터를 파일에 기록\n",
    "vectors = model.get_weights()[0]\n",
    "for i in range(4,vocab_size):\n",
    "    f.write('{} {}\\n'.format(index_to_word[i], ' '.join(map(str, list(vectors[i, :])))))\n",
    "f.close()"
   ]
  },
  {
   "cell_type": "code",
   "execution_count": 26,
   "id": "6db939d9",
   "metadata": {},
   "outputs": [
    {
     "data": {
      "text/plain": [
       "[('낙', 0.8900185823440552),\n",
       " ('살렸', 0.8714560270309448),\n",
       " ('톰크루즈', 0.865547776222229),\n",
       " ('고요', 0.8635779023170471),\n",
       " ('떠오르', 0.8628420829772949),\n",
       " ('그나저나', 0.8183773756027222),\n",
       " ('충분히', 0.8172945976257324),\n",
       " ('이사', 0.8170075416564941),\n",
       " ('학생', 0.8155779838562012),\n",
       " ('루이스', 0.8132802248001099)]"
      ]
     },
     "execution_count": 26,
     "metadata": {},
     "output_type": "execute_result"
    }
   ],
   "source": [
    "word_vectors = Word2VecKeyedVectors.load_word2vec_format(word2vec_file_path, binary=False)\n",
    "word_vectors.similar_by_word(\"사랑\")"
   ]
  },
  {
   "cell_type": "markdown",
   "id": "b239cf14",
   "metadata": {},
   "source": [
    "## 6. 한국어 Word2Vec 임베딩 활용하여 성능 개선"
   ]
  },
  {
   "cell_type": "code",
   "execution_count": 27,
   "id": "2962862c",
   "metadata": {},
   "outputs": [
    {
     "data": {
      "text/plain": [
       "'3.8.3'"
      ]
     },
     "execution_count": 27,
     "metadata": {},
     "output_type": "execute_result"
    }
   ],
   "source": [
    "# gensim 패키지 버전 확인\n",
    "import gensim\n",
    "gensim.__version__"
   ]
  },
  {
   "cell_type": "code",
   "execution_count": 28,
   "id": "d45d38d3",
   "metadata": {},
   "outputs": [
    {
     "data": {
      "text/plain": [
       "[('슬픔', 0.7216662764549255),\n",
       " ('행복', 0.6759077310562134),\n",
       " ('절망', 0.6468985080718994),\n",
       " ('기쁨', 0.6458414196968079),\n",
       " ('이별', 0.6334798336029053),\n",
       " ('추억', 0.6320937275886536),\n",
       " ('인생', 0.6216273307800293),\n",
       " ('애정', 0.6206069588661194),\n",
       " ('연인', 0.6186063289642334),\n",
       " ('유혹', 0.5965287685394287)]"
      ]
     },
     "execution_count": 28,
     "metadata": {},
     "output_type": "execute_result"
    }
   ],
   "source": [
    "# 한국어 Word2Vec 파일 불러와 ko_model에 저장하기\n",
    "word2vec_path = os.getenv('HOME')+'/aiffel/Exploration6/sentiment_classification/data/ko.bin'\n",
    "ko_model = gensim.models.Word2Vec.load(word2vec_path)\n",
    "from gensim.models import KeyedVectors\n",
    "\n",
    "# 유사한 단어와 유사도 확인\n",
    "ko_model.wv.most_similar(\"사랑\")"
   ]
  },
  {
   "cell_type": "code",
   "execution_count": 29,
   "id": "127d8e5b",
   "metadata": {},
   "outputs": [
    {
     "name": "stderr",
     "output_type": "stream",
     "text": [
      "/tmp/ipykernel_121/4192617215.py:1: DeprecationWarning: Call to deprecated `__getitem__` (Method will be removed in 4.0.0, use self.wv.__getitem__() instead).\n",
      "  ko_model['사랑'].shape\n"
     ]
    },
    {
     "data": {
      "text/plain": [
       "(200,)"
      ]
     },
     "execution_count": 29,
     "metadata": {},
     "output_type": "execute_result"
    }
   ],
   "source": [
    "ko_model['사랑'].shape"
   ]
  },
  {
   "cell_type": "markdown",
   "id": "27303a31",
   "metadata": {},
   "source": [
    "### ⛳️각 모델 별 성능 개선 확인\n",
    "- 이제 한국어 Word2Vec을 사용해서 이전의 모델을 다시 학습시키고 평가한다."
   ]
  },
  {
   "cell_type": "code",
   "execution_count": 30,
   "id": "d322851e",
   "metadata": {},
   "outputs": [
    {
     "name": "stderr",
     "output_type": "stream",
     "text": [
      "/tmp/ipykernel_121/3755042905.py:9: DeprecationWarning: Call to deprecated `__contains__` (Method will be removed in 4.0.0, use self.wv.__contains__() instead).\n",
      "  if index_to_word[i] in ko_model:\n",
      "/tmp/ipykernel_121/3755042905.py:10: DeprecationWarning: Call to deprecated `__getitem__` (Method will be removed in 4.0.0, use self.wv.__getitem__() instead).\n",
      "  embedding_matrix[i] = ko_model[index_to_word[i]]\n"
     ]
    }
   ],
   "source": [
    "vocab_size = 10000     # 단어 사전의 크기(10,000개의 단어)\n",
    "word_vector_dim = 200  # 워드 벡터의 차원 수\n",
    "\n",
    "# 사전학습된 임베딩 레이어의 차원 수 그대로 따라가는 것이 좋다\n",
    "embedding_matrix = np.random.rand(vocab_size, word_vector_dim)\n",
    "\n",
    "#embedding_matrix에 Word2Vec 워드벡터를 단어 하나씩 순서대로 카피\n",
    "for i in range(4,vocab_size):\n",
    "    if index_to_word[i] in ko_model:\n",
    "        embedding_matrix[i] = ko_model[index_to_word[i]]"
   ]
  },
  {
   "cell_type": "markdown",
   "id": "7c4822fb",
   "metadata": {},
   "source": [
    "### 1. LSTM"
   ]
  },
  {
   "cell_type": "code",
   "execution_count": 31,
   "id": "df8361c3",
   "metadata": {},
   "outputs": [
    {
     "name": "stdout",
     "output_type": "stream",
     "text": [
      "Model: \"sequential_3\"\n",
      "_________________________________________________________________\n",
      "Layer (type)                 Output Shape              Param #   \n",
      "=================================================================\n",
      "embedding_3 (Embedding)      (None, 41, 200)           2000000   \n",
      "_________________________________________________________________\n",
      "lstm_1 (LSTM)                (None, 8)                 6688      \n",
      "_________________________________________________________________\n",
      "dense_6 (Dense)              (None, 4)                 36        \n",
      "_________________________________________________________________\n",
      "dense_7 (Dense)              (None, 1)                 5         \n",
      "=================================================================\n",
      "Total params: 2,006,729\n",
      "Trainable params: 2,006,729\n",
      "Non-trainable params: 0\n",
      "_________________________________________________________________\n"
     ]
    }
   ],
   "source": [
    "model_lstm = keras.Sequential()\n",
    "\n",
    "model_lstm.add(keras.layers.Embedding(vocab_size, word_vector_dim, embeddings_initializer=Constant(embedding_matrix), \n",
    "                                  input_length=maxlen, trainable=True))\n",
    "model_lstm.add(keras.layers.LSTM(8))          \n",
    "model_lstm.add(keras.layers.Dense(4, activation='relu'))\n",
    "model_lstm.add(keras.layers.Dense(1, activation='sigmoid'))\n",
    "         \n",
    "model_lstm.summary()"
   ]
  },
  {
   "cell_type": "code",
   "execution_count": 32,
   "id": "eecc9f98",
   "metadata": {},
   "outputs": [
    {
     "name": "stdout",
     "output_type": "stream",
     "text": [
      "Epoch 1/5\n",
      "1064/1064 [==============================] - 8s 6ms/step - loss: 0.5817 - accuracy: 0.6387 - val_loss: 0.3741 - val_accuracy: 0.8385\n",
      "Epoch 2/5\n",
      "1064/1064 [==============================] - 6s 6ms/step - loss: 0.3492 - accuracy: 0.8516 - val_loss: 0.3433 - val_accuracy: 0.8517\n",
      "Epoch 3/5\n",
      "1064/1064 [==============================] - 6s 5ms/step - loss: 0.3098 - accuracy: 0.8704 - val_loss: 0.3335 - val_accuracy: 0.8570\n",
      "Epoch 4/5\n",
      "1064/1064 [==============================] - 6s 5ms/step - loss: 0.2869 - accuracy: 0.8814 - val_loss: 0.3371 - val_accuracy: 0.8556\n",
      "Epoch 5/5\n",
      "1064/1064 [==============================] - 6s 5ms/step - loss: 0.2681 - accuracy: 0.8915 - val_loss: 0.3387 - val_accuracy: 0.8585\n"
     ]
    }
   ],
   "source": [
    "model_lstm.compile(optimizer='Adam', loss='binary_crossentropy', metrics=['accuracy'])\n",
    "epochs_lstm=5\n",
    "history_lstm = model_lstm.fit(partial_X_train,\n",
    "                    partial_y_train,\n",
    "                    epochs=epochs_lstm,\n",
    "                    batch_size=128,\n",
    "                    validation_data=(x_val, y_val),\n",
    "                    verbose=1)"
   ]
  },
  {
   "cell_type": "code",
   "execution_count": 33,
   "id": "6f93bed8",
   "metadata": {},
   "outputs": [
    {
     "name": "stdout",
     "output_type": "stream",
     "text": [
      "1537/1537 - 3s - loss: 0.3485 - accuracy: 0.8544\n",
      "[0.34851518273353577, 0.8544459342956543]\n"
     ]
    }
   ],
   "source": [
    "results = model_lstm.evaluate(X_test, y_test, verbose=2)\n",
    "\n",
    "print(results)"
   ]
  },
  {
   "cell_type": "markdown",
   "id": "6762bce6",
   "metadata": {},
   "source": [
    "### 2. CNN"
   ]
  },
  {
   "cell_type": "code",
   "execution_count": 34,
   "id": "3bd84e8f",
   "metadata": {},
   "outputs": [
    {
     "name": "stdout",
     "output_type": "stream",
     "text": [
      "Model: \"sequential_4\"\n",
      "_________________________________________________________________\n",
      "Layer (type)                 Output Shape              Param #   \n",
      "=================================================================\n",
      "embedding_4 (Embedding)      (None, 41, 200)           2000000   \n",
      "_________________________________________________________________\n",
      "conv1d_2 (Conv1D)            (None, 39, 32)            19232     \n",
      "_________________________________________________________________\n",
      "max_pooling1d_1 (MaxPooling1 (None, 7, 32)             0         \n",
      "_________________________________________________________________\n",
      "conv1d_3 (Conv1D)            (None, 5, 16)             1552      \n",
      "_________________________________________________________________\n",
      "global_max_pooling1d_2 (Glob (None, 16)                0         \n",
      "_________________________________________________________________\n",
      "dense_8 (Dense)              (None, 8)                 136       \n",
      "_________________________________________________________________\n",
      "dense_9 (Dense)              (None, 1)                 9         \n",
      "=================================================================\n",
      "Total params: 2,020,929\n",
      "Trainable params: 2,020,929\n",
      "Non-trainable params: 0\n",
      "_________________________________________________________________\n"
     ]
    }
   ],
   "source": [
    "# CNN\n",
    "model_cnn = keras.Sequential()\n",
    "\n",
    "model_cnn.add(keras.layers.Embedding(vocab_size, word_vector_dim, embeddings_initializer=Constant(embedding_matrix),\n",
    "                                 input_length=maxlen, trainable=True))\n",
    "model_cnn.add(keras.layers.Conv1D(32, 3, activation='relu'))\n",
    "model_cnn.add(keras.layers.MaxPooling1D(5))\n",
    "model_cnn.add(keras.layers.Conv1D(16, 3, activation='relu'))\n",
    "model_cnn.add(keras.layers.GlobalMaxPooling1D())\n",
    "model_cnn.add(keras.layers.Dense(8, activation='relu'))\n",
    "model_cnn.add(keras.layers.Dense(1, activation='sigmoid')) \n",
    "\n",
    "model_cnn.summary()"
   ]
  },
  {
   "cell_type": "code",
   "execution_count": 35,
   "id": "b7e44d23",
   "metadata": {},
   "outputs": [
    {
     "name": "stdout",
     "output_type": "stream",
     "text": [
      "Epoch 1/5\n",
      "1064/1064 [==============================] - 6s 5ms/step - loss: 0.4685 - accuracy: 0.7701 - val_loss: 0.3856 - val_accuracy: 0.8231\n",
      "Epoch 2/5\n",
      "1064/1064 [==============================] - 5s 5ms/step - loss: 0.3362 - accuracy: 0.8546 - val_loss: 0.3361 - val_accuracy: 0.8515\n",
      "Epoch 3/5\n",
      "1064/1064 [==============================] - 5s 5ms/step - loss: 0.2953 - accuracy: 0.8753 - val_loss: 0.3352 - val_accuracy: 0.8519\n",
      "Epoch 4/5\n",
      "1064/1064 [==============================] - 5s 5ms/step - loss: 0.2686 - accuracy: 0.8883 - val_loss: 0.3373 - val_accuracy: 0.8564\n",
      "Epoch 5/5\n",
      "1064/1064 [==============================] - 5s 5ms/step - loss: 0.2440 - accuracy: 0.9009 - val_loss: 0.3428 - val_accuracy: 0.8534\n"
     ]
    }
   ],
   "source": [
    "model_cnn.compile(optimizer='Adam', loss='binary_crossentropy', metrics=['accuracy'])\n",
    "epochs_cnn=5\n",
    "history_cnn = model_cnn.fit(partial_X_train,\n",
    "                    partial_y_train,\n",
    "                    epochs=epochs_cnn,\n",
    "                    batch_size=128,\n",
    "                    validation_data=(x_val, y_val),\n",
    "                    verbose=1)"
   ]
  },
  {
   "cell_type": "code",
   "execution_count": 36,
   "id": "c681572a",
   "metadata": {},
   "outputs": [
    {
     "name": "stdout",
     "output_type": "stream",
     "text": [
      "1537/1537 - 3s - loss: 0.3553 - accuracy: 0.8506\n",
      "[0.35526230931282043, 0.8505604267120361]\n"
     ]
    }
   ],
   "source": [
    "results2 = model_cnn.evaluate(X_test, y_test, verbose=2)\n",
    "\n",
    "print(results2)"
   ]
  },
  {
   "cell_type": "markdown",
   "id": "c157390d",
   "metadata": {},
   "source": [
    "### 3. GlobalMaxPooling1D"
   ]
  },
  {
   "cell_type": "code",
   "execution_count": 37,
   "id": "8a02d61d",
   "metadata": {},
   "outputs": [
    {
     "name": "stdout",
     "output_type": "stream",
     "text": [
      "Model: \"sequential_5\"\n",
      "_________________________________________________________________\n",
      "Layer (type)                 Output Shape              Param #   \n",
      "=================================================================\n",
      "embedding_5 (Embedding)      (None, 41, 200)           2000000   \n",
      "_________________________________________________________________\n",
      "global_max_pooling1d_3 (Glob (None, 200)               0         \n",
      "_________________________________________________________________\n",
      "dense_10 (Dense)             (None, 8)                 1608      \n",
      "_________________________________________________________________\n",
      "dense_11 (Dense)             (None, 1)                 9         \n",
      "=================================================================\n",
      "Total params: 2,001,617\n",
      "Trainable params: 2,001,617\n",
      "Non-trainable params: 0\n",
      "_________________________________________________________________\n"
     ]
    }
   ],
   "source": [
    "model_gmp = keras.Sequential()\n",
    "\n",
    "model_gmp.add(keras.layers.Embedding(vocab_size, word_vector_dim, embeddings_initializer=Constant(embedding_matrix),\n",
    "                                 input_length=maxlen, trainable=True))\n",
    "model_gmp.add(keras.layers.GlobalMaxPooling1D())\n",
    "model_gmp.add(keras.layers.Dense(8, activation='relu'))\n",
    "model_gmp.add(keras.layers.Dense(1, activation='sigmoid')) \n",
    "\n",
    "model_gmp.summary()"
   ]
  },
  {
   "cell_type": "code",
   "execution_count": 38,
   "id": "f017a186",
   "metadata": {},
   "outputs": [
    {
     "name": "stdout",
     "output_type": "stream",
     "text": [
      "Epoch 1/5\n",
      "2128/2128 [==============================] - 8s 3ms/step - loss: 0.5447 - accuracy: 0.7163 - val_loss: 0.4642 - val_accuracy: 0.7804\n",
      "Epoch 2/5\n",
      "2128/2128 [==============================] - 7s 3ms/step - loss: 0.4262 - accuracy: 0.8026 - val_loss: 0.4149 - val_accuracy: 0.8088\n",
      "Epoch 3/5\n",
      "2128/2128 [==============================] - 7s 3ms/step - loss: 0.3778 - accuracy: 0.8313 - val_loss: 0.4002 - val_accuracy: 0.8174\n",
      "Epoch 4/5\n",
      "2128/2128 [==============================] - 7s 3ms/step - loss: 0.3445 - accuracy: 0.8501 - val_loss: 0.3919 - val_accuracy: 0.8225\n",
      "Epoch 5/5\n",
      "2128/2128 [==============================] - 7s 3ms/step - loss: 0.3177 - accuracy: 0.8640 - val_loss: 0.3818 - val_accuracy: 0.8316\n"
     ]
    }
   ],
   "source": [
    "model_gmp.compile(optimizer='Adam', loss='binary_crossentropy', metrics=['accuracy'])\n",
    "epochs_gmp=5\n",
    "history_gmp = model_gmp.fit(partial_X_train,\n",
    "                    partial_y_train,\n",
    "                    epochs=epochs_gmp,\n",
    "                    batch_size=64,\n",
    "                    validation_data=(x_val, y_val),\n",
    "                    verbose=1)"
   ]
  },
  {
   "cell_type": "code",
   "execution_count": 39,
   "id": "7d2b4c3d",
   "metadata": {},
   "outputs": [
    {
     "name": "stdout",
     "output_type": "stream",
     "text": [
      "1537/1537 - 2s - loss: 0.3904 - accuracy: 0.8294\n",
      "[0.39035338163375854, 0.8294240832328796]\n"
     ]
    }
   ],
   "source": [
    "results3 = model_gmp.evaluate(X_test, y_test, verbose=2)\n",
    "\n",
    "print(results3)"
   ]
  },
  {
   "cell_type": "markdown",
   "id": "61b8de84",
   "metadata": {},
   "source": [
    "# 🔥프로젝트 결과🔥\n",
    "1. LSTM -> 한국어 Word2Vec 임베딩 전 84.72% / 임베딩 후 85.44%\n",
    "\n",
    "2. CNN -> 한국어 Word2Vec 임베딩 전 84.95% / 임베딩 후 85.06%\n",
    "\n",
    "3. GlobalMaxPooling1D -> 한국어 Word2Vec 임베딩 전 84.44% / 임베딩 후 82.94%"
   ]
  },
  {
   "cell_type": "markdown",
   "id": "2cf3efd7",
   "metadata": {},
   "source": [
    "# 회고\n",
    "1. 어려웠던 점: 정확도 85%가 생각보다 잘 안나와서 85% 맞추는게 힘들었다.\n",
    "2. 알게 된 점: gensim을 사용해서 유사어를 출력했을 때 전혀 관련이 없는 단어들이 많이 출력되었다. gensim은 한국어와는 잘 맞지 않는 라이브러리가 아닐까 하는 생각이 든다."
   ]
  },
  {
   "cell_type": "markdown",
   "id": "a63bd496",
   "metadata": {},
   "source": [
    "# 이번 노드하면서...\n",
    "Exploration을 진행하면서 역시 자연어...\n",
    "\n",
    "하면 할수록 자연어는 지쳐가는것 같다.\n",
    "\n",
    "그래도 마지막에 결과를 딱 보면 \"휴 오늘도 자연어 물리쳤다..\"약간 이런?\n",
    "\n",
    "다음에 자연어를 할때는 미리 자연어를 조금 더 공부 해야겠다.\n",
    "\n",
    "(그러면 좀 더 쉽게? 잘? 할 수 있을 것 같은 느낌이..)"
   ]
  }
 ],
 "metadata": {
  "kernelspec": {
   "display_name": "Python 3 (ipykernel)",
   "language": "python",
   "name": "python3"
  },
  "language_info": {
   "codemirror_mode": {
    "name": "ipython",
    "version": 3
   },
   "file_extension": ".py",
   "mimetype": "text/x-python",
   "name": "python",
   "nbconvert_exporter": "python",
   "pygments_lexer": "ipython3",
   "version": "3.9.7"
  }
 },
 "nbformat": 4,
 "nbformat_minor": 5
}
